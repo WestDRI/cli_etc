{
    "cells": [
	{
	    "cell_type": "markdown",
	    "metadata": {
		"slideshow": {
		    "slide_type": "slide"
		}
	    },
	    "source": [
		"# First things first: Git manual"
	    ]
	},
	{
	    "cell_type": "markdown",
	    "metadata": {
		"slideshow": {
		    "slide_type": "subslide"
		}
	    },
	    "source": [
		"## Man pages"
	    ]
	},
	{
	    "cell_type": "markdown",
	    "metadata": {
		"slideshow": {
		    "slide_type": "-"
		}
	    },
	    "source": [
		"You can access the *man page* for a git command with either of:"
	    ]
	},
	{
	    "cell_type": "code",
	    "execution_count": null,
	    "metadata": {},
	    "outputs": [],
	    "source": [
		"git <command> --help"
	    ]
	},
	{
	    "cell_type": "code",
	    "execution_count": null,
	    "metadata": {},
	    "outputs": [],
	    "source": [
		"git help <command>"
	    ]
	},
	{
	    "cell_type": "code",
	    "execution_count": null,
	    "metadata": {},
	    "outputs": [],
	    "source": [
		"man git-<command>"
	    ]
	},
	{
	    "cell_type": "markdown",
	    "metadata": {
		"slideshow": {
		    "slide_type": "subslide"
		}
	    },
	    "source": [
		"## Man pages"
	    ]
	},
	{
	    "cell_type": "markdown",
	    "metadata": {
		"slideshow": {
		    "slide_type": "-"
		}
	    },
	    "source": [
		"*Example:*"
	    ]
	},
	{
	    "cell_type": "code",
	    "execution_count": null,
	    "metadata": {},
	    "outputs": [],
	    "source": [
		"git commit --help"
	    ]
	},
	{
	    "cell_type": "code",
	    "execution_count": null,
	    "metadata": {},
	    "outputs": [],
	    "source": [
		"git help commit"
	    ]
	},
	{
	    "cell_type": "code",
	    "execution_count": null,
	    "metadata": {},
	    "outputs": [],
	    "source": [
		"man git-commit"
	    ]
	},
	{
	    "cell_type": "markdown",
	    "metadata": {
		"slideshow": {
		    "slide_type": "subslide"
		}
	    },
	    "source": [
		"## Command options"
	    ]
	},
	{
	    "cell_type": "markdown",
	    "metadata": {
		"slideshow": {
		    "slide_type": "slide"
		}
	    },
	    "source": [
		"# Git basic"
	    ]
	},
	{
	    "cell_type": "markdown",
	    "metadata": {},
	    "source": [
		"test `code` pour voir"
	    ]
	}
    ],
    "metadata": {
	"celltoolbar": "Slideshow",
	"kernelspec": {
	    "display_name": "Bash",
	    "language": "bash",
	    "name": "bash"
	},
	"language_info": {
	    "codemirror_mode": "shell",
	    "file_extension": ".sh",
	    "mimetype": "text/x-sh",
	    "name": "bash"
	},
	"rise": {
	    "enable_chalkboard": true,
	    "overlay": "<img src='wg_white_removed_medium.png' style='position:absolute;top:1%;left:0;width:15%;'>",
	    "progress": true,
	    "controls": false,
	    "reveal_shortcuts": {
		"chalkboard": {
		    "toggleChalkboard": "ctrl-o",
		    "toggleNotesCanvas": "shift-o"
		}
	    },
	    "scroll": true,
	    "transition": "none"
	}
    },
    "nbformat": 4,
    "nbformat_minor": 4
}
