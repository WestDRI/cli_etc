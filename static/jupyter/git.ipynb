{
 "cells": [
  {
   "cell_type": "markdown",
   "metadata": {
    "slideshow": {
     "slide_type": "slide"
    }
   },
   "source": [
    "# <center><span style=\"padding: 2.5vmin\">Version control with</span><img src=\"git_logo.png\" alt=\"\" height=\"\" width=\"350vmin\" style=\"padding: 4vmin 0 6vmin 0\"></center>\n",
    "### Marie-Hélène Burle\n",
    "#### training@westgrid.ca\n",
    "#### *September 11, 2020*"
   ]
  },
  {
   "cell_type": "markdown",
   "metadata": {
    "slideshow": {
     "slide_type": "subslide"
    },
    "toc": true
   },
   "source": [
    "<h1><span class=\"tocSkip\"></span></h1>\n",
    "<div class=\"toc\"><ul class=\"toc-item\"><li><ul class=\"toc-item\"><li><span><a href=\"#Marie-Hélène-Burle\" data-toc-modified-id=\"Marie-Hélène-Burle-0.1\">Marie-Hélène Burle</a></span><ul class=\"toc-item\"><li><span><a href=\"#training@westgrid.ca\" data-toc-modified-id=\"training@westgrid.ca-0.1.1\"><a href=\"mailto:training@westgrid.ca\" target=\"_blank\">training@westgrid.ca</a></a></span></li><li><span><a href=\"#September-11,-2020\" data-toc-modified-id=\"September-11,-2020-0.1.2\"><em>September 11, 2020</em></a></span></li></ul></li></ul></li><li><span><a href=\"#Why-version-control?\" data-toc-modified-id=\"Why-version-control?-1\">Why version control?</a></span><ul class=\"toc-item\"><li><span><a href=\"#A-sophisticated-form-of-backup\" data-toc-modified-id=\"A-sophisticated-form-of-backup-1.1\">A sophisticated form of backup</a></span></li><li><span><a href=\"#But-much-more-than-that\" data-toc-modified-id=\"But-much-more-than-that-1.2\">But much more than that</a></span></li></ul></li><li><span><a href=\"#Git\" data-toc-modified-id=\"Git-2\">Git</a></span></li><li><span><a href=\"#Installation\" data-toc-modified-id=\"Installation-3\">Installation</a></span></li><li><span><a href=\"#Configuration\" data-toc-modified-id=\"Configuration-4\">Configuration</a></span></li><li><span><a href=\"#Documentation\" data-toc-modified-id=\"Documentation-5\">Documentation</a></span><ul class=\"toc-item\"><li><span><a href=\"#Man-pages\" data-toc-modified-id=\"Man-pages-5.1\">Man pages</a></span></li><li><span><a href=\"#Command-options\" data-toc-modified-id=\"Command-options-5.2\">Command options</a></span></li><li><span><a href=\"#Resources\" data-toc-modified-id=\"Resources-5.3\">Resources</a></span></li></ul></li><li><span><a href=\"#Troubleshooting-&amp;-getting-help\" data-toc-modified-id=\"Troubleshooting-&amp;-getting-help-6\">Troubleshooting &amp; getting help</a></span><ul class=\"toc-item\"><li><span><a href=\"#&quot;Listen&quot;-to-Git!\" data-toc-modified-id=\"&quot;Listen&quot;-to-Git!-6.1\">\"Listen\" to Git!</a></span></li><li><span><a href=\"#(Re-read)-the-doc\" data-toc-modified-id=\"(Re-read)-the-doc-6.2\">(Re-read) the doc</a></span></li><li><span><a href=\"#Search-online\" data-toc-modified-id=\"Search-online-6.3\">Search online</a></span></li><li><span><a href=\"#Don't-panicBe-analytical\" data-toc-modified-id=\"Don't-panicBe-analytical-6.4\"><div style=\"padding: 2.5vmin\">Don't panic<br>Be analytical</div></a></span></li></ul></li><li><span><a href=\"#Git-basics\" data-toc-modified-id=\"Git-basics-7\">Git basics</a></span></li><li><span><a href=\"#Collaborating\" data-toc-modified-id=\"Collaborating-8\">Collaborating</a></span></li></ul></div>"
   ]
  },
  {
   "cell_type": "markdown",
   "metadata": {
    "cell_style": "split",
    "slideshow": {
     "slide_type": "slide"
    }
   },
   "source": [
    "<br><br><br><br><br><br>  \n",
    "## Why version control?"
   ]
  },
  {
   "cell_type": "markdown",
   "metadata": {
    "cell_style": "split",
    "slideshow": {
     "slide_type": "-"
    }
   },
   "source": [
    "<br>\n",
    "<figure style=\"display: table; margin: 0 auto\">\n",
    "  <center>\n",
    "    <img src=\"vc_nw.png\" title=\"\" width=\"850vmin\" style=\"padding: 4vmin 0 0 0\">\n",
    "  </center>\n",
    "  <div align=\"right\" style=\"color: #978282; line-height: 0; font-size: 2vmin\">\n",
    "    <em>\n",
    "      from <a href=\"http://geek-and-poke.com/\">Geek&Poke</a>\n",
    "    </em>\n",
    "  </div>\n",
    "</figure>"
   ]
  },
  {
   "cell_type": "markdown",
   "metadata": {
    "cell_style": "center",
    "slideshow": {
     "slide_type": "subslide"
    }
   },
   "source": [
    "<span class=\"header\">Why version control?</span><br>\n",
    "\n",
    "### A sophisticated form of backup"
   ]
  },
  {
   "cell_type": "markdown",
   "metadata": {
    "cell_style": "split",
    "slideshow": {
     "slide_type": "-"
    }
   },
   "source": [
    "<br><br>\n",
    "\n",
    "> There are two kinds of people: those who do their backups well and those who will."
   ]
  },
  {
   "cell_type": "markdown",
   "metadata": {
    "cell_style": "split",
    "slideshow": {
     "slide_type": "-"
    }
   },
   "source": [
    "<br>\n",
    "<figure style=\"display: table; margin: 0 auto\">\n",
    "  <center>\n",
    "    <img src=\"vc-xkcd.jpg\" title=\"\" width=\"1300vmin\" style=\"padding: 2vmin 0 0 0\">\n",
    "  </center>\n",
    "  <div align=\"right\" style=\"color: #978282; line-height: 0; font-size: 2vmin\">\n",
    "    <em>\n",
    "      from <a href=\"https://smutch.github.io/VersionControlTutorial/\">smutch</a>\n",
    "    </em>\n",
    "  </div>\n",
    "</figure>"
   ]
  },
  {
   "cell_type": "markdown",
   "metadata": {
    "cell_style": "split",
    "slideshow": {
     "slide_type": "subslide"
    }
   },
   "source": [
    "<span class=\"header\">Why version control?</span><br>\n",
    "<br><br><br><br><br>\n",
    "### But much more than that"
   ]
  },
  {
   "cell_type": "markdown",
   "metadata": {
    "cell_style": "split",
    "slideshow": {
     "slide_type": "-"
    }
   },
   "source": [
    "<br>\n",
    "<center>\n",
    "  <img style=\"box-shadow: 0px 0px 6px rgba(0,0,0,0.3)\" src=\"https://phdcomics.com/comics/archive/phd101212s.gif\" title=\"\" width=\"550vmin\" style=\"padding: 5vmin 0 0 0\">\n",
    "</center>"
   ]
  },
  {
   "cell_type": "markdown",
   "metadata": {
    "cell_style": "center",
    "slideshow": {
     "slide_type": "skip"
    }
   },
   "source": [
    "<br><br>\n",
    "<figure style=\"display: table; margin: 0 auto\">\n",
    "  <center>\n",
    "    <img src=\"https://imgs.xkcd.com/comics/documents.png\" title=\"\" width=\"400vmin\" style=\"padding: 2vmin 0 0 0\">\n",
    "  </center>\n",
    "  <div align=\"right\" style=\"color: #978282; line-height: 0; font-size: 2vmin\">\n",
    "    <em>\n",
    "      from <a href=\"https://xkcd.com/\">xkcd.com</a>\n",
    "    </em>\n",
    "  </div>\n",
    "</figure>"
   ]
  },
  {
   "cell_type": "markdown",
   "metadata": {
    "slideshow": {
     "slide_type": "slide"
    }
   },
   "source": [
    "## Git"
   ]
  },
  {
   "cell_type": "markdown",
   "metadata": {
    "slideshow": {
     "slide_type": "subslide"
    }
   },
   "source": [
    "<span class=\"header\">Git</span>"
   ]
  },
  {
   "cell_type": "markdown",
   "metadata": {
    "slideshow": {
     "slide_type": "skip"
    }
   },
   "source": [
    "## Installation\n",
    "<br><br>\n",
    "You can download Git from the [official Git download page](https://git-scm.com/downloads).\n",
    "\n",
    "If you are on Windows, downloading Git from the [Git for Windows project](https://gitforwindows.org/) is a better option as this provides a Bash emulation to run Git in the command line."
   ]
  },
  {
   "cell_type": "markdown",
   "metadata": {
    "slideshow": {
     "slide_type": "slide"
    }
   },
   "source": [
    "## Configuration"
   ]
  },
  {
   "cell_type": "markdown",
   "metadata": {
    "slideshow": {
     "slide_type": "subslide"
    }
   },
   "source": [
    "<span class=\"header\">Configuration</span>\n",
    "\n"
   ]
  },
  {
   "cell_type": "markdown",
   "metadata": {
    "slideshow": {
     "slide_type": "slide"
    }
   },
   "source": [
    "## Documentation"
   ]
  },
  {
   "cell_type": "markdown",
   "metadata": {
    "slideshow": {
     "slide_type": "subslide"
    }
   },
   "source": [
    "<span class=\"header\">Documentation</span>\n",
    "\n",
    "### Man pages\n",
    "<br><br>\n",
    "You can access the **man page** for a git command with either of:\n",
    "```bash\n",
    "git <command> --help\n",
    "git help <command>\n",
    "man git-<command>\n",
    "```\n",
    "<br>\n",
    "\n",
    "*Note:  \n",
    "Throughout this workshop, I will be using `<` and `>` to indicate that an expression needs to be replaced by the appropriate expression (without those signs).*"
   ]
  },
  {
   "cell_type": "markdown",
   "metadata": {
    "cell_style": "center",
    "slideshow": {
     "slide_type": "subslide"
    }
   },
   "source": [
    "*Example:*"
   ]
  },
  {
   "cell_type": "code",
   "execution_count": null,
   "metadata": {},
   "outputs": [],
   "source": []
  },
  {
   "cell_type": "markdown",
   "metadata": {},
   "source": [
    "<br>"
   ]
  },
  {
   "cell_type": "markdown",
   "metadata": {
    "slideshow": {
     "slide_type": "subslide"
    }
   },
   "source": [
    "<span class=\"header\">Documentation</span>\n",
    "\n",
    "### Command options\n",
    "<br><br>\n",
    "To get a list of the **options** for a command, run:\n",
    "```bash\n",
    "git <command> -h\n",
    "```"
   ]
  },
  {
   "cell_type": "markdown",
   "metadata": {
    "cell_style": "center",
    "slideshow": {
     "slide_type": "subslide"
    }
   },
   "source": [
    "*Example:*"
   ]
  },
  {
   "cell_type": "code",
   "execution_count": null,
   "metadata": {},
   "outputs": [],
   "source": []
  },
  {
   "cell_type": "markdown",
   "metadata": {},
   "source": [
    "<br>"
   ]
  },
  {
   "cell_type": "markdown",
   "metadata": {
    "slideshow": {
     "slide_type": "subslide"
    }
   },
   "source": [
    "<span class=\"header\">Documentation</span>\n",
    "\n",
    "### Resources\n",
    "\n",
    "<a href=\"https://git-scm.com/docs\">Official Git manual</a><br><br>\n",
    "<a href=\"http://swcarpentry.github.io/git-novice/\">Git Software Carpentry lesson</a><br><br>\n",
    "<a href=\"https://www.atlassian.com/git/tutorials/setting-up-a-repository\">Git tutorial by Atlassian</a><br><br>\n",
    "[WestGrid Summer School 2020 Git course](https://wgschool.netlify.app/git/)<br><br>\n",
    "[WestGrid workshop \"Collaborating through GitHub\"](https://westgrid-cli.netlify.app/workshops/github-colab/)<br><br>\n",
    "[WestGrid workshop \"Contributing to GitHub projects\"](https://westgrid-cli.netlify.app/workshops/github-contrib/)"
   ]
  },
  {
   "cell_type": "markdown",
   "metadata": {
    "cell_style": "split",
    "slideshow": {
     "slide_type": "slide"
    }
   },
   "source": [
    "<br><br><br><br><br><br>  \n",
    "## Troubleshooting & getting help"
   ]
  },
  {
   "cell_type": "markdown",
   "metadata": {
    "cell_style": "split",
    "slideshow": {
     "slide_type": "-"
    }
   },
   "source": [
    "<br>\n",
    "<figure style=\"display: table; margin: 0 auto\">\n",
    "  <center>\n",
    "    <img src=\"https://imgs.xkcd.com/comics/git.png\" title=\"\" width=\"500vmin\" style=\"padding: 2vmin 0 0 0\">\n",
    "  </center>\n",
    "  <div align=\"right\" style=\"color: #978282; line-height: 0; font-size: 2vmin\">\n",
    "    <em>\n",
    "      from <a href=\"https://xkcd.com/\">xkcd.com</a>\n",
    "    </em>\n",
    "  </div>\n",
    "</figure>"
   ]
  },
  {
   "cell_type": "markdown",
   "metadata": {
    "slideshow": {
     "slide_type": "subslide"
    }
   },
   "source": [
    "<span class=\"header\">Troubleshooting and getting help</span>\n",
    "\n",
    "### \"Listen\" to Git!\n",
    "<br><br>\n",
    "Git is extremely verbose: by default, it will return lots of information. Read it!\n",
    "\n",
    "These messages may feel overwhelming at first, but:\n",
    "- they will make more and more sense as you gain expertise\n",
    "- they often give you clues as to what the problem is\n",
    "- even if you don't understand them, you can use them as Google search terms"
   ]
  },
  {
   "cell_type": "markdown",
   "metadata": {
    "slideshow": {
     "slide_type": "subslide"
    }
   },
   "source": [
    "<span class=\"header\">Troubleshooting and getting help</span>\n",
    "\n",
    "### (Re-read) the doc\n",
    "<br><br>\n",
    "As I have no memory, I need to check the man pages all the time. That's ok! It is quick and easy.\n",
    "\n",
    "For more detailed information and examples, I really like the <a href=\"https://git-scm.com/docs\">Official Git manual.</a><br>"
   ]
  },
  {
   "cell_type": "markdown",
   "metadata": {
    "slideshow": {
     "slide_type": "subslide"
    }
   },
   "source": [
    "<span class=\"header\">Troubleshooting and getting help</span>\n",
    "\n",
    "### Search online\n",
    "<br><br>\n",
    "- Google\n",
    "- [WestGrid workshop: \"Collaborating through GitHub\"](https://westgrid-cli.netlify.app/workshops/github-colab/)  \n",
    "[Stack Overflow [git] tag](https://stackoverflow.com/questions/tagged/git)"
   ]
  },
  {
   "cell_type": "markdown",
   "metadata": {
    "cell_style": "split",
    "slideshow": {
     "slide_type": "subslide"
    }
   },
   "source": [
    "<span class=\"header\">Troubleshooting and getting help</span>\n",
    "\n",
    "### <div style=\"padding: 2.5vmin\">Don't panic<br>Be analytical</div>\n",
    "\n",
    "It is easy to panic and feel lost if something doesn't work as expected.\n",
    "\n",
    "Take a breath and start with the basis:\n",
    "\n",
    "- make sure you are in the repo (`pwd`) and the files are where you think they are (`ls -a`)\n",
    "- inspect the repository (`git status`, `git diff`, `git log`). Make sure not to overlook what Git is \"telling\" you there\n",
    "\n",
    "Commit and push often to be safe."
   ]
  },
  {
   "cell_type": "markdown",
   "metadata": {
    "cell_style": "split",
    "slideshow": {
     "slide_type": "-"
    }
   },
   "source": [
    "<br><br><br>\n",
    "<figure style=\"display: table; margin: 0 auto\">\n",
    "  <center>\n",
    "    <img src=\"gitout.png\" title=\"\" width=\"400vmin\" style=\"padding: 2vmin 0 0 0\">\n",
    "  </center>\n",
    "  <div align=\"right\" style=\"color: #978282; line-height: 0; font-size: 2vmin\">\n",
    "    <em>\n",
    "      from <a href=\"https://www.redbubble.com/people/jscript/shop#profile\">jscript</a>\n",
    "    </em>\n",
    "  </div>\n",
    "</figure>"
   ]
  },
  {
   "cell_type": "markdown",
   "metadata": {
    "cell_style": "center",
    "slideshow": {
     "slide_type": "slide"
    }
   },
   "source": [
    "## Git basics"
   ]
  },
  {
   "cell_type": "markdown",
   "metadata": {
    "slideshow": {
     "slide_type": "subslide"
    }
   },
   "source": [
    "<span class=\"header\">Git basics</span>\n",
    "\n"
   ]
  },
  {
   "cell_type": "code",
   "execution_count": null,
   "metadata": {},
   "outputs": [],
   "source": []
  },
  {
   "cell_type": "markdown",
   "metadata": {},
   "source": [
    "<br>"
   ]
  },
  {
   "cell_type": "markdown",
   "metadata": {},
   "source": [
    "git merge comic: https://imgs.xkcd.com/comics/algorithms.png\n",
    "git messages: https://imgs.xkcd.com/comics/git_commit.png"
   ]
  },
  {
   "cell_type": "markdown",
   "metadata": {
    "cell_style": "split",
    "slideshow": {
     "slide_type": "slide"
    }
   },
   "source": [
    "<br><br><br><br><br><br> \n",
    "## Collaborating"
   ]
  },
  {
   "cell_type": "markdown",
   "metadata": {
    "cell_style": "split",
    "slideshow": {
     "slide_type": "-"
    }
   },
   "source": [
    "<br>\n",
    "<figure style=\"display: table; margin: 0 auto\">\n",
    "  <center>\n",
    "    <img src=\"gitpush_nw.png\" title=\"\" width=\"700vmin\" style=\"padding: 2vmin 0 0 0\">\n",
    "  </center>\n",
    "  <div align=\"right\" style=\"color: #978282; line-height: 0; font-size: 2vmin\">\n",
    "    <em>\n",
    "      from <a href=\"https://crystallize.com/comics\">crystallize comics</a>\n",
    "    </em>\n",
    "  </div>\n",
    "</figure>"
   ]
  }
 ],
 "metadata": {
  "celltoolbar": "Slideshow",
  "kernelspec": {
   "display_name": "Bash",
   "language": "bash",
   "name": "bash"
  },
  "language_info": {
   "codemirror_mode": "shell",
   "file_extension": ".sh",
   "mimetype": "text/x-sh",
   "name": "bash"
  },
  "name": "git.ipynb",
  "rise": {
   "controls": false,
   "enable_chalkboard": true,
   "overlay": "<img src='wg_white_removed_medium.png' style='position:absolute;top:1%;left:0;width:15%;'>",
   "progress": true,
   "reveal_shortcuts": {
    "chalkboard": {
     "toggleChalkboard": "ctrl-o",
     "toggleNotesCanvas": "shift-o"
    }
   },
   "scroll": true,
   "transition": "none"
  },
  "toc": {
   "base_numbering": 1,
   "nav_menu": {
    "height": "141.987px",
    "width": "251.987px"
   },
   "number_sections": false,
   "sideBar": true,
   "skip_h1_title": true,
   "title_cell": "",
   "title_sidebar": "Contents",
   "toc_cell": true,
   "toc_position": {
    "height": "212.567px",
    "left": "788.846px",
    "top": "157.536px",
    "width": "165px"
   },
   "toc_section_display": false,
   "toc_window_display": false
  }
 },
 "nbformat": 4,
 "nbformat_minor": 4
}
