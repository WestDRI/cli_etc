{
 "cells": [
  {
   "cell_type": "markdown",
   "metadata": {
    "slideshow": {
     "slide_type": "slide"
    }
   },
   "source": [
    "# <center><div style=\"padding: 1vmin\">Version control with<img src=\"git_logo.png\" alt=\"\" height=\"\" width=\"400vmin\" style=\"padding: 4vmin 0 4vmin 0\"></div></center>\n",
    "### Marie-Hélène Burle\n",
    "#### training@westgrid.ca\n",
    "#### *September 11, 2020*"
   ]
  },
  {
   "cell_type": "markdown",
   "metadata": {
    "cell_style": "split",
    "slideshow": {
     "slide_type": "subslide"
    }
   },
   "source": [
    "<br><br>\n",
    "\n",
    "- Why version control?\n",
    "- Git\n",
    "- Configuration\n",
    "- Documentation\n",
    "- Troubleshooting & getting help\n",
    "- Recording history\n",
    "\n",
    "&emsp;&emsp;&ensp;*Break*\n",
    "- Working with branches"
   ]
  },
  {
   "cell_type": "markdown",
   "metadata": {
    "cell_style": "split",
    "slideshow": {
     "slide_type": "-"
    }
   },
   "source": [
    "<br><br>\n",
    "\n",
    "&emsp;&emsp;&ensp;*Lunch Break*\n",
    "- Exploring the past\n",
    "- Undoing\n",
    "\n",
    "&emsp;&emsp;&ensp;*Break*\n",
    "- Remotes\n",
    "- Collaborating"
   ]
  },
  {
   "cell_type": "markdown",
   "metadata": {
    "cell_style": "split",
    "slideshow": {
     "slide_type": "slide"
    }
   },
   "source": [
    "<br><br><br><br><br><br>  \n",
    "## Why version control?"
   ]
  },
  {
   "cell_type": "markdown",
   "metadata": {
    "cell_style": "split",
    "slideshow": {
     "slide_type": "-"
    }
   },
   "source": [
    "<br>\n",
    "<figure style=\"display: table; margin: 0 auto\">\n",
    "  <center>\n",
    "    <img src=\"vc_nw.png\" title=\"\" width=\"850vmin\" style=\"padding: 4vmin 0 0 0\">\n",
    "  </center>\n",
    "  <div align=\"right\" style=\"color: #978282; line-height: 0; font-size: 2vmin\">\n",
    "    <em>\n",
    "      from <a href=\"http://geek-and-poke.com/\">Geek&Poke</a>\n",
    "    </em>\n",
    "  </div>\n",
    "</figure>"
   ]
  },
  {
   "cell_type": "markdown",
   "metadata": {
    "cell_style": "center",
    "slideshow": {
     "slide_type": "subslide"
    }
   },
   "source": [
    "<span class=\"header\">Why version control?</span><br>\n",
    "\n",
    "### A sophisticated form of backup"
   ]
  },
  {
   "cell_type": "markdown",
   "metadata": {
    "cell_style": "split",
    "slideshow": {
     "slide_type": "-"
    }
   },
   "source": [
    "<br><br>\n",
    "\n",
    "> There are two kinds of people: those who do their backups well and those who will."
   ]
  },
  {
   "cell_type": "markdown",
   "metadata": {
    "cell_style": "split",
    "slideshow": {
     "slide_type": "-"
    }
   },
   "source": [
    "<br>\n",
    "<figure style=\"display: table; margin: 0 auto\">\n",
    "  <center>\n",
    "    <img src=\"vc-xkcd.jpg\" title=\"\" width=\"1300vmin\" style=\"padding: 2vmin 0 0 0\">\n",
    "  </center>\n",
    "  <div align=\"right\" style=\"color: #978282; line-height: 0; font-size: 2vmin\">\n",
    "    <em>\n",
    "      from <a href=\"https://smutch.github.io/VersionControlTutorial/\">smutch</a>\n",
    "    </em>\n",
    "  </div>\n",
    "</figure>"
   ]
  },
  {
   "cell_type": "markdown",
   "metadata": {
    "cell_style": "split",
    "slideshow": {
     "slide_type": "subslide"
    }
   },
   "source": [
    "<span class=\"header\">Why version control?</span><br>\n",
    "<br><br><br><br><br>\n",
    "### But much more"
   ]
  },
  {
   "cell_type": "markdown",
   "metadata": {
    "cell_style": "split",
    "slideshow": {
     "slide_type": "-"
    }
   },
   "source": [
    "<br>\n",
    "<center>\n",
    "  <div style=\"padding: 5.5vmin 0 0 0\">\n",
    "    <img style=\"box-shadow: 0px 0px 6px rgba(0,0,0,0.3)\" src=\"https://phdcomics.com/comics/archive/phd101212s.gif\" title=\"\" width=\"550vmin\">\n",
    "  </div>\n",
    "</center>"
   ]
  },
  {
   "cell_type": "markdown",
   "metadata": {
    "cell_style": "center",
    "slideshow": {
     "slide_type": "slide"
    }
   },
   "source": [
    "<br>\n",
    "\n",
    "## <div style=\"padding: 7vmin 0 0 0\">Git</div>\n",
    "<br>\n",
    "\n",
    "<figure style=\"display: table; margin: 0 auto; padding: 8vmin 0 0 0\">\n",
    "  <center>\n",
    "    <img src=\"legend_nw.png\" title=\"\" width=\"800vmin\">\n",
    "    <img src=\"git_nw.png\" title=\"\" width=\"1300vmin\">\n",
    "  </center>\n",
    "  <div align=\"right\" style=\"color: #978282; line-height: 0; font-size: 2vmin\">\n",
    "    <em>\n",
    "      from <a href=\"https://trends.google.com/trends/\">Google Trends</a>\n",
    "    </em>\n",
    "  </div>\n",
    "</figure>"
   ]
  },
  {
   "cell_type": "markdown",
   "metadata": {
    "slideshow": {
     "slide_type": "subslide"
    }
   },
   "source": [
    "<span class=\"header\">Git</span>\n",
    "<br>\n",
    "\n",
    "Git is an open source distributed version control system (DVCS) created in 2005 by Linus Torvalds for the versioning of the Linux kernel during its development.\n",
    "<br><br><br>\n",
    "In distributed version control systems, the full history of projects lives on everybody's machine—as opposed to being only stored on a central server as was the case with centralized version control systems CVCS. This allows offline work, huge speedups, easy branching, and multiple backups. DVCS have taken over CVCS.\n",
    "<br><br><br>\n",
    "Git is extremely powerful and has strong branching capabilities. Since the early 2010s, it has become the most popular DVCS, increasingly rendering other systems quite marginal.\n"
   ]
  },
  {
   "cell_type": "markdown",
   "metadata": {
    "slideshow": {
     "slide_type": "subslide"
    }
   },
   "source": [
    "<span class=\"header\">Git</span>\n",
    "<br>\n",
    "All commands start with `git`.\n",
    "<br><br>\n",
    "A typical command is of the form:\n",
    "<br>\n",
    "```sh\n",
    "git <command> [flags] [arguments]\n",
    "```"
   ]
  },
  {
   "cell_type": "markdown",
   "metadata": {
    "slideshow": {
     "slide_type": "fragment"
    }
   },
   "source": [
    "*Example:*\n",
    "\n",
    "We already saw the following:\n",
    "\n",
    "```sh\n",
    "git config --global \"Your Name\"\n",
    "```"
   ]
  },
  {
   "cell_type": "markdown",
   "metadata": {
    "slideshow": {
     "slide_type": "slide"
    }
   },
   "source": [
    "## Configuration"
   ]
  },
  {
   "cell_type": "markdown",
   "metadata": {
    "slideshow": {
     "slide_type": "subslide"
    }
   },
   "source": [
    "<span class=\"header\">Configuration</span>\n",
    "\n",
    "### Global configuration\n",
    "<br>\n",
    "\n",
    "From anywhere, with the `--global` flag.\n",
    "<br><br>\n",
    "There are a number of configurations necessary to set before starting to use Git."
   ]
  },
  {
   "cell_type": "markdown",
   "metadata": {
    "slideshow": {
     "slide_type": "subslide"
    }
   },
   "source": [
    "<span class=\"header\">Configuration</span>\n",
    "<br>\n",
    "\n",
    "### Global configuration\n",
    "<br>\n",
    "\n",
    "Set the name and email address that will appear as signature of your commits:\n",
    "<br><br>\n",
    "```sh\n",
    "git config --global user.name \"Your Name\"\n",
    "git config --global user.email \"your@email\"\n",
    "```"
   ]
  },
  {
   "cell_type": "markdown",
   "metadata": {
    "slideshow": {
     "slide_type": "subslide"
    }
   },
   "source": [
    "<span class=\"header\">Configuration</span>\n",
    "<br>\n",
    "\n",
    "### Global configuration\n",
    "<br>\n",
    "\n",
    "Set the text editor you want to use with Git:\n",
    "<br><br>\n",
    "```sh\n",
    "git config --global core.editor \"editor\"  # e.g. \"nano\", \"vim\", \"emacs\"\n",
    "```"
   ]
  },
  {
   "cell_type": "markdown",
   "metadata": {
    "slideshow": {
     "slide_type": "subslide"
    }
   },
   "source": [
    "<span class=\"header\">Configuration</span>\n",
    "<br>\n",
    "\n",
    "### Global configuration\n",
    "<br>\n",
    "\n",
    "Format line endings properly:\n",
    "<br><br>\n",
    "```sh\n",
    "git config --global core.autocrlf input   # if you are on macOS or Linux\n",
    "git config --global core.autocrlf true    # if you are on Windows\n",
    "```"
   ]
  },
  {
   "cell_type": "markdown",
   "metadata": {
    "slideshow": {
     "slide_type": "subslide"
    }
   },
   "source": [
    "<span class=\"header\">Configuration</span>\n",
    "<br>\n",
    "\n",
    "### Global configuration\n",
    "<br>\n",
    "\n",
    "To see your current configuration:\n",
    "<br><br>\n",
    "```sh\n",
    "git config --list\n",
    "```"
   ]
  },
  {
   "cell_type": "markdown",
   "metadata": {
    "slideshow": {
     "slide_type": "fragment"
    }
   },
   "source": [
    "*Example:*"
   ]
  },
  {
   "cell_type": "code",
   "execution_count": null,
   "metadata": {
    "slideshow": {
     "slide_type": "-"
    }
   },
   "outputs": [],
   "source": [
    "git config --list"
   ]
  },
  {
   "cell_type": "markdown",
   "metadata": {},
   "source": [
    "<br>"
   ]
  },
  {
   "cell_type": "markdown",
   "metadata": {
    "slideshow": {
     "slide_type": "subslide"
    }
   },
   "source": [
    "<span class=\"header\">Configuration</span>\n",
    "<br>\n",
    "\n",
    "### Project-specific configuration\n",
    "<br>\n",
    "\n",
    "You can set configurations specific to a single repository (e.g. maybe you want to use a different email address for a certain project).\n",
    "\n",
    "In that case, **make sure that you are in the repository you want to customize** and run the command without the `--global` flag.\n",
    "\n",
    "*Example:*\n",
    "\n",
    "```sh\n",
    "cd /path/to/project\n",
    "git config user.email \"your_other@email\"\n",
    "```"
   ]
  },
  {
   "cell_type": "markdown",
   "metadata": {
    "slideshow": {
     "slide_type": "slide"
    }
   },
   "source": [
    "## Documentation"
   ]
  },
  {
   "cell_type": "markdown",
   "metadata": {
    "slideshow": {
     "slide_type": "subslide"
    }
   },
   "source": [
    "<span class=\"header\">Documentation</span>\n",
    "\n",
    "### Man pages\n",
    "<br><br>\n",
    "You can access the **man page** for a git command with either of:\n",
    "```bash\n",
    "git <command> --help\n",
    "git help <command>\n",
    "man git-<command>\n",
    "```\n",
    "<br>\n",
    "\n",
    "*Note:  \n",
    "Throughout this workshop, I will be using `<` and `>` to indicate that an expression needs to be replaced by the appropriate expression (without those signs).*"
   ]
  },
  {
   "cell_type": "markdown",
   "metadata": {
    "cell_style": "center",
    "slideshow": {
     "slide_type": "subslide"
    }
   },
   "source": [
    "<span class=\"header\">Documentation</span>\n",
    "\n",
    "### Man pages\n",
    "\n",
    "*Example:*"
   ]
  },
  {
   "cell_type": "code",
   "execution_count": null,
   "metadata": {},
   "outputs": [],
   "source": [
    "man git-commit"
   ]
  },
  {
   "cell_type": "markdown",
   "metadata": {},
   "source": [
    "<br>"
   ]
  },
  {
   "cell_type": "markdown",
   "metadata": {
    "slideshow": {
     "slide_type": "subslide"
    }
   },
   "source": [
    "<span class=\"header\">Documentation</span>\n",
    "\n",
    "### Command options\n",
    "<br>\n",
    "\n",
    "To get a list of the **options** for a command, run:<br><br>\n",
    "```bash\n",
    "git <command> -h\n",
    "```"
   ]
  },
  {
   "cell_type": "markdown",
   "metadata": {
    "cell_style": "center",
    "slideshow": {
     "slide_type": "subslide"
    }
   },
   "source": [
    "<span class=\"header\">Documentation</span>\n",
    "\n",
    "### Command options\n",
    "\n",
    "*Example:*"
   ]
  },
  {
   "cell_type": "code",
   "execution_count": null,
   "metadata": {},
   "outputs": [],
   "source": [
    "git commit -h"
   ]
  },
  {
   "cell_type": "markdown",
   "metadata": {},
   "source": [
    "<br>"
   ]
  },
  {
   "cell_type": "markdown",
   "metadata": {
    "slideshow": {
     "slide_type": "subslide"
    }
   },
   "source": [
    "<span class=\"header\">Documentation</span>\n",
    "<br><br>\n",
    "\n",
    "### Resources\n",
    "<br>\n",
    "\n",
    "<a href=\"https://git-scm.com/docs\">Official Git manual</a><br>\n",
    "<a href=\"http://swcarpentry.github.io/git-novice/\">Git Software Carpentry lesson</a><br>\n",
    "<a href=\"https://www.atlassian.com/git/tutorials/setting-up-a-repository\">Git tutorial by Atlassian</a><br>\n",
    "[WestGrid Summer School 2020 Git course](https://wgschool.netlify.app/git/)<br>\n",
    "[WestGrid workshop \"Collaborating through GitHub\"](https://westgrid-cli.netlify.app/workshops/github-colab/)<br>\n",
    "[WestGrid workshop \"Contributing to GitHub projects\"](https://westgrid-cli.netlify.app/workshops/github-contrib/)"
   ]
  },
  {
   "cell_type": "markdown",
   "metadata": {
    "cell_style": "split",
    "slideshow": {
     "slide_type": "slide"
    }
   },
   "source": [
    "<br><br><br><br><br><br>  \n",
    "## Troubleshooting Getting help"
   ]
  },
  {
   "cell_type": "markdown",
   "metadata": {
    "cell_style": "split",
    "slideshow": {
     "slide_type": "-"
    }
   },
   "source": [
    "<br>\n",
    "<figure style=\"display: table; margin: 0 auto; padding: 2vmin 0 0 0\">\n",
    "  <center>\n",
    "    <img src=\"https://imgs.xkcd.com/comics/git.png\" title=\"\" width=\"500vmin\" style=\"padding: 2vmin 0 0 0\">\n",
    "  </center>\n",
    "  <div align=\"right\" style=\"color: #978282; line-height: 0; font-size: 2vmin\">\n",
    "    <em>\n",
    "      from <a href=\"https://xkcd.com/\">xkcd.com</a>\n",
    "    </em>\n",
    "  </div>\n",
    "</figure>"
   ]
  },
  {
   "cell_type": "markdown",
   "metadata": {
    "slideshow": {
     "slide_type": "subslide"
    }
   },
   "source": [
    "<span class=\"header\">Troubleshooting & getting help</span>\n",
    "\n",
    "### <div style=\"padding: 8vmin 0 0 0\">\"Listen\" to Git!</div>\n",
    "<br>\n",
    "\n",
    "Git is extremely verbose: by default, it will return lots of information. Read it!\n",
    "\n",
    "These messages may feel overwhelming at first, but:\n",
    "- they will make more and more sense as you gain expertise\n",
    "- they often give you clues as to what the problem is\n",
    "- even if you don't understand them, you can use them as Google search terms"
   ]
  },
  {
   "cell_type": "markdown",
   "metadata": {
    "slideshow": {
     "slide_type": "subslide"
    }
   },
   "source": [
    "<span class=\"header\">Troubleshooting & getting help</span>\n",
    "\n",
    "### (Re-read) the doc\n",
    "<br>\n",
    "\n",
    "As I have no memory, I need to check the man pages all the time. That's ok! It is quick and easy.\n",
    "\n",
    "For more detailed information and examples, I really like the <a href=\"https://git-scm.com/docs\">Official Git manual.</a><br>"
   ]
  },
  {
   "cell_type": "markdown",
   "metadata": {
    "slideshow": {
     "slide_type": "subslide"
    }
   },
   "source": [
    "<span class=\"header\">Troubleshooting & getting help</span>\n",
    "\n",
    "### Search online\n",
    "<br>\n",
    "\n",
    "- Google\n",
    "- [WestGrid workshop: \"Collaborating through GitHub\"](https://westgrid-cli.netlify.app/workshops/github-colab/)  \n",
    "- [Stack Overflow [git] tag](https://stackoverflow.com/questions/tagged/git)"
   ]
  },
  {
   "cell_type": "markdown",
   "metadata": {
    "cell_style": "split",
    "slideshow": {
     "slide_type": "subslide"
    }
   },
   "source": [
    "<span class=\"header\">Troubleshooting & getting help</span>\n",
    "\n",
    "### <div style=\"padding: 2.5vmin\">Don't panic<br>Be analytical</div>\n",
    "\n",
    "It is easy to panic and feel lost if something doesn't work as expected.\n",
    "\n",
    "Take a breath and start with the basis:\n",
    "\n",
    "- make sure you are in the repo (`pwd`) and the files are where you think they are (`ls -a`)\n",
    "- inspect the repository (`git status`, `git diff`, `git log`). Make sure not to overlook what Git is \"telling\" you there\n",
    "\n",
    "Commit and push often to be safe."
   ]
  },
  {
   "cell_type": "markdown",
   "metadata": {
    "cell_style": "split",
    "slideshow": {
     "slide_type": "-"
    }
   },
   "source": [
    "<br><br><br>\n",
    "<figure style=\"display: table; margin: 0 auto\">\n",
    "  <center>\n",
    "    <img src=\"gitout.png\" title=\"\" width=\"400vmin\" style=\"padding: 2vmin 0 0 0\">\n",
    "  </center>\n",
    "  <div align=\"right\" style=\"color: #978282; line-height: 0; font-size: 2vmin\">\n",
    "    <em>\n",
    "      from <a href=\"https://www.redbubble.com/people/jscript/shop#profile\">jscript</a>\n",
    "    </em>\n",
    "  </div>\n",
    "</figure>"
   ]
  },
  {
   "cell_type": "markdown",
   "metadata": {
    "cell_style": "center",
    "slideshow": {
     "slide_type": "slide"
    }
   },
   "source": [
    "## Recording history"
   ]
  },
  {
   "cell_type": "markdown",
   "metadata": {
    "slideshow": {
     "slide_type": "subslide"
    }
   },
   "source": [
    "<span class=\"header\">Recording history</span>\n",
    "\n",
    "### <div style=\"padding: 9vmin 0 0 0\">Create the project root</div>\n",
    "\n",
    "1. Navigate to the location where you want to create your project.\n",
    "2. Create a new directory with the name of your project.  \n",
    "<font color=\"#e67300\">**Never use spaces in names and paths.**</font>"
   ]
  },
  {
   "cell_type": "code",
   "execution_count": 1,
   "metadata": {},
   "outputs": [
    {
     "name": "stdout",
     "output_type": "stream",
     "text": [
      "/home/marie/parvus/pwg/wtm/tcl/static/jupyter\n"
     ]
    }
   ],
   "source": [
    "pwd"
   ]
  },
  {
   "cell_type": "code",
   "execution_count": 2,
   "metadata": {},
   "outputs": [],
   "source": [
    "cd ~/parvus/ptmp"
   ]
  },
  {
   "cell_type": "code",
   "execution_count": 3,
   "metadata": {},
   "outputs": [
    {
     "name": "stdout",
     "output_type": "stream",
     "text": [
      "/home/marie/parvus/ptmp\n"
     ]
    }
   ],
   "source": [
    "pwd"
   ]
  },
  {
   "cell_type": "code",
   "execution_count": 4,
   "metadata": {},
   "outputs": [
    {
     "name": "stdout",
     "output_type": "stream",
     "text": [
      "\u001b[0m\u001b[01;34mcontent\u001b[0m        \u001b[01;34mdl\u001b[0m            \u001b[01;34mocean_temp_1\u001b[0m    \u001b[01;34mredarc\u001b[0m\n",
      "\u001b[01;34mcorrupt_files\u001b[0m  \u001b[01;34mocean_temp_0\u001b[0m  \u001b[01;34mocean_temp_old\u001b[0m  \u001b[01;34msort\u001b[0m\n"
     ]
    }
   ],
   "source": [
    "ls"
   ]
  },
  {
   "cell_type": "code",
   "execution_count": 5,
   "metadata": {},
   "outputs": [],
   "source": [
    "mkdir ocean_temp"
   ]
  },
  {
   "cell_type": "code",
   "execution_count": 6,
   "metadata": {},
   "outputs": [
    {
     "name": "stdout",
     "output_type": "stream",
     "text": [
      "\u001b[0m\u001b[01;34mcontent\u001b[0m        \u001b[01;34mdl\u001b[0m          \u001b[01;34mocean_temp_0\u001b[0m  \u001b[01;34mocean_temp_old\u001b[0m  \u001b[01;34msort\u001b[0m\n",
      "\u001b[01;34mcorrupt_files\u001b[0m  \u001b[01;34mocean_temp\u001b[0m  \u001b[01;34mocean_temp_1\u001b[0m  \u001b[01;34mredarc\u001b[0m\n"
     ]
    }
   ],
   "source": [
    "ls"
   ]
  },
  {
   "cell_type": "markdown",
   "metadata": {},
   "source": [
    "<br>"
   ]
  },
  {
   "cell_type": "markdown",
   "metadata": {
    "slideshow": {
     "slide_type": "subslide"
    }
   },
   "source": [
    "<span class=\"header\">Recording history</span>\n",
    "\n",
    "### <div style=\"padding: 9vmin 0 0 0\">Put the project under version control</div>\n",
    "<br>\n",
    "\n",
    "<font color=\"#e67300\">**Make sure to enter your new directory before initializing version control.**</font><br>\n",
    "A classic mistake leading to lots of confusion is to run `git init` outside the root of the project."
   ]
  },
  {
   "cell_type": "code",
   "execution_count": 7,
   "metadata": {},
   "outputs": [
    {
     "name": "stdout",
     "output_type": "stream",
     "text": [
      "/home/marie/parvus/ptmp\n"
     ]
    }
   ],
   "source": [
    "pwd"
   ]
  },
  {
   "cell_type": "code",
   "execution_count": 8,
   "metadata": {},
   "outputs": [],
   "source": [
    "cd ocean_temp"
   ]
  },
  {
   "cell_type": "code",
   "execution_count": 9,
   "metadata": {},
   "outputs": [
    {
     "name": "stdout",
     "output_type": "stream",
     "text": [
      "/home/marie/parvus/ptmp/ocean_temp\n"
     ]
    }
   ],
   "source": [
    "pwd"
   ]
  },
  {
   "cell_type": "code",
   "execution_count": 10,
   "metadata": {},
   "outputs": [
    {
     "name": "stdout",
     "output_type": "stream",
     "text": [
      "\u001b[0m\u001b[01;34m.\u001b[0m  \u001b[01;34m..\u001b[0m\n"
     ]
    }
   ],
   "source": [
    "ls -a"
   ]
  },
  {
   "cell_type": "code",
   "execution_count": 12,
   "metadata": {},
   "outputs": [
    {
     "name": "stdout",
     "output_type": "stream",
     "text": [
      "Initialized empty Git repository in /home/marie/parvus/ptmp/ocean_temp/.git/\n"
     ]
    }
   ],
   "source": [
    "git init"
   ]
  },
  {
   "cell_type": "code",
   "execution_count": 13,
   "metadata": {},
   "outputs": [
    {
     "name": "stdout",
     "output_type": "stream",
     "text": [
      "\u001b[0m\u001b[01;34m.\u001b[0m  \u001b[01;34m..\u001b[0m  \u001b[01;34m.git\u001b[0m\n"
     ]
    }
   ],
   "source": [
    "ls -a"
   ]
  },
  {
   "cell_type": "code",
   "execution_count": 14,
   "metadata": {},
   "outputs": [
    {
     "name": "stdout",
     "output_type": "stream",
     "text": [
      "\u001b[0m\u001b[01;34m.\u001b[0m  \u001b[01;34m..\u001b[0m  HEAD  \u001b[01;34mbranches\u001b[0m  config  description  \u001b[01;34mhooks\u001b[0m  \u001b[01;34minfo\u001b[0m  \u001b[01;34mobjects\u001b[0m  \u001b[01;34mrefs\u001b[0m\n"
     ]
    }
   ],
   "source": [
    "ls -a .git"
   ]
  },
  {
   "cell_type": "code",
   "execution_count": 15,
   "metadata": {},
   "outputs": [
    {
     "name": "stdout",
     "output_type": "stream",
     "text": [
      "On branch \u001b[1;33mmaster\u001b[m\n",
      "\n",
      "No commits yet\n",
      "\n",
      "nothing to commit (create/copy files and use \"git add\" to track)\n"
     ]
    }
   ],
   "source": [
    "git status"
   ]
  },
  {
   "cell_type": "markdown",
   "metadata": {},
   "source": [
    "<br>"
   ]
  },
  {
   "cell_type": "markdown",
   "metadata": {
    "slideshow": {
     "slide_type": "subslide"
    }
   },
   "source": [
    "<span class=\"header\"><font color=\"#e66700\">**Under the hood**</font></span>\n",
    "<br><br>\n",
    "![](diagrams_v2/01.png)"
   ]
  },
  {
   "cell_type": "markdown",
   "metadata": {
    "slideshow": {
     "slide_type": "subslide"
    }
   },
   "source": [
    "<span class=\"header\"><font color=\"#e66700\">**Under the hood**</font></span>\n",
    "<br><br>\n",
    "![](diagrams_v2/02.png)"
   ]
  },
  {
   "cell_type": "markdown",
   "metadata": {
    "slideshow": {
     "slide_type": "subslide"
    }
   },
   "source": [
    "<span class=\"header\"><font color=\"#e66700\">**Under the hood**</font></span>\n",
    "<br><br>\n",
    "![](diagrams_v2/03.png)"
   ]
  },
  {
   "cell_type": "markdown",
   "metadata": {
    "slideshow": {
     "slide_type": "subslide"
    }
   },
   "source": [
    "<span class=\"header\"><font color=\"#e66700\">**Under the hood**</font></span>\n",
    "<br><br>\n",
    "![](diagrams_v2/04.png)"
   ]
  },
  {
   "cell_type": "markdown",
   "metadata": {
    "slideshow": {
     "slide_type": "subslide"
    }
   },
   "source": [
    "<span class=\"header\"><font color=\"#e66700\">**Under the hood**</font></span>\n",
    "<br><br>\n",
    "![](diagrams_v2/05.png)"
   ]
  },
  {
   "cell_type": "markdown",
   "metadata": {
    "slideshow": {
     "slide_type": "subslide"
    }
   },
   "source": [
    "<span class=\"header\"><font color=\"#e66700\">**Under the hood**</font></span>\n",
    "<br><br>\n",
    "![](diagrams_v2/06.png)"
   ]
  },
  {
   "cell_type": "markdown",
   "metadata": {
    "slideshow": {
     "slide_type": "subslide"
    }
   },
   "source": [
    "<span class=\"header\"><font color=\"#e66700\">**Under the hood**</font></span>\n",
    "<br><br>\n",
    "![](diagrams_v2/07.png)"
   ]
  },
  {
   "cell_type": "markdown",
   "metadata": {
    "slideshow": {
     "slide_type": "subslide"
    }
   },
   "source": [
    "<span class=\"header\"><font color=\"#e66700\">**Under the hood**</font></span>\n",
    "<br><br>\n",
    "![](diagrams_v2/08.png)"
   ]
  },
  {
   "cell_type": "markdown",
   "metadata": {
    "slideshow": {
     "slide_type": "subslide"
    }
   },
   "source": [
    "<span class=\"header\"><font color=\"#e66700\">**Under the hood**</font></span>\n",
    "<br><br>\n",
    "![](diagrams_v2/09.png)"
   ]
  },
  {
   "cell_type": "markdown",
   "metadata": {
    "slideshow": {
     "slide_type": "subslide"
    }
   },
   "source": [
    "<span class=\"header\">Recording history</span>\n",
    "\n",
    "### <div style=\"padding: 9vmin 0 0 0\">Create a sensible project structure</div>"
   ]
  },
  {
   "cell_type": "code",
   "execution_count": 16,
   "metadata": {},
   "outputs": [],
   "source": [
    "mkdir src result ms data"
   ]
  },
  {
   "cell_type": "code",
   "execution_count": 17,
   "metadata": {},
   "outputs": [
    {
     "name": "stdout",
     "output_type": "stream",
     "text": [
      "\u001b[0m\u001b[01;34m.\u001b[0m  \u001b[01;34m..\u001b[0m  \u001b[01;34m.git\u001b[0m  \u001b[01;34mdata\u001b[0m  \u001b[01;34mms\u001b[0m  \u001b[01;34mresult\u001b[0m  \u001b[01;34msrc\u001b[0m\n"
     ]
    }
   ],
   "source": [
    "ls -a"
   ]
  },
  {
   "cell_type": "code",
   "execution_count": 19,
   "metadata": {},
   "outputs": [
    {
     "name": "stdout",
     "output_type": "stream",
     "text": [
      "\u001b[01;34m.\u001b[00m\n",
      "├── \u001b[01;34mdata\u001b[00m\n",
      "├── \u001b[01;34mms\u001b[00m\n",
      "├── \u001b[01;34mresult\u001b[00m\n",
      "└── \u001b[01;34msrc\u001b[00m\n",
      "\n",
      "4 directories, 0 files\n"
     ]
    }
   ],
   "source": [
    "tree"
   ]
  },
  {
   "cell_type": "code",
   "execution_count": 20,
   "metadata": {},
   "outputs": [
    {
     "name": "stdout",
     "output_type": "stream",
     "text": [
      "On branch \u001b[1;33mmaster\u001b[m\n",
      "\n",
      "No commits yet\n",
      "\n",
      "nothing to commit (create/copy files and use \"git add\" to track)\n"
     ]
    }
   ],
   "source": [
    "git status"
   ]
  },
  {
   "cell_type": "markdown",
   "metadata": {},
   "source": [
    "<br>"
   ]
  },
  {
   "cell_type": "markdown",
   "metadata": {
    "slideshow": {
     "slide_type": "subslide"
    }
   },
   "source": [
    "<span class=\"header\">Recording history</span>\n",
    "\n",
    "### <div style=\"padding: 9vmin 0 0 0\">Add first file</div>\n",
    "<br>\n",
    "\n",
    "*Note: Git—which is such a powerful tool—works on any text files.  \n",
    "If you write your manuscript as a text file (e.g. `.org`, `.md`, `.Rmd`, `.txt`, `.ipynb`) rather than a MS Word or LibreOffice Writer file, you can put it under version control.  \n",
    "This has countless advantages, from easy versioning to easy collaboration.*"
   ]
  },
  {
   "cell_type": "code",
   "execution_count": 21,
   "metadata": {},
   "outputs": [],
   "source": [
    "echo \"import numpy as np\n",
    "\n",
    "years = list(range(2001, 2020))\" > src/enso_model.py"
   ]
  },
  {
   "cell_type": "code",
   "execution_count": 22,
   "metadata": {},
   "outputs": [
    {
     "name": "stdout",
     "output_type": "stream",
     "text": [
      "\u001b[01;34m.\u001b[00m\n",
      "├── \u001b[01;34mdata\u001b[00m\n",
      "├── \u001b[01;34mms\u001b[00m\n",
      "├── \u001b[01;34mresult\u001b[00m\n",
      "└── \u001b[01;34msrc\u001b[00m\n",
      "    └── enso_model.py\n",
      "\n",
      "4 directories, 1 file\n"
     ]
    }
   ],
   "source": [
    "tree"
   ]
  },
  {
   "cell_type": "code",
   "execution_count": 23,
   "metadata": {},
   "outputs": [
    {
     "name": "stdout",
     "output_type": "stream",
     "text": [
      "On branch \u001b[1;33mmaster\u001b[m\n",
      "\n",
      "No commits yet\n",
      "\n",
      "Untracked files:\n",
      "  (use \"git add <file>...\" to include in what will be committed)\n",
      "\t\u001b[31msrc/\u001b[m\n",
      "\n",
      "nothing added to commit but untracked files present (use \"git add\" to track)\n"
     ]
    }
   ],
   "source": [
    "git status"
   ]
  },
  {
   "cell_type": "markdown",
   "metadata": {},
   "source": [
    "<br>"
   ]
  },
  {
   "cell_type": "markdown",
   "metadata": {
    "slideshow": {
     "slide_type": "subslide"
    }
   },
   "source": [
    "<span class=\"header\"><font color=\"#e66700\">**Under the hood**</font></span>\n",
    "<br><br>\n",
    "![](diagrams_v2/10.png)"
   ]
  },
  {
   "cell_type": "markdown",
   "metadata": {
    "slideshow": {
     "slide_type": "subslide"
    }
   },
   "source": [
    "<span class=\"header\">Recording history</span>\n",
    "\n",
    "### <div style=\"padding: 9vmin 0 0 0\">Stage our file</div>\n",
    "<br>"
   ]
  },
  {
   "cell_type": "code",
   "execution_count": 24,
   "metadata": {},
   "outputs": [],
   "source": [
    "git add ."
   ]
  },
  {
   "cell_type": "code",
   "execution_count": 25,
   "metadata": {},
   "outputs": [
    {
     "name": "stdout",
     "output_type": "stream",
     "text": [
      "On branch \u001b[1;33mmaster\u001b[m\n",
      "\n",
      "No commits yet\n",
      "\n",
      "Changes to be committed:\n",
      "  (use \"git rm --cached <file>...\" to unstage)\n",
      "\t\u001b[32mnew file:   src/enso_model.py\u001b[m\n",
      "\n"
     ]
    }
   ],
   "source": [
    "git status"
   ]
  },
  {
   "cell_type": "markdown",
   "metadata": {},
   "source": [
    "<br>"
   ]
  },
  {
   "cell_type": "markdown",
   "metadata": {
    "slideshow": {
     "slide_type": "subslide"
    }
   },
   "source": [
    "<span class=\"header\"><font color=\"#e66700\">**Under the hood**</font></span>\n",
    "<br><br>\n",
    "![](diagrams_v2/11.png)"
   ]
  },
  {
   "cell_type": "markdown",
   "metadata": {
    "slideshow": {
     "slide_type": "subslide"
    }
   },
   "source": [
    "<span class=\"header\">Recording history</span>\n",
    "\n",
    "### <div style=\"padding: 9vmin 0 0 0\">Create a first snapshot (the initial commit)</div>\n",
    "<br>"
   ]
  },
  {
   "cell_type": "code",
   "execution_count": 26,
   "metadata": {},
   "outputs": [
    {
     "name": "stdout",
     "output_type": "stream",
     "text": [
      "[master (root-commit) 17dac60] Initial commit\n",
      " 1 file changed, 3 insertions(+)\n",
      " create mode 100644 src/enso_model.py\n"
     ]
    }
   ],
   "source": [
    "git commit -m \"Initial commit\""
   ]
  },
  {
   "cell_type": "code",
   "execution_count": 27,
   "metadata": {},
   "outputs": [
    {
     "name": "stdout",
     "output_type": "stream",
     "text": [
      "On branch \u001b[1;33mmaster\u001b[m\n",
      "nothing to commit, working tree clean\n"
     ]
    }
   ],
   "source": [
    "git status"
   ]
  },
  {
   "cell_type": "markdown",
   "metadata": {},
   "source": [
    "<br>"
   ]
  },
  {
   "cell_type": "markdown",
   "metadata": {
    "slideshow": {
     "slide_type": "subslide"
    }
   },
   "source": [
    "<span class=\"header\"><font color=\"#e66700\">**Under the hood**</font></span>\n",
    "<br><br>\n",
    "![](diagrams_v2/12.png)"
   ]
  },
  {
   "cell_type": "markdown",
   "metadata": {
    "slideshow": {
     "slide_type": "subslide"
    }
   },
   "source": [
    "<span class=\"header\"><font color=\"#e66700\">**Under the hood**</font></span>\n",
    "<br><br>\n",
    "![](diagrams_v2/13.png)"
   ]
  },
  {
   "cell_type": "markdown",
   "metadata": {
    "slideshow": {
     "slide_type": "subslide"
    }
   },
   "source": [
    "<span class=\"header\">Recording history</span>\n",
    "\n",
    "### SHA-1 checksum\n",
    "<br>\n",
    "\n",
    "Each commit is identified by a unique 40-character SHA-1 checksum. People usually refer to it as a “hash”.\n",
    "\n",
    "The short form of a hash only contains the first 7 characters, which is generally sufficient to identify a commit.\n",
    "\n",
    "After you committed, Git gave you the short form of the hash of your first commit."
   ]
  },
  {
   "cell_type": "markdown",
   "metadata": {
    "cell_style": "split",
    "slideshow": {
     "slide_type": "subslide"
    }
   },
   "source": [
    "<span class=\"header\">Recording history</span><br><br>\n",
    "\n",
    "### On writing good commit messages\n",
    "<br>\n",
    "\n",
    "<figure style=\"display: table; margin: 0 auto\">\n",
    "  <center>\n",
    "    <img src=\"https://imgs.xkcd.com/comics/git_commit.png\" title=\"\" width=\"700vmin\" style=\"padding: 2vmin 0 0 0\">\n",
    "  </center>\n",
    "  <div align=\"right\" style=\"color: #978282; line-height: 0; font-size: 2vmin\">\n",
    "    <em>\n",
    "      from <a href=\"https://xkcd.com/\">xkcd.com</a>\n",
    "    </em>\n",
    "  </div>\n",
    "</figure>"
   ]
  },
  {
   "cell_type": "markdown",
   "metadata": {
    "cell_style": "split",
    "slideshow": {
     "slide_type": "fragment"
    }
   },
   "source": [
    "<br><br><br>\n",
    "\n",
    "- Use the present tense\n",
    "\n",
    "- The first line is a summary of the commit and is less than 50 characters long\n",
    "\n",
    "- Leave a blank line below\n",
    "\n",
    "- Then add the body of your commit message with more details"
   ]
  },
  {
   "cell_type": "markdown",
   "metadata": {
    "cell_style": "split",
    "slideshow": {
     "slide_type": "subslide"
    }
   },
   "source": [
    "<br>\n",
    "<div style=\"line-height: 10vmin\">\n",
    "    <br>\n",
    "</div>\n",
    "\n",
    "- Use the present tense\n",
    "\n",
    "- The first line is a summary of the commit and is less than 50 characters long\n",
    "\n",
    "- Leave a blank line below\n",
    "\n",
    "- Then add the body of your commit message with more details"
   ]
  },
  {
   "cell_type": "markdown",
   "metadata": {
    "cell_style": "split",
    "slideshow": {
     "slide_type": "-"
    }
   },
   "source": [
    "<span class=\"header\">Recording history</span><br><br>\n",
    "\n",
    "*Example of a good commit message:*\n",
    "\n",
    "```sh\n",
    "git commit -m \"Reduce boundary conditions by a factor of 0.3\n",
    "\n",
    "Update boundaries\n",
    "Rerun model and update table\n",
    "Rephrase method section in ms\"\n",
    "```"
   ]
  },
  {
   "cell_type": "markdown",
   "metadata": {
    "slideshow": {
     "slide_type": "subslide"
    }
   },
   "source": [
    "<span class=\"header\">Recording history</span>\n",
    "\n",
    "### <div style=\"padding: 9vmin 0 0 0\">Let's make changes to our file</div>\n",
    "<br>"
   ]
  },
  {
   "cell_type": "code",
   "execution_count": 28,
   "metadata": {},
   "outputs": [
    {
     "name": "stdout",
     "output_type": "stream",
     "text": [
      "Waiting for Emacs...\n"
     ]
    }
   ],
   "source": [
    "emacsclient -c src/enso_model.py"
   ]
  },
  {
   "cell_type": "code",
   "execution_count": 29,
   "metadata": {},
   "outputs": [
    {
     "name": "stdout",
     "output_type": "stream",
     "text": [
      "On branch \u001b[1;33mmaster\u001b[m\n",
      "Changes not staged for commit:\n",
      "  (use \"git add <file>...\" to update what will be committed)\n",
      "  (use \"git restore <file>...\" to discard changes in working directory)\n",
      "\t\u001b[31mmodified:   src/enso_model.py\u001b[m\n",
      "\n",
      "no changes added to commit (use \"git add\" and/or \"git commit -a\")\n"
     ]
    }
   ],
   "source": [
    "git status"
   ]
  },
  {
   "cell_type": "markdown",
   "metadata": {},
   "source": [
    "<br>"
   ]
  },
  {
   "cell_type": "markdown",
   "metadata": {
    "slideshow": {
     "slide_type": "subslide"
    }
   },
   "source": [
    "<span class=\"header\"><font color=\"#e66700\">**Under the hood**</font></span>\n",
    "<br><br>\n",
    "![](diagrams_v2/15.png)"
   ]
  },
  {
   "cell_type": "markdown",
   "metadata": {
    "slideshow": {
     "slide_type": "subslide"
    }
   },
   "source": [
    "<span class=\"header\">Recording history</span>\n",
    "\n",
    "### <div style=\"padding: 9vmin 0 0 0\">Stage our file again</div>\n",
    "<br>"
   ]
  },
  {
   "cell_type": "code",
   "execution_count": 31,
   "metadata": {},
   "outputs": [],
   "source": [
    "git add ."
   ]
  },
  {
   "cell_type": "code",
   "execution_count": 32,
   "metadata": {},
   "outputs": [
    {
     "name": "stdout",
     "output_type": "stream",
     "text": [
      "On branch \u001b[1;33mmaster\u001b[m\n",
      "Changes to be committed:\n",
      "  (use \"git restore --staged <file>...\" to unstage)\n",
      "\t\u001b[32mmodified:   src/enso_model.py\u001b[m\n",
      "\n"
     ]
    }
   ],
   "source": [
    "git status"
   ]
  },
  {
   "cell_type": "markdown",
   "metadata": {},
   "source": [
    "<br>"
   ]
  },
  {
   "cell_type": "markdown",
   "metadata": {
    "slideshow": {
     "slide_type": "subslide"
    }
   },
   "source": [
    "<span class=\"header\"><font color=\"#e66700\">**Under the hood**</font></span>\n",
    "<br><br>\n",
    "![](diagrams_v2/16.png)"
   ]
  },
  {
   "cell_type": "markdown",
   "metadata": {
    "slideshow": {
     "slide_type": "subslide"
    }
   },
   "source": [
    "<span class=\"header\">Recording history</span>\n",
    "\n",
    "### <div style=\"padding: 9vmin 0 0 0\">Create a second commit</div>\n",
    "<br>"
   ]
  },
  {
   "cell_type": "code",
   "execution_count": 33,
   "metadata": {},
   "outputs": [
    {
     "name": "stdout",
     "output_type": "stream",
     "text": [
      "[master 72dccf8] Modify enso script\n",
      " 1 file changed, 1 insertion(+), 1 deletion(-)\n"
     ]
    }
   ],
   "source": [
    "git commit -m \"Modify enso script\""
   ]
  },
  {
   "cell_type": "code",
   "execution_count": 34,
   "metadata": {},
   "outputs": [
    {
     "name": "stdout",
     "output_type": "stream",
     "text": [
      "On branch \u001b[1;33mmaster\u001b[m\n",
      "nothing to commit, working tree clean\n"
     ]
    }
   ],
   "source": [
    "git status"
   ]
  },
  {
   "cell_type": "markdown",
   "metadata": {},
   "source": [
    "<br>"
   ]
  },
  {
   "cell_type": "markdown",
   "metadata": {
    "slideshow": {
     "slide_type": "subslide"
    }
   },
   "source": [
    "<span class=\"header\"><font color=\"#e66700\">**Under the hood**</font></span>\n",
    "<br><br>\n",
    "![](diagrams_v2/17.png)"
   ]
  },
  {
   "cell_type": "markdown",
   "metadata": {
    "slideshow": {
     "slide_type": "subslide"
    }
   },
   "source": [
    "<span class=\"header\"><font color=\"#e66700\">**Under the hood**</font></span>\n",
    "<br><br>\n",
    "![](diagrams_v2/18.png)"
   ]
  },
  {
   "cell_type": "markdown",
   "metadata": {
    "slideshow": {
     "slide_type": "subslide"
    }
   },
   "source": [
    "<span class=\"header\">Recording history</span>\n",
    "\n",
    "### <div style=\"padding: 7vmin 0 0 0\">Excluding from version control</div>\n",
    "<br>\n",
    "\n",
    "There are files you really **should** put under version control, but there are files you shouldn't."
   ]
  },
  {
   "cell_type": "markdown",
   "metadata": {
    "cell_style": "split",
    "slideshow": {
     "slide_type": "fragment"
    }
   },
   "source": [
    "#### Put under vc\n",
    "\n",
    "- Scripts\n",
    "- Manuscripts and notes\n",
    "- Makefile and the like"
   ]
  },
  {
   "cell_type": "markdown",
   "metadata": {
    "cell_style": "split",
    "slideshow": {
     "slide_type": "fragment"
    }
   },
   "source": [
    "#### Do **not** put under vc\n",
    "\n",
    "- Non-text files (e.g. images, office documents)\n",
    "- Outputs that can be recreated by running code"
   ]
  },
  {
   "cell_type": "markdown",
   "metadata": {
    "slideshow": {
     "slide_type": "subslide"
    }
   },
   "source": [
    "<span class=\"header\">Recording history</span>\n",
    "\n",
    "### <div style=\"padding: 7vmin 0 0 0\">Excluding from version control</div>\n",
    "<br>\n",
    "\n",
    "You want to have a clean working directory, so you need to tell Git to ignore those files.\n",
    "\n",
    "You do this by adding them to a file that you create in the root of the project called `.gitignore`."
   ]
  },
  {
   "cell_type": "code",
   "execution_count": 35,
   "metadata": {},
   "outputs": [],
   "source": [
    "touch result/graph.png"
   ]
  },
  {
   "cell_type": "code",
   "execution_count": 36,
   "metadata": {},
   "outputs": [
    {
     "name": "stdout",
     "output_type": "stream",
     "text": [
      "\u001b[01;34m.\u001b[00m\n",
      "├── \u001b[01;34mdata\u001b[00m\n",
      "├── \u001b[01;34mms\u001b[00m\n",
      "├── \u001b[01;34mresult\u001b[00m\n",
      "│   └── \u001b[01;35mgraph.png\u001b[00m\n",
      "└── \u001b[01;34msrc\u001b[00m\n",
      "    └── enso_model.py\n",
      "\n",
      "4 directories, 2 files\n"
     ]
    }
   ],
   "source": [
    "tree"
   ]
  },
  {
   "cell_type": "code",
   "execution_count": 37,
   "metadata": {},
   "outputs": [
    {
     "name": "stdout",
     "output_type": "stream",
     "text": [
      "On branch \u001b[1;33mmaster\u001b[m\n",
      "Untracked files:\n",
      "  (use \"git add <file>...\" to include in what will be committed)\n",
      "\t\u001b[31mresult/\u001b[m\n",
      "\n",
      "nothing added to commit but untracked files present (use \"git add\" to track)\n"
     ]
    }
   ],
   "source": [
    "git status"
   ]
  },
  {
   "cell_type": "code",
   "execution_count": 38,
   "metadata": {},
   "outputs": [],
   "source": [
    "echo /result/ > .gitignore"
   ]
  },
  {
   "cell_type": "code",
   "execution_count": 39,
   "metadata": {},
   "outputs": [
    {
     "name": "stdout",
     "output_type": "stream",
     "text": [
      "/result/\n"
     ]
    }
   ],
   "source": [
    "cat .gitignore"
   ]
  },
  {
   "cell_type": "code",
   "execution_count": 40,
   "metadata": {},
   "outputs": [
    {
     "name": "stdout",
     "output_type": "stream",
     "text": [
      "On branch \u001b[1;33mmaster\u001b[m\n",
      "Untracked files:\n",
      "  (use \"git add <file>...\" to include in what will be committed)\n",
      "\t\u001b[31m.gitignore\u001b[m\n",
      "\n",
      "nothing added to commit but untracked files present (use \"git add\" to track)\n"
     ]
    }
   ],
   "source": [
    "git status"
   ]
  },
  {
   "cell_type": "markdown",
   "metadata": {},
   "source": [
    "<br>"
   ]
  },
  {
   "cell_type": "markdown",
   "metadata": {
    "slideshow": {
     "slide_type": "subslide"
    }
   },
   "source": [
    "<span class=\"header\">Recording history</span>\n",
    "\n",
    "### <div style=\"padding: 5vmin 0 0 0\">.gitignore rules</div>\n",
    "<br>\n",
    "\n",
    "Each line in a `.gitignore` file specifies a pattern.\n",
    "\n",
    "Blank lines are ignored and can serve as separators for readability.\n",
    "\n",
    "Lines starting with `#` are comments.\n",
    "\n",
    "To add patterns starting with a special character (e.g. `#`, `!`), that character needs escaping with `\\`.\n",
    "\n",
    "Trailing spaces are ignored unless they are escaped with `\\`.\n",
    "\n",
    "`!` negates patterns (matching files excluded by previous patterns become included again). **However** it is not possible to re-include a file if one of its parent directories is excluded (Git doesn’t list excluded directories for performance reasons). One way to go around that is to force the inclusion of a file which is in an ignored directory with the option `-f`.\n",
    "\n",
    "&emsp;&emsp;&emsp; *Example: `git add -f <file>`*\n",
    "\n",
    "Patterns ending with `/` match directories. Otherwise patterns match both files and directories.\n",
    "\n",
    "`/` at the beginning or within a search pattern indicates that the pattern is relative to the directory level of the `.gitignore` file. Otherwise the pattern matches anywhere below the `.gitignore` level.\n",
    "\n",
    "&emsp;&emsp;&emsp; *Examples:*  \n",
    "*&emsp;&emsp;&emsp;&emsp;&emsp;&emsp; - `foo/bar/` matches the directory `foo/bar`, but not the directory `a/foo/bar`*  \n",
    "*&emsp;&emsp;&emsp;&emsp;&emsp;&emsp; - `bar/` matches both the directories `foo/bar` and `a/foo/bar`*\n",
    "\n",
    "`*` matches anything except `/`.\n",
    "\n",
    "`?` matches any one character except `/`.\n",
    "\n",
    "The range notation (e.g. `[a-zA-Z]`) can be used to match one of the characters in a range.\n",
    "\n",
    "A leading `**/` matches all directories.\n",
    "\n",
    "&emsp;&emsp;&emsp; *Example: `**/foo` matches file or directory `foo` anywhere. This is the same as `foo`*\n",
    "\n",
    "A trailing `/**` matches everything inside what it precedes.\n",
    "\n",
    "&emsp;&emsp;&emsp; *Example: `abc/**` matches all files (recursively) inside directory `abc`*\n",
    "\n",
    "`/**/` matches zero or more directories.\n",
    "\n",
    "&emsp;&emsp;&emsp; *Example: `a/**/b` matches `a/b`, `a/x/b`, and `a/x/y/b`*"
   ]
  },
  {
   "cell_type": "markdown",
   "metadata": {
    "slideshow": {
     "slide_type": "subslide"
    }
   },
   "source": [
    "<span class=\"header\">Recording history</span>\n",
    "\n",
    "### <div style=\"padding: 7vmin 0 0 0\">Tagging</div>\n",
    "<br>\n",
    "\n",
    "#### Annotated tag"
   ]
  },
  {
   "cell_type": "code",
   "execution_count": 45,
   "metadata": {},
   "outputs": [],
   "source": [
    "git tag"
   ]
  },
  {
   "cell_type": "code",
   "execution_count": 46,
   "metadata": {},
   "outputs": [],
   "source": [
    "git tag -a J_Climate_2009 -m \"State of project at the publication of paper\""
   ]
  },
  {
   "cell_type": "code",
   "execution_count": 47,
   "metadata": {},
   "outputs": [
    {
     "name": "stdout",
     "output_type": "stream",
     "text": [
      "\u001b[33mtag J_Climate_2009\u001b[m\n",
      "Tagger: Marie-Helene Burle <marie.burle@westgrid.ca>\n",
      "Date:   Sat Sep 5 14:54:44 2020 -0700\n",
      "\n",
      "State of project at the publication of paper\n",
      "\n",
      "\u001b[33mcommit 72dccf81c94cd81fe6acf9a76b1991d5b86ca898\u001b[m\u001b[33m (\u001b[m\u001b[1;36mHEAD -> \u001b[m\u001b[1;32mmaster\u001b[m\u001b[33m, \u001b[m\u001b[1;33mtag: J_Climate_2009\u001b[m\u001b[33m)\u001b[m\n",
      "Author: Marie-Helene Burle <marie.burle@westgrid.ca>\n",
      "Date:   Sat Sep 5 14:30:06 2020 -0700\n",
      "\n",
      "    Modify enso script\n",
      "\n",
      "\u001b[1mdiff --git a/src/enso_model.py b/src/enso_model.py\u001b[m\n",
      "\u001b[1mindex e21ee34..7eda930 100644\u001b[m\n",
      "\u001b[1m--- a/src/enso_model.py\u001b[m\n",
      "\u001b[1m+++ b/src/enso_model.py\u001b[m\n",
      "\u001b[36m@@ -1,3 +1,3 @@\u001b[m\n",
      " import numpy as np\u001b[m\n",
      " \u001b[m\n",
      "\u001b[31m-years = list(range(2001, 2020))\u001b[m\n",
      "\u001b[32m+\u001b[m\u001b[32myears = list(range(2001, 2019))\u001b[m\n"
     ]
    }
   ],
   "source": [
    "git show J_Climate_2009"
   ]
  },
  {
   "cell_type": "code",
   "execution_count": 51,
   "metadata": {},
   "outputs": [
    {
     "name": "stdout",
     "output_type": "stream",
     "text": [
      "J_Climate_2009\n",
      "J_Climate_2009_light\n"
     ]
    }
   ],
   "source": [
    "git tag"
   ]
  },
  {
   "cell_type": "markdown",
   "metadata": {},
   "source": [
    "<br>"
   ]
  },
  {
   "cell_type": "markdown",
   "metadata": {
    "slideshow": {
     "slide_type": "subslide"
    }
   },
   "source": [
    "<span class=\"header\">Recording history</span>\n",
    "\n",
    "### <div style=\"padding: 7vmin 0 0 0\">Tagging</div>\n",
    "<br>\n",
    "\n",
    "#### Leightweight tag"
   ]
  },
  {
   "cell_type": "code",
   "execution_count": 49,
   "metadata": {},
   "outputs": [],
   "source": [
    "git tag J_Climate_2009_light"
   ]
  },
  {
   "cell_type": "code",
   "execution_count": 50,
   "metadata": {},
   "outputs": [
    {
     "name": "stdout",
     "output_type": "stream",
     "text": [
      "\u001b[33mcommit 72dccf81c94cd81fe6acf9a76b1991d5b86ca898\u001b[m\u001b[33m (\u001b[m\u001b[1;36mHEAD -> \u001b[m\u001b[1;32mmaster\u001b[m\u001b[33m, \u001b[m\u001b[1;33mtag: J_Climate_2009_light\u001b[m\u001b[33m, \u001b[m\u001b[1;33mtag: J_Climate_2009\u001b[m\u001b[33m)\u001b[m\n",
      "Author: Marie-Helene Burle <marie.burle@westgrid.ca>\n",
      "Date:   Sat Sep 5 14:30:06 2020 -0700\n",
      "\n",
      "    Modify enso script\n",
      "\n",
      "\u001b[1mdiff --git a/src/enso_model.py b/src/enso_model.py\u001b[m\n",
      "\u001b[1mindex e21ee34..7eda930 100644\u001b[m\n",
      "\u001b[1m--- a/src/enso_model.py\u001b[m\n",
      "\u001b[1m+++ b/src/enso_model.py\u001b[m\n",
      "\u001b[36m@@ -1,3 +1,3 @@\u001b[m\n",
      " import numpy as np\u001b[m\n",
      " \u001b[m\n",
      "\u001b[31m-years = list(range(2001, 2020))\u001b[m\n",
      "\u001b[32m+\u001b[m\u001b[32myears = list(range(2001, 2019))\u001b[m\n"
     ]
    }
   ],
   "source": [
    "git show J_Climate_2009_light"
   ]
  },
  {
   "cell_type": "code",
   "execution_count": 51,
   "metadata": {},
   "outputs": [
    {
     "name": "stdout",
     "output_type": "stream",
     "text": [
      "J_Climate_2009\n",
      "J_Climate_2009_light\n"
     ]
    }
   ],
   "source": [
    "git tag"
   ]
  },
  {
   "cell_type": "markdown",
   "metadata": {},
   "source": [
    "<br>"
   ]
  },
  {
   "cell_type": "markdown",
   "metadata": {
    "slideshow": {
     "slide_type": "subslide"
    }
   },
   "source": [
    "<span class=\"header\"><font color=\"#e66700\">**Under the hood**</font></span>\n",
    "<br><br>\n",
    "![](diagrams_v2/19.png)"
   ]
  },
  {
   "cell_type": "markdown",
   "metadata": {
    "slideshow": {
     "slide_type": "subslide"
    }
   },
   "source": [
    "<span class=\"header\"><font color=\"#e66700\">**Under the hood**</font></span>\n",
    "<br><br>\n",
    "![](diagrams_v2/20.png)"
   ]
  },
  {
   "cell_type": "markdown",
   "metadata": {
    "slideshow": {
     "slide_type": "subslide"
    }
   },
   "source": [
    "<span class=\"header\">Recording history</span>\n",
    "\n",
    "### <div style=\"padding: 7vmin 0 0 0\">Tagging</div>\n",
    "<br>\n",
    "\n",
    "#### Deleting tags"
   ]
  },
  {
   "cell_type": "code",
   "execution_count": 52,
   "metadata": {},
   "outputs": [
    {
     "name": "stdout",
     "output_type": "stream",
     "text": [
      "Deleted tag 'J_Climate_2009_light' (was 72dccf8)\n"
     ]
    }
   ],
   "source": [
    "git tag -d J_Climate_2009_light"
   ]
  },
  {
   "cell_type": "code",
   "execution_count": 53,
   "metadata": {},
   "outputs": [
    {
     "name": "stdout",
     "output_type": "stream",
     "text": [
      "J_Climate_2009\n"
     ]
    }
   ],
   "source": [
    "git tag"
   ]
  },
  {
   "cell_type": "markdown",
   "metadata": {},
   "source": [
    "<br>"
   ]
  },
  {
   "cell_type": "markdown",
   "metadata": {
    "slideshow": {
     "slide_type": "subslide"
    }
   },
   "source": [
    "<span class=\"header\">Recording history</span>\n",
    "\n",
    "### <div style=\"padding: 9vmin 0 0 0\">Let's create more selective snapshots</div>\n",
    "<br>\n",
    "\n",
    "We made our first commit with:\n",
    "<br>\n",
    "```sh\n",
    "git add .\n",
    "git commit -m \"Initial commit\"\n",
    "```\n",
    "\n",
    "`git add .` stages all new changes in the repo.\n",
    "\n",
    "It is even possible to commit all changes to the tracked files, staged or not, with `git commit -a -m \"Some message\"`. With this command, you can thus skip the staging area entirely.\n",
    "\n",
    "While these commands are convenient, you seldom want to do that: chances are, you'd be committing a mixed bag of changes that aren't grouped sensibly.\n",
    "\n",
    "This creates a messy history that will be hard to navigate in the future (and will be hell for your collaborators)."
   ]
  },
  {
   "cell_type": "markdown",
   "metadata": {
    "slideshow": {
     "slide_type": "subslide"
    }
   },
   "source": [
    "<span class=\"header\">Recording history</span>\n",
    "\n",
    "### <div style=\"padding: 9vmin 0 0 0\">Let's create more selective snapshots</div>\n",
    "<br>\n",
    "\n",
    "What you want to do is to create commits that are meaningful.\n",
    "\n",
    "This is why Git has this 2-step process to make snapshots:\n",
    "- first you stage\n",
    "- then you commit\n",
    "\n",
    "The staging area allows you to pick and choose changes that you want to commit together."
   ]
  },
  {
   "cell_type": "markdown",
   "metadata": {
    "slideshow": {
     "slide_type": "subslide"
    }
   },
   "source": [
    "<span class=\"header\">Recording history</span>\n",
    "\n",
    "### <div style=\"padding: 9vmin 0 0 0\">Let's create more selective snapshots</div>\n",
    "<br>\n",
    "\n",
    "`git add <file>` allows you to only add the changes you made in `<file>` to the staging area (leaving changes to other files unstaged).\n",
    "<br><br>\n",
    "Even better, `git add -p <file>` allows you to stage only some of the changes made in `<file>`.\n",
    "<br><br>\n",
    "This gives you entire control over your recording of history."
   ]
  },
  {
   "cell_type": "markdown",
   "metadata": {
    "slideshow": {
     "slide_type": "subslide"
    }
   },
   "source": [
    "<span class=\"header\">Recording history</span>\n",
    "\n",
    "### <div style=\"padding: 9vmin 0 0 0\">Let's create more selective snapshots</div>\n",
    "<br>\n",
    "\n",
    "`git add -p <file>` starts an interactive staging session.\n",
    "\n",
    "For each modified section (called \"hunk\"), Git will ask you:\n",
    "\n",
    "```\n",
    "y\tyes (stage this hunk)\n",
    "n\tno (don't stage this hunk)\n",
    "a\tall (stage this hunk and all subsequent ones in this file)\n",
    "d\tdo not stage this hunk nor any of the remaining ones\n",
    "s\tsplit this hunk (if possible)\n",
    "e\tedit\n",
    "?\tprint help\n",
    "```"
   ]
  },
  {
   "cell_type": "code",
   "execution_count": 56,
   "metadata": {},
   "outputs": [
    {
     "name": "stdout",
     "output_type": "stream",
     "text": [
      "On branch \u001b[1;33mmaster\u001b[m\n",
      "Untracked files:\n",
      "  (use \"git add <file>...\" to include in what will be committed)\n",
      "\t\u001b[31m.gitignore\u001b[m\n",
      "\n",
      "nothing added to commit but untracked files present (use \"git add\" to track)\n"
     ]
    }
   ],
   "source": [
    "git status"
   ]
  },
  {
   "cell_type": "code",
   "execution_count": 57,
   "metadata": {},
   "outputs": [],
   "source": [
    "echo \"# Effect of Enso on SST in the North Pacific between the years 2001 and 2020\n",
    "\n",
    "## Introduction\n",
    "\n",
    "## Methods\n",
    "\n",
    "## Results\n",
    "\n",
    "## Conclusion\" > ms/enso_effect.md"
   ]
  },
  {
   "cell_type": "code",
   "execution_count": 58,
   "metadata": {},
   "outputs": [
    {
     "name": "stdout",
     "output_type": "stream",
     "text": [
      "On branch \u001b[1;33mmaster\u001b[m\n",
      "Untracked files:\n",
      "  (use \"git add <file>...\" to include in what will be committed)\n",
      "\t\u001b[31m.gitignore\u001b[m\n",
      "\t\u001b[31mms/\u001b[m\n",
      "\n",
      "nothing added to commit but untracked files present (use \"git add\" to track)\n"
     ]
    }
   ],
   "source": [
    "git status"
   ]
  },
  {
   "cell_type": "code",
   "execution_count": 60,
   "metadata": {},
   "outputs": [],
   "source": [
    "git add ms/enso_effect.md"
   ]
  },
  {
   "cell_type": "code",
   "execution_count": 61,
   "metadata": {},
   "outputs": [
    {
     "name": "stdout",
     "output_type": "stream",
     "text": [
      "On branch \u001b[1;33mmaster\u001b[m\n",
      "Changes to be committed:\n",
      "  (use \"git restore --staged <file>...\" to unstage)\n",
      "\t\u001b[32mnew file:   ms/enso_effect.md\u001b[m\n",
      "\n",
      "Untracked files:\n",
      "  (use \"git add <file>...\" to include in what will be committed)\n",
      "\t\u001b[31m.gitignore\u001b[m\n",
      "\n"
     ]
    }
   ],
   "source": [
    "git status"
   ]
  },
  {
   "cell_type": "code",
   "execution_count": 62,
   "metadata": {},
   "outputs": [
    {
     "name": "stdout",
     "output_type": "stream",
     "text": [
      "[master 6608481] Add first draft enso effect ms\n",
      " 1 file changed, 9 insertions(+)\n",
      " create mode 100644 ms/enso_effect.md\n"
     ]
    }
   ],
   "source": [
    "git commit -m \"Add first draft enso effect ms\""
   ]
  },
  {
   "cell_type": "code",
   "execution_count": 63,
   "metadata": {},
   "outputs": [
    {
     "name": "stdout",
     "output_type": "stream",
     "text": [
      "On branch \u001b[1;33mmaster\u001b[m\n",
      "Untracked files:\n",
      "  (use \"git add <file>...\" to include in what will be committed)\n",
      "\t\u001b[31m.gitignore\u001b[m\n",
      "\n",
      "nothing added to commit but untracked files present (use \"git add\" to track)\n"
     ]
    }
   ],
   "source": [
    "git status"
   ]
  },
  {
   "cell_type": "code",
   "execution_count": 64,
   "metadata": {},
   "outputs": [],
   "source": [
    "echo \"Twas brillig, and the slithy toves\n",
    "Did gyre and gimble in the wabe:\n",
    "All mimsy were the borogoves,\n",
    "And the mome raths outgrabe\" >> ms/enso_effect.md"
   ]
  },
  {
   "cell_type": "code",
   "execution_count": 65,
   "metadata": {},
   "outputs": [
    {
     "name": "stdout",
     "output_type": "stream",
     "text": [
      "On branch \u001b[1;33mmaster\u001b[m\n",
      "Changes not staged for commit:\n",
      "  (use \"git add <file>...\" to update what will be committed)\n",
      "  (use \"git restore <file>...\" to discard changes in working directory)\n",
      "\t\u001b[31mmodified:   ms/enso_effect.md\u001b[m\n",
      "\n",
      "Untracked files:\n",
      "  (use \"git add <file>...\" to include in what will be committed)\n",
      "\t\u001b[31m.gitignore\u001b[m\n",
      "\n",
      "no changes added to commit (use \"git add\" and/or \"git commit -a\")\n"
     ]
    }
   ],
   "source": [
    "git status"
   ]
  },
  {
   "cell_type": "code",
   "execution_count": 66,
   "metadata": {},
   "outputs": [],
   "source": [
    "echo \"Beware the Jabberwock, my son!\n",
    "The jaws that bite, the claws that catch!\n",
    "Beware the Jubjub bird, and shun\n",
    "The frumious Bandersnatch\" >> src/enso_model.py"
   ]
  },
  {
   "cell_type": "code",
   "execution_count": 67,
   "metadata": {},
   "outputs": [
    {
     "name": "stdout",
     "output_type": "stream",
     "text": [
      "On branch \u001b[1;33mmaster\u001b[m\n",
      "Changes not staged for commit:\n",
      "  (use \"git add <file>...\" to update what will be committed)\n",
      "  (use \"git restore <file>...\" to discard changes in working directory)\n",
      "\t\u001b[31mmodified:   ms/enso_effect.md\u001b[m\n",
      "\t\u001b[31mmodified:   src/enso_model.py\u001b[m\n",
      "\n",
      "Untracked files:\n",
      "  (use \"git add <file>...\" to include in what will be committed)\n",
      "\t\u001b[31m.gitignore\u001b[m\n",
      "\n",
      "no changes added to commit (use \"git add\" and/or \"git commit -a\")\n"
     ]
    }
   ],
   "source": [
    "git status"
   ]
  },
  {
   "cell_type": "code",
   "execution_count": 68,
   "metadata": {},
   "outputs": [],
   "source": [
    "git add ms/enso_effect.md"
   ]
  },
  {
   "cell_type": "code",
   "execution_count": 69,
   "metadata": {},
   "outputs": [
    {
     "name": "stdout",
     "output_type": "stream",
     "text": [
      "On branch \u001b[1;33mmaster\u001b[m\n",
      "Changes to be committed:\n",
      "  (use \"git restore --staged <file>...\" to unstage)\n",
      "\t\u001b[32mmodified:   ms/enso_effect.md\u001b[m\n",
      "\n",
      "Changes not staged for commit:\n",
      "  (use \"git add <file>...\" to update what will be committed)\n",
      "  (use \"git restore <file>...\" to discard changes in working directory)\n",
      "\t\u001b[31mmodified:   src/enso_model.py\u001b[m\n",
      "\n",
      "Untracked files:\n",
      "  (use \"git add <file>...\" to include in what will be committed)\n",
      "\t\u001b[31m.gitignore\u001b[m\n",
      "\n"
     ]
    }
   ],
   "source": [
    "git status"
   ]
  },
  {
   "cell_type": "code",
   "execution_count": 70,
   "metadata": {},
   "outputs": [
    {
     "name": "stdout",
     "output_type": "stream",
     "text": [
      "[master 1f4de24] Add Jabberwock 1st paragraph to the enso effect ms\n",
      " 1 file changed, 4 insertions(+)\n"
     ]
    }
   ],
   "source": [
    "git commit -m \"Add Jabberwock 1st paragraph to the enso effect ms\""
   ]
  },
  {
   "cell_type": "code",
   "execution_count": 71,
   "metadata": {},
   "outputs": [
    {
     "name": "stdout",
     "output_type": "stream",
     "text": [
      "On branch \u001b[1;33mmaster\u001b[m\n",
      "Changes not staged for commit:\n",
      "  (use \"git add <file>...\" to update what will be committed)\n",
      "  (use \"git restore <file>...\" to discard changes in working directory)\n",
      "\t\u001b[31mmodified:   src/enso_model.py\u001b[m\n",
      "\n",
      "Untracked files:\n",
      "  (use \"git add <file>...\" to include in what will be committed)\n",
      "\t\u001b[31m.gitignore\u001b[m\n",
      "\n",
      "no changes added to commit (use \"git add\" and/or \"git commit -a\")\n"
     ]
    }
   ],
   "source": [
    "git status"
   ]
  },
  {
   "cell_type": "code",
   "execution_count": 72,
   "metadata": {},
   "outputs": [
    {
     "name": "stdout",
     "output_type": "stream",
     "text": [
      "Waiting for Emacs...\n"
     ]
    }
   ],
   "source": [
    "emacsclient -c ms/enso_effect.md"
   ]
  },
  {
   "cell_type": "code",
   "execution_count": 73,
   "metadata": {},
   "outputs": [
    {
     "name": "stdout",
     "output_type": "stream",
     "text": [
      "On branch \u001b[1;33mmaster\u001b[m\n",
      "Changes not staged for commit:\n",
      "  (use \"git add <file>...\" to update what will be committed)\n",
      "  (use \"git restore <file>...\" to discard changes in working directory)\n",
      "\t\u001b[31mmodified:   ms/enso_effect.md\u001b[m\n",
      "\t\u001b[31mmodified:   src/enso_model.py\u001b[m\n",
      "\n",
      "Untracked files:\n",
      "  (use \"git add <file>...\" to include in what will be committed)\n",
      "\t\u001b[31m.gitignore\u001b[m\n",
      "\n",
      "no changes added to commit (use \"git add\" and/or \"git commit -a\")\n"
     ]
    }
   ],
   "source": [
    "git status"
   ]
  },
  {
   "cell_type": "markdown",
   "metadata": {},
   "source": [
    "(run from cli): `git add -p ms/enso_effect.md`"
   ]
  },
  {
   "cell_type": "code",
   "execution_count": 74,
   "metadata": {},
   "outputs": [
    {
     "name": "stdout",
     "output_type": "stream",
     "text": [
      "On branch \u001b[1;33mmaster\u001b[m\n",
      "Changes to be committed:\n",
      "  (use \"git restore --staged <file>...\" to unstage)\n",
      "\t\u001b[32mmodified:   ms/enso_effect.md\u001b[m\n",
      "\n",
      "Changes not staged for commit:\n",
      "  (use \"git add <file>...\" to update what will be committed)\n",
      "  (use \"git restore <file>...\" to discard changes in working directory)\n",
      "\t\u001b[31mmodified:   ms/enso_effect.md\u001b[m\n",
      "\t\u001b[31mmodified:   src/enso_model.py\u001b[m\n",
      "\n",
      "Untracked files:\n",
      "  (use \"git add <file>...\" to include in what will be committed)\n",
      "\t\u001b[31m.gitignore\u001b[m\n",
      "\n"
     ]
    }
   ],
   "source": [
    "git status"
   ]
  },
  {
   "cell_type": "code",
   "execution_count": 75,
   "metadata": {},
   "outputs": [],
   "source": [
    "git add src/enso_model.py"
   ]
  },
  {
   "cell_type": "code",
   "execution_count": 76,
   "metadata": {},
   "outputs": [
    {
     "name": "stdout",
     "output_type": "stream",
     "text": [
      "On branch \u001b[1;33mmaster\u001b[m\n",
      "Changes to be committed:\n",
      "  (use \"git restore --staged <file>...\" to unstage)\n",
      "\t\u001b[32mmodified:   ms/enso_effect.md\u001b[m\n",
      "\t\u001b[32mmodified:   src/enso_model.py\u001b[m\n",
      "\n",
      "Changes not staged for commit:\n",
      "  (use \"git add <file>...\" to update what will be committed)\n",
      "  (use \"git restore <file>...\" to discard changes in working directory)\n",
      "\t\u001b[31mmodified:   ms/enso_effect.md\u001b[m\n",
      "\n",
      "Untracked files:\n",
      "  (use \"git add <file>...\" to include in what will be committed)\n",
      "\t\u001b[31m.gitignore\u001b[m\n",
      "\n"
     ]
    }
   ],
   "source": [
    "git status"
   ]
  },
  {
   "cell_type": "code",
   "execution_count": 77,
   "metadata": {},
   "outputs": [
    {
     "name": "stdout",
     "output_type": "stream",
     "text": [
      "[master c610183] Edits intro and conclusion ms\n",
      " 2 files changed, 8 insertions(+)\n"
     ]
    }
   ],
   "source": [
    "git commit -m \"Edits intro and conclusion ms\n",
    "\n",
    "First draft intro Jabberwock\n",
    "Format conclusion and rephrase last paragraph\""
   ]
  },
  {
   "cell_type": "code",
   "execution_count": 78,
   "metadata": {},
   "outputs": [
    {
     "name": "stdout",
     "output_type": "stream",
     "text": [
      "On branch \u001b[1;33mmaster\u001b[m\n",
      "Changes not staged for commit:\n",
      "  (use \"git add <file>...\" to update what will be committed)\n",
      "  (use \"git restore <file>...\" to discard changes in working directory)\n",
      "\t\u001b[31mmodified:   ms/enso_effect.md\u001b[m\n",
      "\n",
      "Untracked files:\n",
      "  (use \"git add <file>...\" to include in what will be committed)\n",
      "\t\u001b[31m.gitignore\u001b[m\n",
      "\n",
      "no changes added to commit (use \"git add\" and/or \"git commit -a\")\n"
     ]
    }
   ],
   "source": [
    "git status"
   ]
  },
  {
   "cell_type": "code",
   "execution_count": 79,
   "metadata": {},
   "outputs": [],
   "source": [
    "git add .gitignore"
   ]
  },
  {
   "cell_type": "code",
   "execution_count": 80,
   "metadata": {},
   "outputs": [
    {
     "name": "stdout",
     "output_type": "stream",
     "text": [
      "On branch \u001b[1;33mmaster\u001b[m\n",
      "Changes to be committed:\n",
      "  (use \"git restore --staged <file>...\" to unstage)\n",
      "\t\u001b[32mnew file:   .gitignore\u001b[m\n",
      "\n",
      "Changes not staged for commit:\n",
      "  (use \"git add <file>...\" to update what will be committed)\n",
      "  (use \"git restore <file>...\" to discard changes in working directory)\n",
      "\t\u001b[31mmodified:   ms/enso_effect.md\u001b[m\n",
      "\n"
     ]
    }
   ],
   "source": [
    "git status"
   ]
  },
  {
   "cell_type": "code",
   "execution_count": 81,
   "metadata": {},
   "outputs": [
    {
     "name": "stdout",
     "output_type": "stream",
     "text": [
      "[master 13ad71c] Add .gitignore with result dir\n",
      " 1 file changed, 1 insertion(+)\n",
      " create mode 100644 .gitignore\n"
     ]
    }
   ],
   "source": [
    "git commit -m \"Add .gitignore with result dir\""
   ]
  },
  {
   "cell_type": "code",
   "execution_count": 82,
   "metadata": {},
   "outputs": [
    {
     "name": "stdout",
     "output_type": "stream",
     "text": [
      "On branch \u001b[1;33mmaster\u001b[m\n",
      "Changes not staged for commit:\n",
      "  (use \"git add <file>...\" to update what will be committed)\n",
      "  (use \"git restore <file>...\" to discard changes in working directory)\n",
      "\t\u001b[31mmodified:   ms/enso_effect.md\u001b[m\n",
      "\n",
      "no changes added to commit (use \"git add\" and/or \"git commit -a\")\n"
     ]
    }
   ],
   "source": [
    "git status"
   ]
  },
  {
   "cell_type": "code",
   "execution_count": 83,
   "metadata": {},
   "outputs": [
    {
     "name": "stdout",
     "output_type": "stream",
     "text": [
      "[master 5695aaf] Add methods and result ms\n",
      " 1 file changed, 2 insertions(+)\n"
     ]
    }
   ],
   "source": [
    "git commit -a -m \"Add methods and result ms\""
   ]
  },
  {
   "cell_type": "code",
   "execution_count": 84,
   "metadata": {},
   "outputs": [
    {
     "name": "stdout",
     "output_type": "stream",
     "text": [
      "On branch \u001b[1;33mmaster\u001b[m\n",
      "nothing to commit, working tree clean\n"
     ]
    }
   ],
   "source": [
    "git status"
   ]
  },
  {
   "cell_type": "code",
   "execution_count": 85,
   "metadata": {},
   "outputs": [],
   "source": [
    "echo \"Add content to the ms\" >> ms/enso_effect.md"
   ]
  },
  {
   "cell_type": "code",
   "execution_count": 86,
   "metadata": {},
   "outputs": [
    {
     "name": "stdout",
     "output_type": "stream",
     "text": [
      "On branch \u001b[1;33mmaster\u001b[m\n",
      "Changes not staged for commit:\n",
      "  (use \"git add <file>...\" to update what will be committed)\n",
      "  (use \"git restore <file>...\" to discard changes in working directory)\n",
      "\t\u001b[31mmodified:   ms/enso_effect.md\u001b[m\n",
      "\n",
      "no changes added to commit (use \"git add\" and/or \"git commit -a\")\n"
     ]
    }
   ],
   "source": [
    "git status"
   ]
  },
  {
   "cell_type": "code",
   "execution_count": 87,
   "metadata": {},
   "outputs": [
    {
     "name": "stdout",
     "output_type": "stream",
     "text": [
      "[master 62bfbea] Minor edits enso model ms\n",
      " 1 file changed, 1 insertion(+)\n"
     ]
    }
   ],
   "source": [
    "git commit -a -m \"Minor edits enso model ms\""
   ]
  },
  {
   "cell_type": "code",
   "execution_count": 88,
   "metadata": {},
   "outputs": [],
   "source": [
    "echo \"Add code to the script\" >> src/enso_model.py"
   ]
  },
  {
   "cell_type": "code",
   "execution_count": null,
   "metadata": {},
   "outputs": [],
   "source": [
    "git status"
   ]
  },
  {
   "cell_type": "code",
   "execution_count": 89,
   "metadata": {},
   "outputs": [
    {
     "name": "stdout",
     "output_type": "stream",
     "text": [
      "[master 265338c] Minor edits script\n",
      " 1 file changed, 1 insertion(+)\n"
     ]
    }
   ],
   "source": [
    "git commit -a -m \"Minor edits script\""
   ]
  },
  {
   "cell_type": "code",
   "execution_count": null,
   "metadata": {},
   "outputs": [],
   "source": [
    "git status"
   ]
  },
  {
   "cell_type": "code",
   "execution_count": 90,
   "metadata": {},
   "outputs": [
    {
     "name": "stdout",
     "output_type": "stream",
     "text": [
      "On branch \u001b[1;33mmaster\u001b[m\n",
      "nothing to commit, working tree clean\n"
     ]
    }
   ],
   "source": [
    "git status"
   ]
  },
  {
   "cell_type": "markdown",
   "metadata": {},
   "source": [
    "<br>"
   ]
  },
  {
   "cell_type": "markdown",
   "metadata": {
    "slideshow": {
     "slide_type": "subslide"
    }
   },
   "source": [
    "<span class=\"header\">Recording history</span>\n",
    "\n",
    "### <div style=\"padding: 7vmin 0 0 0\">Inspecting changes</div>\n",
    "<br>\n",
    "\n",
    "We saw that `git status` is the key command to get information on the current state of the repo.\n",
    "\n",
    "While this gives us the list of new files and files with changes, it doesn't allow us to see what those changes are. For this, we need `git diff`.\n",
    "\n",
    "`git diff` shows changes between any two elements (e.g. between commits, between a commit and your working tree, between branches, etc.)."
   ]
  },
  {
   "cell_type": "code",
   "execution_count": 91,
   "metadata": {},
   "outputs": [
    {
     "name": "stdout",
     "output_type": "stream",
     "text": [
      "On branch \u001b[1;33mmaster\u001b[m\n",
      "nothing to commit, working tree clean\n"
     ]
    }
   ],
   "source": [
    "git status"
   ]
  },
  {
   "cell_type": "code",
   "execution_count": 92,
   "metadata": {},
   "outputs": [],
   "source": [
    "echo \"Adding some ending to the ms\" >> ms/enso_effect.md"
   ]
  },
  {
   "cell_type": "code",
   "execution_count": 93,
   "metadata": {},
   "outputs": [],
   "source": [
    "echo \"Adding more code to the script\" >> src/enso_model.py"
   ]
  },
  {
   "cell_type": "code",
   "execution_count": 94,
   "metadata": {},
   "outputs": [],
   "source": [
    "git add ms/enso_effect.md"
   ]
  },
  {
   "cell_type": "code",
   "execution_count": 95,
   "metadata": {},
   "outputs": [
    {
     "name": "stdout",
     "output_type": "stream",
     "text": [
      "On branch \u001b[1;33mmaster\u001b[m\n",
      "Changes to be committed:\n",
      "  (use \"git restore --staged <file>...\" to unstage)\n",
      "\t\u001b[32mmodified:   ms/enso_effect.md\u001b[m\n",
      "\n",
      "Changes not staged for commit:\n",
      "  (use \"git add <file>...\" to update what will be committed)\n",
      "  (use \"git restore <file>...\" to discard changes in working directory)\n",
      "\t\u001b[31mmodified:   src/enso_model.py\u001b[m\n",
      "\n"
     ]
    }
   ],
   "source": [
    "git status"
   ]
  },
  {
   "cell_type": "markdown",
   "metadata": {
    "slideshow": {
     "slide_type": "subslide"
    }
   },
   "source": [
    "<span class=\"header\"><font color=\"#e66700\">**Under the hood**</font></span>\n",
    "<br><br>\n",
    "![](diagrams_v2/50.png)"
   ]
  },
  {
   "cell_type": "markdown",
   "metadata": {},
   "source": [
    "<br>"
   ]
  },
  {
   "cell_type": "markdown",
   "metadata": {
    "slideshow": {
     "slide_type": "subslide"
    }
   },
   "source": [
    "<span class=\"header\">Recording history</span>\n",
    "\n",
    "### <div style=\"padding: 7vmin 0 0 0\">Inspecting changes</div>\n",
    "<br>\n",
    "\n",
    "#### Difference between the working directory and the index\n",
    "\n",
    "That's all your unstaged changes *on tracked files*.\n",
    "\n",
    "Git can see new files you haven't staged: it lists them in the output of `git status`. Until you put them under version control by staging them for the first time however, Git has no information about their content: at this point, they are untracked and they are not part of the working tree yet. So their content never appears in the output of `git diff`."
   ]
  },
  {
   "cell_type": "markdown",
   "metadata": {
    "slideshow": {
     "slide_type": "subslide"
    }
   },
   "source": [
    "<span class=\"header\"><font color=\"#e66700\">**Under the hood**</font></span>\n",
    "<br><br>\n",
    "![](diagrams_v2/51.png)"
   ]
  },
  {
   "cell_type": "code",
   "execution_count": 96,
   "metadata": {
    "slideshow": {
     "slide_type": "subslide"
    }
   },
   "outputs": [
    {
     "name": "stdout",
     "output_type": "stream",
     "text": [
      "\u001b[1mdiff --git a/src/enso_model.py b/src/enso_model.py\u001b[m\n",
      "\u001b[1mindex 66194d3..541a89e 100644\u001b[m\n",
      "\u001b[1m--- a/src/enso_model.py\u001b[m\n",
      "\u001b[1m+++ b/src/enso_model.py\u001b[m\n",
      "\u001b[36m@@ -6,3 +6,4 @@\u001b[m \u001b[mThe jaws that bite, the claws that catch!\u001b[m\n",
      " Beware the Jubjub bird, and shun\u001b[m\n",
      " The frumious Bandersnatch\u001b[m\n",
      " La la la\u001b[m\n",
      "\u001b[32m+\u001b[m\u001b[32mHere is some ending to the script\u001b[m\n"
     ]
    }
   ],
   "source": [
    "git diff"
   ]
  },
  {
   "cell_type": "markdown",
   "metadata": {},
   "source": [
    "<br>"
   ]
  },
  {
   "cell_type": "markdown",
   "metadata": {
    "slideshow": {
     "slide_type": "subslide"
    }
   },
   "source": [
    "<span class=\"header\">Recording history</span>\n",
    "\n",
    "### <div style=\"padding: 7vmin 0 0 0\">Inspecting changes</div>\n",
    "<br>\n",
    "\n",
    "#### Difference between the index and your last commit\n",
    "\n",
    "That's your staged changes ready to be committed.\n",
    "\n",
    "That is, that's what would be committed with `git commit -m \"Some message\"`."
   ]
  },
  {
   "cell_type": "markdown",
   "metadata": {
    "slideshow": {
     "slide_type": "subslide"
    }
   },
   "source": [
    "<span class=\"header\"><font color=\"#e66700\">**Under the hood**</font></span>\n",
    "<br><br>\n",
    "![](diagrams_v2/52.png)"
   ]
  },
  {
   "cell_type": "code",
   "execution_count": 97,
   "metadata": {
    "slideshow": {
     "slide_type": "subslide"
    }
   },
   "outputs": [
    {
     "name": "stdout",
     "output_type": "stream",
     "text": [
      "\u001b[1mdiff --git a/ms/enso_effect.md b/ms/enso_effect.md\u001b[m\n",
      "\u001b[1mindex 22c866f..6519a82 100644\u001b[m\n",
      "\u001b[1m--- a/ms/enso_effect.md\u001b[m\n",
      "\u001b[1m+++ b/ms/enso_effect.md\u001b[m\n",
      "\u001b[36m@@ -18,3 +18,4 @@\u001b[m \u001b[mDid gyre and gimble in the wabe:\u001b[m\n",
      " All mimsy were the borogoves,\u001b[m\n",
      " And the mome raths outgrabe\u001b[m\n",
      " La la la\u001b[m\n",
      "\u001b[32m+\u001b[m\u001b[32mAdding some ending to the ms\u001b[m\n"
     ]
    }
   ],
   "source": [
    "git diff --cached"
   ]
  },
  {
   "cell_type": "markdown",
   "metadata": {},
   "source": [
    "<br>"
   ]
  },
  {
   "cell_type": "markdown",
   "metadata": {
    "slideshow": {
     "slide_type": "subslide"
    }
   },
   "source": [
    "<span class=\"header\">Recording history</span>\n",
    "\n",
    "### <div style=\"padding: 7vmin 0 0 0\">Inspecting changes</div>\n",
    "<br>\n",
    "\n",
    "#### Difference between the working directory and your last commit\n",
    "\n",
    "So both of the above combined.\n",
    "\n",
    "That's all your staged and unstaged changes (again, only on tracked files)."
   ]
  },
  {
   "cell_type": "markdown",
   "metadata": {
    "slideshow": {
     "slide_type": "subslide"
    }
   },
   "source": [
    "<span class=\"header\"><font color=\"#e66700\">**Under the hood**</font></span>\n",
    "<br><br>\n",
    "![](diagrams_v2/53.png)"
   ]
  },
  {
   "cell_type": "code",
   "execution_count": 98,
   "metadata": {
    "slideshow": {
     "slide_type": "subslide"
    }
   },
   "outputs": [
    {
     "name": "stdout",
     "output_type": "stream",
     "text": [
      "\u001b[1mdiff --git a/ms/enso_effect.md b/ms/enso_effect.md\u001b[m\n",
      "\u001b[1mindex 22c866f..6519a82 100644\u001b[m\n",
      "\u001b[1m--- a/ms/enso_effect.md\u001b[m\n",
      "\u001b[1m+++ b/ms/enso_effect.md\u001b[m\n",
      "\u001b[36m@@ -18,3 +18,4 @@\u001b[m \u001b[mDid gyre and gimble in the wabe:\u001b[m\n",
      " All mimsy were the borogoves,\u001b[m\n",
      " And the mome raths outgrabe\u001b[m\n",
      " La la la\u001b[m\n",
      "\u001b[32m+\u001b[m\u001b[32mAdding some ending to the ms\u001b[m\n",
      "\u001b[1mdiff --git a/src/enso_model.py b/src/enso_model.py\u001b[m\n",
      "\u001b[1mindex 66194d3..541a89e 100644\u001b[m\n",
      "\u001b[1m--- a/src/enso_model.py\u001b[m\n",
      "\u001b[1m+++ b/src/enso_model.py\u001b[m\n",
      "\u001b[36m@@ -6,3 +6,4 @@\u001b[m \u001b[mThe jaws that bite, the claws that catch!\u001b[m\n",
      " Beware the Jubjub bird, and shun\u001b[m\n",
      " The frumious Bandersnatch\u001b[m\n",
      " La la la\u001b[m\n",
      "\u001b[32m+\u001b[m\u001b[32mHere is some ending to the script\u001b[m\n"
     ]
    }
   ],
   "source": [
    "git diff HEAD"
   ]
  },
  {
   "cell_type": "code",
   "execution_count": 99,
   "metadata": {},
   "outputs": [],
   "source": [
    "echo \"Manuscript on long-term acidity change in the Pacific\" > ms/acidity.md"
   ]
  },
  {
   "cell_type": "code",
   "execution_count": 100,
   "metadata": {},
   "outputs": [
    {
     "name": "stdout",
     "output_type": "stream",
     "text": [
      "On branch \u001b[1;33mmaster\u001b[m\n",
      "Changes to be committed:\n",
      "  (use \"git restore --staged <file>...\" to unstage)\n",
      "\t\u001b[32mmodified:   ms/enso_effect.md\u001b[m\n",
      "\n",
      "Changes not staged for commit:\n",
      "  (use \"git add <file>...\" to update what will be committed)\n",
      "  (use \"git restore <file>...\" to discard changes in working directory)\n",
      "\t\u001b[31mmodified:   src/enso_model.py\u001b[m\n",
      "\n",
      "Untracked files:\n",
      "  (use \"git add <file>...\" to include in what will be committed)\n",
      "\t\u001b[31mms/acidity.md\u001b[m\n",
      "\n"
     ]
    }
   ],
   "source": [
    "git status"
   ]
  },
  {
   "cell_type": "code",
   "execution_count": 101,
   "metadata": {},
   "outputs": [
    {
     "name": "stdout",
     "output_type": "stream",
     "text": [
      "\u001b[1mdiff --git a/ms/enso_effect.md b/ms/enso_effect.md\u001b[m\n",
      "\u001b[1mindex 22c866f..6519a82 100644\u001b[m\n",
      "\u001b[1m--- a/ms/enso_effect.md\u001b[m\n",
      "\u001b[1m+++ b/ms/enso_effect.md\u001b[m\n",
      "\u001b[36m@@ -18,3 +18,4 @@\u001b[m \u001b[mDid gyre and gimble in the wabe:\u001b[m\n",
      " All mimsy were the borogoves,\u001b[m\n",
      " And the mome raths outgrabe\u001b[m\n",
      " La la la\u001b[m\n",
      "\u001b[32m+\u001b[m\u001b[32mAdding some ending to the ms\u001b[m\n",
      "\u001b[1mdiff --git a/src/enso_model.py b/src/enso_model.py\u001b[m\n",
      "\u001b[1mindex 66194d3..541a89e 100644\u001b[m\n",
      "\u001b[1m--- a/src/enso_model.py\u001b[m\n",
      "\u001b[1m+++ b/src/enso_model.py\u001b[m\n",
      "\u001b[36m@@ -6,3 +6,4 @@\u001b[m \u001b[mThe jaws that bite, the claws that catch!\u001b[m\n",
      " Beware the Jubjub bird, and shun\u001b[m\n",
      " The frumious Bandersnatch\u001b[m\n",
      " La la la\u001b[m\n",
      "\u001b[32m+\u001b[m\u001b[32mHere is some ending to the script\u001b[m\n"
     ]
    }
   ],
   "source": [
    "git diff HEAD"
   ]
  },
  {
   "cell_type": "markdown",
   "metadata": {},
   "source": [
    "<br>"
   ]
  },
  {
   "cell_type": "markdown",
   "metadata": {
    "slideshow": {
     "slide_type": "subslide"
    }
   },
   "source": [
    "<span class=\"header\">Recording history</span>\n",
    "\n",
    "### <div style=\"padding: 7vmin 0 0 0\">Inspecting changes</div>\n",
    "<br>\n",
    "\n",
    "#### Difference between commits"
   ]
  },
  {
   "cell_type": "code",
   "execution_count": 103,
   "metadata": {},
   "outputs": [
    {
     "name": "stdout",
     "output_type": "stream",
     "text": [
      "\u001b[1mdiff --git a/src/enso_model.py b/src/enso_model.py\u001b[m\n",
      "\u001b[1mindex 280e7d5..66194d3 100644\u001b[m\n",
      "\u001b[1m--- a/src/enso_model.py\u001b[m\n",
      "\u001b[1m+++ b/src/enso_model.py\u001b[m\n",
      "\u001b[36m@@ -5,3 +5,4 @@\u001b[m \u001b[mBeware the Jabberwock, my son!\u001b[m\n",
      " The jaws that bite, the claws that catch!\u001b[m\n",
      " Beware the Jubjub bird, and shun\u001b[m\n",
      " The frumious Bandersnatch\u001b[m\n",
      "\u001b[32m+\u001b[m\u001b[32mLa la la\u001b[m\n"
     ]
    }
   ],
   "source": [
    "git diff HEAD~ HEAD"
   ]
  },
  {
   "cell_type": "code",
   "execution_count": 108,
   "metadata": {},
   "outputs": [
    {
     "name": "stdout",
     "output_type": "stream",
     "text": [
      "\u001b[1mdiff --git a/src/enso_model.py b/src/enso_model.py\u001b[m\n",
      "\u001b[1mindex 66194d3..280e7d5 100644\u001b[m\n",
      "\u001b[1m--- a/src/enso_model.py\u001b[m\n",
      "\u001b[1m+++ b/src/enso_model.py\u001b[m\n",
      "\u001b[36m@@ -5,4 +5,3 @@\u001b[m \u001b[mBeware the Jabberwock, my son!\u001b[m\n",
      " The jaws that bite, the claws that catch!\u001b[m\n",
      " Beware the Jubjub bird, and shun\u001b[m\n",
      " The frumious Bandersnatch\u001b[m\n",
      "\u001b[31m-La la la\u001b[m\n"
     ]
    }
   ],
   "source": [
    "git diff HEAD HEAD~"
   ]
  },
  {
   "cell_type": "code",
   "execution_count": 104,
   "metadata": {},
   "outputs": [
    {
     "name": "stdout",
     "output_type": "stream",
     "text": [
      "265338ce9de45ed56ad8ca73a7a777b7233fdf9b\n"
     ]
    }
   ],
   "source": [
    "git rev-parse HEAD"
   ]
  },
  {
   "cell_type": "code",
   "execution_count": 105,
   "metadata": {},
   "outputs": [
    {
     "name": "stdout",
     "output_type": "stream",
     "text": [
      "265338c\n"
     ]
    }
   ],
   "source": [
    "git rev-parse --short HEAD"
   ]
  },
  {
   "cell_type": "code",
   "execution_count": 106,
   "metadata": {},
   "outputs": [
    {
     "name": "stdout",
     "output_type": "stream",
     "text": [
      "62bfbea\n"
     ]
    }
   ],
   "source": [
    "git rev-parse --short HEAD~"
   ]
  },
  {
   "cell_type": "code",
   "execution_count": 107,
   "metadata": {},
   "outputs": [
    {
     "name": "stdout",
     "output_type": "stream",
     "text": [
      "\u001b[1mdiff --git a/src/enso_model.py b/src/enso_model.py\u001b[m\n",
      "\u001b[1mindex 66194d3..280e7d5 100644\u001b[m\n",
      "\u001b[1m--- a/src/enso_model.py\u001b[m\n",
      "\u001b[1m+++ b/src/enso_model.py\u001b[m\n",
      "\u001b[36m@@ -5,4 +5,3 @@\u001b[m \u001b[mBeware the Jabberwock, my son!\u001b[m\n",
      " The jaws that bite, the claws that catch!\u001b[m\n",
      " Beware the Jubjub bird, and shun\u001b[m\n",
      " The frumious Bandersnatch\u001b[m\n",
      "\u001b[31m-La la la\u001b[m\n"
     ]
    }
   ],
   "source": [
    "git diff 265338c 62bfbea"
   ]
  },
  {
   "cell_type": "markdown",
   "metadata": {},
   "source": [
    "<br>"
   ]
  },
  {
   "cell_type": "markdown",
   "metadata": {
    "slideshow": {
     "slide_type": "subslide"
    }
   },
   "source": [
    "<span class=\"header\">Recording history</span>\n",
    "\n",
    "### <div style=\"padding: 7vmin 0 0 0\">Inspecting changes</div>\n",
    "<br>\n",
    "\n",
    "`git diff` uses a pager (by default, [less](https://en.wikipedia.org/wiki/Less_(Unix))).\n",
    "\n",
    "To navigate in the pager:\n",
    "\n",
    "```\n",
    "SPACE   scroll one screen down\n",
    "b       scroll one screen up\n",
    "q       exit\n",
    "```\n",
    "Type `man less` and look at the \"COMMANDS\" section for more info.\n",
    "\n",
    "You can circumvent the pager."
   ]
  },
  {
   "cell_type": "code",
   "execution_count": 110,
   "metadata": {},
   "outputs": [
    {
     "name": "stdout",
     "output_type": "stream",
     "text": [
      "\u001b[1mdiff --git a/ms/enso_effect.md b/ms/enso_effect.md\u001b[m\n",
      "\u001b[1mindex 22c866f..6519a82 100644\u001b[m\n",
      "\u001b[1m--- a/ms/enso_effect.md\u001b[m\n",
      "\u001b[1m+++ b/ms/enso_effect.md\u001b[m\n",
      "\u001b[36m@@ -18,3 +18,4 @@\u001b[m \u001b[mDid gyre and gimble in the wabe:\u001b[m\n",
      " All mimsy were the borogoves,\u001b[m\n",
      " And the mome raths outgrabe\u001b[m\n",
      " La la la\u001b[m\n",
      "\u001b[32m+\u001b[m\u001b[32mAdding some ending to the ms\u001b[m\n",
      "\u001b[1mdiff --git a/src/enso_model.py b/src/enso_model.py\u001b[m\n",
      "\u001b[1mindex 66194d3..541a89e 100644\u001b[m\n",
      "\u001b[1m--- a/src/enso_model.py\u001b[m\n",
      "\u001b[1m+++ b/src/enso_model.py\u001b[m\n",
      "\u001b[36m@@ -6,3 +6,4 @@\u001b[m \u001b[mThe jaws that bite, the claws that catch!\u001b[m\n",
      " Beware the Jubjub bird, and shun\u001b[m\n",
      " The frumious Bandersnatch\u001b[m\n",
      " La la la\u001b[m\n",
      "\u001b[32m+\u001b[m\u001b[32mHere is some ending to the script\u001b[m\n"
     ]
    }
   ],
   "source": [
    "git --no-pager diff HEAD"
   ]
  },
  {
   "cell_type": "markdown",
   "metadata": {},
   "source": [
    "<br>"
   ]
  },
  {
   "cell_type": "markdown",
   "metadata": {
    "slideshow": {
     "slide_type": "subslide"
    }
   },
   "source": [
    "<span class=\"header\">Recording history</span>\n",
    "\n",
    "### <div style=\"padding: 7vmin 0 0 0\">Inspecting changes</div>\n",
    "<br>\n",
    "\n",
    "`git show` shows one object. Applied to a commit, shows the log and changes made at that commit."
   ]
  },
  {
   "cell_type": "code",
   "execution_count": 111,
   "metadata": {},
   "outputs": [
    {
     "name": "stdout",
     "output_type": "stream",
     "text": [
      "\u001b[33mcommit 265338ce9de45ed56ad8ca73a7a777b7233fdf9b\u001b[m\u001b[33m (\u001b[m\u001b[1;36mHEAD -> \u001b[m\u001b[1;32mmaster\u001b[m\u001b[33m)\u001b[m\n",
      "Author: Marie-Helene Burle <marie.burle@westgrid.ca>\n",
      "Date:   Sat Sep 5 16:02:09 2020 -0700\n",
      "\n",
      "    Minor edits script\n",
      "\n",
      "\u001b[1mdiff --git a/src/enso_model.py b/src/enso_model.py\u001b[m\n",
      "\u001b[1mindex 280e7d5..66194d3 100644\u001b[m\n",
      "\u001b[1m--- a/src/enso_model.py\u001b[m\n",
      "\u001b[1m+++ b/src/enso_model.py\u001b[m\n",
      "\u001b[36m@@ -5,3 +5,4 @@\u001b[m \u001b[mBeware the Jabberwock, my son!\u001b[m\n",
      " The jaws that bite, the claws that catch!\u001b[m\n",
      " Beware the Jubjub bird, and shun\u001b[m\n",
      " The frumious Bandersnatch\u001b[m\n",
      "\u001b[32m+\u001b[m\u001b[32mLa la la\u001b[m\n"
     ]
    }
   ],
   "source": [
    "git show"
   ]
  },
  {
   "cell_type": "code",
   "execution_count": 112,
   "metadata": {},
   "outputs": [
    {
     "name": "stdout",
     "output_type": "stream",
     "text": [
      "\u001b[33mcommit 265338ce9de45ed56ad8ca73a7a777b7233fdf9b\u001b[m\u001b[33m (\u001b[m\u001b[1;36mHEAD -> \u001b[m\u001b[1;32mmaster\u001b[m\u001b[33m)\u001b[m\n",
      "Author: Marie-Helene Burle <marie.burle@westgrid.ca>\n",
      "Date:   Sat Sep 5 16:02:09 2020 -0700\n",
      "\n",
      "    Minor edits script\n",
      "\n",
      "\u001b[1mdiff --git a/src/enso_model.py b/src/enso_model.py\u001b[m\n",
      "\u001b[1mindex 280e7d5..66194d3 100644\u001b[m\n",
      "\u001b[1m--- a/src/enso_model.py\u001b[m\n",
      "\u001b[1m+++ b/src/enso_model.py\u001b[m\n",
      "\u001b[36m@@ -5,3 +5,4 @@\u001b[m \u001b[mBeware the Jabberwock, my son!\u001b[m\n",
      " The jaws that bite, the claws that catch!\u001b[m\n",
      " Beware the Jubjub bird, and shun\u001b[m\n",
      " The frumious Bandersnatch\u001b[m\n",
      "\u001b[32m+\u001b[m\u001b[32mLa la la\u001b[m\n"
     ]
    }
   ],
   "source": [
    "git show HEAD"
   ]
  },
  {
   "cell_type": "code",
   "execution_count": 113,
   "metadata": {},
   "outputs": [
    {
     "name": "stdout",
     "output_type": "stream",
     "text": [
      "\u001b[33mcommit 62bfbea5586ba4e942439f3727b9ca255d73fccb\u001b[m\n",
      "Author: Marie-Helene Burle <marie.burle@westgrid.ca>\n",
      "Date:   Sat Sep 5 16:02:05 2020 -0700\n",
      "\n",
      "    Minor edits enso model ms\n",
      "\n",
      "\u001b[1mdiff --git a/ms/enso_effect.md b/ms/enso_effect.md\u001b[m\n",
      "\u001b[1mindex 95df36f..22c866f 100644\u001b[m\n",
      "\u001b[1m--- a/ms/enso_effect.md\u001b[m\n",
      "\u001b[1m+++ b/ms/enso_effect.md\u001b[m\n",
      "\u001b[36m@@ -17,3 +17,4 @@\u001b[m \u001b[mTwas brillig, and the slithy toves\u001b[m\n",
      " Did gyre and gimble in the wabe:\u001b[m\n",
      " All mimsy were the borogoves,\u001b[m\n",
      " And the mome raths outgrabe\u001b[m\n",
      "\u001b[32m+\u001b[m\u001b[32mLa la la\u001b[m\n"
     ]
    }
   ],
   "source": [
    "git show HEAD~"
   ]
  },
  {
   "cell_type": "code",
   "execution_count": 114,
   "metadata": {},
   "outputs": [
    {
     "name": "stdout",
     "output_type": "stream",
     "text": [
      "\u001b[33mcommit 5695aaf06eae05e0d296669884668919eec8a281\u001b[m\n",
      "Author: Marie-Helene Burle <marie.burle@westgrid.ca>\n",
      "Date:   Sat Sep 5 16:01:47 2020 -0700\n",
      "\n",
      "    Add methods and result ms\n",
      "\n",
      "\u001b[1mdiff --git a/ms/enso_effect.md b/ms/enso_effect.md\u001b[m\n",
      "\u001b[1mindex a564aad..95df36f 100644\u001b[m\n",
      "\u001b[1m--- a/ms/enso_effect.md\u001b[m\n",
      "\u001b[1m+++ b/ms/enso_effect.md\u001b[m\n",
      "\u001b[36m@@ -6,6 +6,8 @@\u001b[m \u001b[mlalala\u001b[m\n",
      " \u001b[m\n",
      " ## Methods\u001b[m\n",
      " \u001b[m\n",
      "\u001b[32m+\u001b[m\u001b[32mA section here\u001b[m\n",
      "\u001b[32m+\u001b[m\n",
      " ## Results\u001b[m\n",
      " \u001b[m\n",
      " A section there\u001b[m\n"
     ]
    }
   ],
   "source": [
    "git show HEAD~2"
   ]
  },
  {
   "cell_type": "code",
   "execution_count": 116,
   "metadata": {},
   "outputs": [
    {
     "name": "stdout",
     "output_type": "stream",
     "text": [
      "\u001b[33m5695aaf\u001b[m Add methods and result ms\n",
      "\u001b[1mdiff --git a/ms/enso_effect.md b/ms/enso_effect.md\u001b[m\n",
      "\u001b[1mindex a564aad..95df36f 100644\u001b[m\n",
      "\u001b[1m--- a/ms/enso_effect.md\u001b[m\n",
      "\u001b[1m+++ b/ms/enso_effect.md\u001b[m\n",
      "\u001b[36m@@ -6,6 +6,8 @@\u001b[m \u001b[mlalala\u001b[m\n",
      " \u001b[m\n",
      " ## Methods\u001b[m\n",
      " \u001b[m\n",
      "\u001b[32m+\u001b[m\u001b[32mA section here\u001b[m\n",
      "\u001b[32m+\u001b[m\n",
      " ## Results\u001b[m\n",
      " \u001b[m\n",
      " A section there\u001b[m\n"
     ]
    }
   ],
   "source": [
    "git show HEAD~2 --oneline"
   ]
  },
  {
   "cell_type": "markdown",
   "metadata": {},
   "source": [
    "<br>"
   ]
  },
  {
   "cell_type": "markdown",
   "metadata": {
    "cell_style": "center",
    "slideshow": {
     "slide_type": "slide"
    }
   },
   "source": [
    "## Working with branches"
   ]
  },
  {
   "cell_type": "markdown",
   "metadata": {
    "slideshow": {
     "slide_type": "subslide"
    }
   },
   "source": [
    "<span class=\"header\">Working with branches</span>\n",
    "\n",
    "### <div style=\"padding: 5vmin 0 0 0\">Putting aside for a while (stashing)</div>\n",
    "<br>\n",
    "\n",
    "**Before moving HEAD around (amongst branches or in the past), make sure to have a clean working directory.**\n",
    "\n",
    "If you aren't ready to create a commit (messy, unfinished changes, etc.), you can stash those changes and retrieve them later."
   ]
  },
  {
   "cell_type": "code",
   "execution_count": 134,
   "metadata": {},
   "outputs": [
    {
     "name": "stdout",
     "output_type": "stream",
     "text": [
      "On branch \u001b[1;33mmaster\u001b[m\n",
      "Changes to be committed:\n",
      "  (use \"git restore --staged <file>...\" to unstage)\n",
      "\t\u001b[32mmodified:   ms/enso_effect.md\u001b[m\n",
      "\n",
      "Changes not staged for commit:\n",
      "  (use \"git add <file>...\" to update what will be committed)\n",
      "  (use \"git restore <file>...\" to discard changes in working directory)\n",
      "\t\u001b[31mmodified:   src/enso_model.py\u001b[m\n",
      "\n",
      "Untracked files:\n",
      "  (use \"git add <file>...\" to include in what will be committed)\n",
      "\t\u001b[31mms/acidity.md\u001b[m\n",
      "\n"
     ]
    }
   ],
   "source": [
    "git status"
   ]
  },
  {
   "cell_type": "code",
   "execution_count": 135,
   "metadata": {},
   "outputs": [
    {
     "name": "stdout",
     "output_type": "stream",
     "text": [
      "Saved working directory and index state WIP on master: 265338c Minor edits script\n"
     ]
    }
   ],
   "source": [
    "git stash -u  # -u to include untracked files"
   ]
  },
  {
   "cell_type": "code",
   "execution_count": 136,
   "metadata": {},
   "outputs": [
    {
     "name": "stdout",
     "output_type": "stream",
     "text": [
      "On branch \u001b[1;33mmaster\u001b[m\n",
      "nothing to commit, working tree clean\n"
     ]
    }
   ],
   "source": [
    "git status"
   ]
  },
  {
   "cell_type": "code",
   "execution_count": 137,
   "metadata": {},
   "outputs": [
    {
     "name": "stdout",
     "output_type": "stream",
     "text": [
      "stash@{0}: WIP on master: 265338c Minor edits script\n",
      "stash@{1}: WIP on master: 265338c Minor edits script\n",
      "stash@{2}: WIP on master: 265338c Minor edits script\n",
      "stash@{3}: WIP on master: 265338c Minor edits script\n",
      "stash@{4}: WIP on master: 265338c Minor edits script\n"
     ]
    }
   ],
   "source": [
    "git stash list"
   ]
  },
  {
   "cell_type": "code",
   "execution_count": 139,
   "metadata": {},
   "outputs": [
    {
     "name": "stdout",
     "output_type": "stream",
     "text": [
      "On branch \u001b[1;33mmaster\u001b[m\n",
      "Changes to be committed:\n",
      "  (use \"git restore --staged <file>...\" to unstage)\n",
      "\t\u001b[32mmodified:   ms/enso_effect.md\u001b[m\n",
      "\n",
      "Changes not staged for commit:\n",
      "  (use \"git add <file>...\" to update what will be committed)\n",
      "  (use \"git restore <file>...\" to discard changes in working directory)\n",
      "\t\u001b[31mmodified:   src/enso_model.py\u001b[m\n",
      "\n",
      "Untracked files:\n",
      "  (use \"git add <file>...\" to include in what will be committed)\n",
      "\t\u001b[31mms/acidity.md\u001b[m\n",
      "\n"
     ]
    }
   ],
   "source": [
    "git stash apply --index  # --index to restage the files that were staged before"
   ]
  },
  {
   "cell_type": "code",
   "execution_count": 148,
   "metadata": {},
   "outputs": [
    {
     "name": "stdout",
     "output_type": "stream",
     "text": [
      "Dropped refs/stash@{0} (f27cf74bf846d99793daab5f776631ae8faaf9d3)\n"
     ]
    }
   ],
   "source": [
    "git stash drop  # delete the stash"
   ]
  },
  {
   "cell_type": "code",
   "execution_count": 157,
   "metadata": {},
   "outputs": [],
   "source": [
    "git stash list"
   ]
  },
  {
   "cell_type": "code",
   "execution_count": 158,
   "metadata": {},
   "outputs": [
    {
     "name": "stdout",
     "output_type": "stream",
     "text": [
      "Saved working directory and index state WIP on master: 265338c Minor edits script\n"
     ]
    }
   ],
   "source": [
    "git stash -u"
   ]
  },
  {
   "cell_type": "code",
   "execution_count": 159,
   "metadata": {},
   "outputs": [
    {
     "name": "stdout",
     "output_type": "stream",
     "text": [
      "On branch \u001b[1;33mmaster\u001b[m\n",
      "nothing to commit, working tree clean\n"
     ]
    }
   ],
   "source": [
    "git status"
   ]
  },
  {
   "cell_type": "markdown",
   "metadata": {},
   "source": [
    "<br>"
   ]
  },
  {
   "cell_type": "markdown",
   "metadata": {
    "slideshow": {
     "slide_type": "subslide"
    }
   },
   "source": [
    "<span class=\"header\">Working with branches</span>\n",
    "\n",
    "### <div style=\"padding: 5vmin 0 0 0\">Putting aside for a while (stashing)</div>\n",
    "<br>\n",
    "\n",
    "A few notes:\n",
    "\n",
    "- You can apply a stash on a dirty directory\n",
    "- You can apply a stash on another branch\n",
    "- You can apply and drop a stash in one command with `git stash pop`, but the `--index` option is not available\n",
    "- You can have several stashes. In that case, Git always assumes you want to perform an action on the last one. If that is not the case, you have to provide the name of the stash you want to use (e.g. `git stash apply stash@{1}`. You can find that name with `git stash list`)."
   ]
  },
  {
   "cell_type": "markdown",
   "metadata": {},
   "source": [
    "<br>"
   ]
  },
  {
   "cell_type": "markdown",
   "metadata": {
    "slideshow": {
     "slide_type": "subslide"
    }
   },
   "source": [
    "<span class=\"header\">Working with branches</span>\n",
    "\n",
    "### <div style=\"padding: 3vmin 0 0 0\">Creating branches</div>\n",
    "<br>\n",
    "\n",
    "#### \"master\"\n",
    "\n",
    "When you initialized your repository with `git init`, a branch got created. It is called master (you could rename it to something else if you wanted—that initial branch, despite its name, has nothing special).\n",
    "\n",
    "So as soon as you start working on your project, there is one branch (master) and you are on it."
   ]
  },
  {
   "cell_type": "markdown",
   "metadata": {
    "slideshow": {
     "slide_type": "subslide"
    }
   },
   "source": [
    "<span class=\"header\">Working with branches</span>\n",
    "\n",
    "### <div style=\"padding: 5vmin 0 0 0\">Creating branches</div>\n",
    "\n",
    "#### Additional branches\n",
    "\n",
    "You can create additional branches with `git branch <branch-name>`."
   ]
  },
  {
   "cell_type": "code",
   "execution_count": 160,
   "metadata": {},
   "outputs": [
    {
     "name": "stdout",
     "output_type": "stream",
     "text": [
      "* \u001b[1;33mmaster\u001b[m\n",
      "  \u001b[33mtest\u001b[m\n"
     ]
    }
   ],
   "source": [
    "git branch"
   ]
  },
  {
   "cell_type": "code",
   "execution_count": 152,
   "metadata": {},
   "outputs": [],
   "source": [
    "git branch test"
   ]
  },
  {
   "cell_type": "code",
   "execution_count": 161,
   "metadata": {},
   "outputs": [
    {
     "name": "stdout",
     "output_type": "stream",
     "text": [
      "On branch \u001b[1;33mmaster\u001b[m\n",
      "nothing to commit, working tree clean\n"
     ]
    }
   ],
   "source": [
    "git status"
   ]
  },
  {
   "cell_type": "code",
   "execution_count": 154,
   "metadata": {},
   "outputs": [
    {
     "name": "stdout",
     "output_type": "stream",
     "text": [
      "* \u001b[1;33mmaster\u001b[m\n",
      "  \u001b[33mtest\u001b[m\n"
     ]
    }
   ],
   "source": [
    "git branch"
   ]
  },
  {
   "cell_type": "markdown",
   "metadata": {},
   "source": [
    "<br>"
   ]
  },
  {
   "cell_type": "markdown",
   "metadata": {
    "slideshow": {
     "slide_type": "subslide"
    }
   },
   "source": [
    "<span class=\"header\"><font color=\"#e66700\">**Under the hood**</font></span>\n",
    "<br><br>\n",
    "![](diagrams_v2/21.png)"
   ]
  },
  {
   "cell_type": "markdown",
   "metadata": {
    "slideshow": {
     "slide_type": "subslide"
    }
   },
   "source": [
    "<span class=\"header\"><font color=\"#e66700\">**Under the hood**</font></span>\n",
    "<br><br>\n",
    "![](diagrams_v2/22.png)"
   ]
  },
  {
   "cell_type": "markdown",
   "metadata": {
    "slideshow": {
     "slide_type": "subslide"
    }
   },
   "source": [
    "<span class=\"header\"><font color=\"#e66700\">**Under the hood**</font></span>\n",
    "<br><br>\n",
    "![](diagrams_v2/23.png)"
   ]
  },
  {
   "cell_type": "markdown",
   "metadata": {
    "slideshow": {
     "slide_type": "subslide"
    }
   },
   "source": [
    "<span class=\"header\">Working with branches</span>\n",
    "\n",
    "### <div style=\"padding: 5vmin 0 0 0\">Switching branch</div>\n",
    "<br>\n",
    "\n",
    "To switch branch, you use `git checkout <branch-name>`."
   ]
  },
  {
   "cell_type": "code",
   "execution_count": 179,
   "metadata": {},
   "outputs": [
    {
     "name": "stdout",
     "output_type": "stream",
     "text": [
      "Switched to branch 'test'\n"
     ]
    }
   ],
   "source": [
    "git checkout test"
   ]
  },
  {
   "cell_type": "code",
   "execution_count": 163,
   "metadata": {},
   "outputs": [
    {
     "name": "stdout",
     "output_type": "stream",
     "text": [
      "On branch \u001b[1;33mtest\u001b[m\n",
      "nothing to commit, working tree clean\n"
     ]
    }
   ],
   "source": [
    "git status"
   ]
  },
  {
   "cell_type": "code",
   "execution_count": 164,
   "metadata": {},
   "outputs": [
    {
     "name": "stdout",
     "output_type": "stream",
     "text": [
      "  \u001b[33mmaster\u001b[m\n",
      "* \u001b[1;33mtest\u001b[m\n"
     ]
    }
   ],
   "source": [
    "git branch"
   ]
  },
  {
   "cell_type": "markdown",
   "metadata": {},
   "source": [
    "<br>"
   ]
  },
  {
   "cell_type": "markdown",
   "metadata": {
    "slideshow": {
     "slide_type": "subslide"
    }
   },
   "source": [
    "<span class=\"header\"><font color=\"#e66700\">**Under the hood**</font></span>\n",
    "<br><br>\n",
    "![](diagrams_v2/23.png)"
   ]
  },
  {
   "cell_type": "markdown",
   "metadata": {
    "slideshow": {
     "slide_type": "subslide"
    }
   },
   "source": [
    "<span class=\"header\"><font color=\"#e66700\">**Under the hood**</font></span>\n",
    "<br><br>\n",
    "![](diagrams_v2/24.png)"
   ]
  },
  {
   "cell_type": "markdown",
   "metadata": {
    "slideshow": {
     "slide_type": "subslide"
    }
   },
   "source": [
    "<span class=\"header\">Working with branches</span>\n",
    "\n",
    "### <div style=\"padding: 5vmin 0 0 0\">Creating a branch & switching to it immediately</div>\n",
    "<br>\n",
    "\n",
    "When you create a branch, most of the time you want to switch to it. So there is a command which allows to create a branch and switch to it immediately without having to do this in two steps: `git checkout -b <branch-name>`.\n",
    "\n",
    "This command is convenient: when you create a branch with `git branch <branch-name>`, it is very easy to forget to switch to the new branch before making commits!"
   ]
  },
  {
   "cell_type": "code",
   "execution_count": 208,
   "metadata": {},
   "outputs": [
    {
     "name": "stdout",
     "output_type": "stream",
     "text": [
      "fatal: A branch named 'test2' already exists.\n"
     ]
    },
    {
     "ename": "",
     "evalue": "128",
     "output_type": "error",
     "traceback": []
    }
   ],
   "source": [
    "git checkout -b dev"
   ]
  },
  {
   "cell_type": "code",
   "execution_count": 210,
   "metadata": {},
   "outputs": [
    {
     "name": "stdout",
     "output_type": "stream",
     "text": [
      "On branch \u001b[1;33mtest2\u001b[m\n",
      "nothing to commit, working tree clean\n"
     ]
    }
   ],
   "source": [
    "git status"
   ]
  },
  {
   "cell_type": "code",
   "execution_count": 193,
   "metadata": {},
   "outputs": [
    {
     "name": "stdout",
     "output_type": "stream",
     "text": [
      "  \u001b[33mmaster\u001b[m\n",
      "  \u001b[33mtest\u001b[m\n",
      "* \u001b[1;33mtest2\u001b[m\n"
     ]
    }
   ],
   "source": [
    "git branch"
   ]
  },
  {
   "cell_type": "markdown",
   "metadata": {},
   "source": [
    "<br>"
   ]
  },
  {
   "cell_type": "markdown",
   "metadata": {
    "slideshow": {
     "slide_type": "subslide"
    }
   },
   "source": [
    "<span class=\"header\">Working with branches</span>\n",
    "\n",
    "### <div style=\"padding: 5vmin 0 0 0\">Creating commits on the new branch</div>"
   ]
  },
  {
   "cell_type": "code",
   "execution_count": null,
   "metadata": {},
   "outputs": [],
   "source": [
    "git checkout test"
   ]
  },
  {
   "cell_type": "code",
   "execution_count": 166,
   "metadata": {},
   "outputs": [],
   "source": [
    "touch src/acidity.py"
   ]
  },
  {
   "cell_type": "code",
   "execution_count": 168,
   "metadata": {},
   "outputs": [
    {
     "name": "stdout",
     "output_type": "stream",
     "text": [
      "On branch \u001b[1;33mtest\u001b[m\n",
      "Untracked files:\n",
      "  (use \"git add <file>...\" to include in what will be committed)\n",
      "\t\u001b[31msrc/acidity.py\u001b[m\n",
      "\n",
      "nothing added to commit but untracked files present (use \"git add\" to track)\n"
     ]
    }
   ],
   "source": [
    "git status"
   ]
  },
  {
   "cell_type": "code",
   "execution_count": 169,
   "metadata": {},
   "outputs": [],
   "source": [
    "git add src/acidity.py"
   ]
  },
  {
   "cell_type": "code",
   "execution_count": 170,
   "metadata": {},
   "outputs": [
    {
     "name": "stdout",
     "output_type": "stream",
     "text": [
      "On branch \u001b[1;33mtest\u001b[m\n",
      "Changes to be committed:\n",
      "  (use \"git restore --staged <file>...\" to unstage)\n",
      "\t\u001b[32mnew file:   src/acidity.py\u001b[m\n",
      "\n"
     ]
    }
   ],
   "source": [
    "git status"
   ]
  },
  {
   "cell_type": "code",
   "execution_count": 171,
   "metadata": {},
   "outputs": [
    {
     "name": "stdout",
     "output_type": "stream",
     "text": [
      "[test 809ea88] Add new acidity script\n",
      " 1 file changed, 0 insertions(+), 0 deletions(-)\n",
      " create mode 100644 src/acidity.py\n"
     ]
    }
   ],
   "source": [
    "git commit -m \"Add new acidity script\""
   ]
  },
  {
   "cell_type": "code",
   "execution_count": 172,
   "metadata": {},
   "outputs": [
    {
     "name": "stdout",
     "output_type": "stream",
     "text": [
      "On branch \u001b[1;33mtest\u001b[m\n",
      "nothing to commit, working tree clean\n"
     ]
    }
   ],
   "source": [
    "git status"
   ]
  },
  {
   "cell_type": "code",
   "execution_count": 183,
   "metadata": {},
   "outputs": [],
   "source": [
    "echo \"Some content\" >> src/acidity.py"
   ]
  },
  {
   "cell_type": "code",
   "execution_count": 184,
   "metadata": {},
   "outputs": [
    {
     "name": "stdout",
     "output_type": "stream",
     "text": [
      "On branch \u001b[1;33mtest\u001b[m\n",
      "Changes not staged for commit:\n",
      "  (use \"git add <file>...\" to update what will be committed)\n",
      "  (use \"git restore <file>...\" to discard changes in working directory)\n",
      "\t\u001b[31mmodified:   src/acidity.py\u001b[m\n",
      "\n",
      "no changes added to commit (use \"git add\" and/or \"git commit -a\")\n"
     ]
    }
   ],
   "source": [
    "git status"
   ]
  },
  {
   "cell_type": "code",
   "execution_count": 185,
   "metadata": {},
   "outputs": [
    {
     "name": "stdout",
     "output_type": "stream",
     "text": [
      "[test 2141b47] Add some content to acidity script\n",
      " 1 file changed, 1 insertion(+)\n"
     ]
    }
   ],
   "source": [
    "git commit -a -m \"Add some content to acidity script\""
   ]
  },
  {
   "cell_type": "code",
   "execution_count": 186,
   "metadata": {},
   "outputs": [
    {
     "name": "stdout",
     "output_type": "stream",
     "text": [
      "On branch \u001b[1;33mtest\u001b[m\n",
      "nothing to commit, working tree clean\n"
     ]
    }
   ],
   "source": [
    "git status"
   ]
  },
  {
   "cell_type": "code",
   "execution_count": 173,
   "metadata": {},
   "outputs": [
    {
     "name": "stdout",
     "output_type": "stream",
     "text": [
      "acidity.py  enso_model.py\n"
     ]
    }
   ],
   "source": [
    "ls src/"
   ]
  },
  {
   "cell_type": "code",
   "execution_count": 174,
   "metadata": {},
   "outputs": [
    {
     "name": "stdout",
     "output_type": "stream",
     "text": [
      "\u001b[01;34m.\u001b[00m\n",
      "├── \u001b[01;34mms\u001b[00m\n",
      "│   └── enso_effect.md\n",
      "├── \u001b[01;34mresult\u001b[00m\n",
      "│   └── \u001b[01;35mgraph.png\u001b[00m\n",
      "└── \u001b[01;34msrc\u001b[00m\n",
      "    ├── acidity.py\n",
      "    └── enso_model.py\n",
      "\n",
      "3 directories, 4 files\n"
     ]
    }
   ],
   "source": [
    "tree"
   ]
  },
  {
   "cell_type": "code",
   "execution_count": 187,
   "metadata": {},
   "outputs": [
    {
     "name": "stdout",
     "output_type": "stream",
     "text": [
      "Switched to branch 'master'\n"
     ]
    }
   ],
   "source": [
    "git checkout master"
   ]
  },
  {
   "cell_type": "code",
   "execution_count": 188,
   "metadata": {},
   "outputs": [
    {
     "name": "stdout",
     "output_type": "stream",
     "text": [
      "On branch \u001b[1;33mmaster\u001b[m\n",
      "nothing to commit, working tree clean\n"
     ]
    }
   ],
   "source": [
    "git status"
   ]
  },
  {
   "cell_type": "code",
   "execution_count": 189,
   "metadata": {},
   "outputs": [
    {
     "name": "stdout",
     "output_type": "stream",
     "text": [
      "enso_model.py\n"
     ]
    }
   ],
   "source": [
    "ls src/"
   ]
  },
  {
   "cell_type": "code",
   "execution_count": 190,
   "metadata": {},
   "outputs": [
    {
     "name": "stdout",
     "output_type": "stream",
     "text": [
      "\u001b[01;34m.\u001b[00m\n",
      "├── \u001b[01;34mms\u001b[00m\n",
      "│   └── enso_effect.md\n",
      "├── \u001b[01;34mresult\u001b[00m\n",
      "│   └── \u001b[01;35mgraph.png\u001b[00m\n",
      "└── \u001b[01;34msrc\u001b[00m\n",
      "    └── enso_model.py\n",
      "\n",
      "3 directories, 3 files\n"
     ]
    }
   ],
   "source": [
    "tree"
   ]
  },
  {
   "cell_type": "code",
   "execution_count": null,
   "metadata": {},
   "outputs": [],
   "source": [
    "git checkout test"
   ]
  },
  {
   "cell_type": "code",
   "execution_count": 189,
   "metadata": {},
   "outputs": [
    {
     "name": "stdout",
     "output_type": "stream",
     "text": [
      "enso_model.py\n"
     ]
    }
   ],
   "source": [
    "ls src/"
   ]
  },
  {
   "cell_type": "code",
   "execution_count": 190,
   "metadata": {},
   "outputs": [
    {
     "name": "stdout",
     "output_type": "stream",
     "text": [
      "\u001b[01;34m.\u001b[00m\n",
      "├── \u001b[01;34mms\u001b[00m\n",
      "│   └── enso_effect.md\n",
      "├── \u001b[01;34mresult\u001b[00m\n",
      "│   └── \u001b[01;35mgraph.png\u001b[00m\n",
      "└── \u001b[01;34msrc\u001b[00m\n",
      "    └── enso_model.py\n",
      "\n",
      "3 directories, 3 files\n"
     ]
    }
   ],
   "source": [
    "tree"
   ]
  },
  {
   "cell_type": "markdown",
   "metadata": {},
   "source": [
    "<br>"
   ]
  },
  {
   "cell_type": "markdown",
   "metadata": {
    "slideshow": {
     "slide_type": "subslide"
    }
   },
   "source": [
    "<span class=\"header\"><font color=\"#e66700\">**Under the hood**</font></span>\n",
    "<br><br>\n",
    "![](diagrams_v2/24.png)"
   ]
  },
  {
   "cell_type": "markdown",
   "metadata": {
    "slideshow": {
     "slide_type": "subslide"
    }
   },
   "source": [
    "<span class=\"header\"><font color=\"#e66700\">**Under the hood**</font></span>\n",
    "<br><br>\n",
    "![](diagrams_v2/25.png)"
   ]
  },
  {
   "cell_type": "markdown",
   "metadata": {
    "slideshow": {
     "slide_type": "subslide"
    }
   },
   "source": [
    "<span class=\"header\"><font color=\"#e66700\">**Under the hood**</font></span>\n",
    "<br><br>\n",
    "![](diagrams_v2/26.png)"
   ]
  },
  {
   "cell_type": "markdown",
   "metadata": {
    "slideshow": {
     "slide_type": "subslide"
    }
   },
   "source": [
    "<span class=\"header\"><font color=\"#e66700\">**Under the hood**</font></span>\n",
    "<br><br>\n",
    "![](diagrams_v2/27.png)"
   ]
  },
  {
   "cell_type": "markdown",
   "metadata": {
    "slideshow": {
     "slide_type": "subslide"
    }
   },
   "source": [
    "<span class=\"header\"><font color=\"#e66700\">**Under the hood**</font></span>\n",
    "<br><br>\n",
    "![](diagrams_v2/26.png)"
   ]
  },
  {
   "cell_type": "markdown",
   "metadata": {
    "slideshow": {
     "slide_type": "subslide"
    }
   },
   "source": [
    "<span class=\"header\">Working with branches</span>\n",
    "\n",
    "### <div style=\"padding: 5vmin 0 0 0\">Comparing branches</div>\n",
    "<br>"
   ]
  },
  {
   "cell_type": "code",
   "execution_count": 198,
   "metadata": {},
   "outputs": [
    {
     "name": "stdout",
     "output_type": "stream",
     "text": [
      "\u001b[1mdiff --git a/src/acidity.py b/src/acidity.py\u001b[m\n",
      "\u001b[1mdeleted file mode 100644\u001b[m\n",
      "\u001b[1mindex 0ee3895..0000000\u001b[m\n",
      "\u001b[1m--- a/src/acidity.py\u001b[m\n",
      "\u001b[1m+++ /dev/null\u001b[m\n",
      "\u001b[36m@@ -1 +0,0 @@\u001b[m\n",
      "\u001b[31m-Some content\u001b[m\n"
     ]
    }
   ],
   "source": [
    "git diff test master"
   ]
  },
  {
   "cell_type": "code",
   "execution_count": 199,
   "metadata": {},
   "outputs": [
    {
     "name": "stdout",
     "output_type": "stream",
     "text": [
      "\u001b[1mdiff --git a/src/acidity.py b/src/acidity.py\u001b[m\n",
      "\u001b[1mnew file mode 100644\u001b[m\n",
      "\u001b[1mindex 0000000..0ee3895\u001b[m\n",
      "\u001b[1m--- /dev/null\u001b[m\n",
      "\u001b[1m+++ b/src/acidity.py\u001b[m\n",
      "\u001b[36m@@ -0,0 +1 @@\u001b[m\n",
      "\u001b[32m+\u001b[m\u001b[32mSome content\u001b[m\n"
     ]
    }
   ],
   "source": [
    "git diff master test"
   ]
  },
  {
   "cell_type": "code",
   "execution_count": null,
   "metadata": {},
   "outputs": [],
   "source": [
    "git diff dev master"
   ]
  },
  {
   "cell_type": "markdown",
   "metadata": {},
   "source": [
    "<br>"
   ]
  },
  {
   "cell_type": "markdown",
   "metadata": {
    "cell_style": "split",
    "slideshow": {
     "slide_type": "subslide"
    }
   },
   "source": [
    "<span class=\"header\">Working with branches</span>\n",
    "\n",
    "### <div style=\"padding: 5vmin 0 0 0\">Merging branches</div>\n",
    "<br>\n",
    "\n",
    "One thing that makes Git branches powerful is—as we just saw—how easy it is to create new branches and to switch from one branch to another. Another thing is how easy it is to merge branches together.\n",
    "\n",
    "If you created an experimental branch and are happy with the result, you'll want to merge it into your main branch.\n",
    "\n",
    "First, switch to the main development branch, then merge your experimental branch into the main branch:\n",
    "\n",
    "```sh\n",
    "git merge <branch-to-merge-into-current-branch>\n",
    "```"
   ]
  },
  {
   "cell_type": "markdown",
   "metadata": {
    "cell_style": "split",
    "slideshow": {
     "slide_type": "-"
    }
   },
   "source": [
    "<br><br><br>\n",
    "<figure style=\"display: table; margin: 0 auto\">\n",
    "  <center>\n",
    "    <img src=\"https://imgs.xkcd.com/comics/algorithms.png\" title=\"\" width=\"1000vmin\" style=\"padding: 2vmin 0 0 0\">\n",
    "  </center>\n",
    "  <div align=\"right\" style=\"color: #978282; line-height: 0; font-size: 2vmin\">\n",
    "    <em>\n",
    "      from <a href=\"https://xkcd.com/\">xkcd.com</a>\n",
    "    </em>\n",
    "  </div>\n",
    "</figure>"
   ]
  },
  {
   "cell_type": "markdown",
   "metadata": {
    "cell_style": "center",
    "slideshow": {
     "slide_type": "subslide"
    }
   },
   "source": [
    "<span class=\"header\">Working with branches</span>\n",
    "\n",
    "### <div style=\"padding: 7vmin 0 0 0\">Merging branches</div>\n",
    "\n",
    "### Fast-forward merge"
   ]
  },
  {
   "cell_type": "code",
   "execution_count": 219,
   "metadata": {},
   "outputs": [
    {
     "name": "stdout",
     "output_type": "stream",
     "text": [
      "On branch \u001b[1;33mtest2\u001b[m\n",
      "nothing to commit, working tree clean\n"
     ]
    }
   ],
   "source": [
    "git branch"
   ]
  },
  {
   "cell_type": "code",
   "execution_count": 220,
   "metadata": {},
   "outputs": [
    {
     "name": "stdout",
     "output_type": "stream",
     "text": [
      "Switched to branch 'master'\n"
     ]
    }
   ],
   "source": [
    "git checkout master"
   ]
  },
  {
   "cell_type": "code",
   "execution_count": 221,
   "metadata": {},
   "outputs": [
    {
     "name": "stdout",
     "output_type": "stream",
     "text": [
      "On branch \u001b[1;33mmaster\u001b[m\n",
      "nothing to commit, working tree clean\n"
     ]
    }
   ],
   "source": [
    "git status"
   ]
  },
  {
   "cell_type": "code",
   "execution_count": 204,
   "metadata": {},
   "outputs": [
    {
     "name": "stdout",
     "output_type": "stream",
     "text": [
      "Updating 265338c..2141b47\n",
      "Fast-forward\n",
      " src/acidity.py | 1 \u001b[32m+\u001b[m\n",
      " 1 file changed, 1 insertion(+)\n",
      " create mode 100644 src/acidity.py\n"
     ]
    }
   ],
   "source": [
    "git merge test"
   ]
  },
  {
   "cell_type": "code",
   "execution_count": 205,
   "metadata": {},
   "outputs": [
    {
     "name": "stdout",
     "output_type": "stream",
     "text": [
      "On branch \u001b[1;33mmaster\u001b[m\n",
      "nothing to commit, working tree clean\n"
     ]
    }
   ],
   "source": [
    "git status"
   ]
  },
  {
   "cell_type": "markdown",
   "metadata": {},
   "source": [
    "<br>"
   ]
  },
  {
   "cell_type": "markdown",
   "metadata": {
    "slideshow": {
     "slide_type": "subslide"
    }
   },
   "source": [
    "<span class=\"header\"><font color=\"#e66700\">**Under the hood**</font></span>\n",
    "<br><br>\n",
    "![](diagrams_v2/26.png)"
   ]
  },
  {
   "cell_type": "markdown",
   "metadata": {
    "slideshow": {
     "slide_type": "subslide"
    }
   },
   "source": [
    "<span class=\"header\"><font color=\"#e66700\">**Under the hood**</font></span>\n",
    "<br><br>\n",
    "![](diagrams_v2/27.png)"
   ]
  },
  {
   "cell_type": "markdown",
   "metadata": {
    "slideshow": {
     "slide_type": "subslide"
    }
   },
   "source": [
    "<span class=\"header\"><font color=\"#e66700\">**Under the hood**</font></span>\n",
    "<br><br>\n",
    "![](diagrams_v2/28.png)"
   ]
  },
  {
   "cell_type": "markdown",
   "metadata": {
    "slideshow": {
     "slide_type": "subslide"
    }
   },
   "source": [
    "<span class=\"header\">Working with branches</span>\n",
    "\n",
    "### <div style=\"padding: 5vmin 0 0 0\">Deleting branches</div>\n",
    "<br>\n",
    "\n",
    "Once you have merged a branch into another or if you decide that the experiments on a branch are not worth keeping, you can delete that branch.\n",
    "\n",
    "To do so, we could run `git branch -d test`, but we will keep it for now as it will be useful later on."
   ]
  },
  {
   "cell_type": "markdown",
   "metadata": {
    "slideshow": {
     "slide_type": "subslide"
    }
   },
   "source": [
    "<span class=\"header\"><font color=\"#e66700\">**Under the hood**</font></span>\n",
    "<br><br>\n",
    "![](diagrams_v2/28.png)"
   ]
  },
  {
   "cell_type": "markdown",
   "metadata": {
    "slideshow": {
     "slide_type": "subslide"
    }
   },
   "source": [
    "<span class=\"header\"><font color=\"#e66700\">**Under the hood**</font></span>\n",
    "<br><br>\n",
    "![](diagrams_v2/29.png)"
   ]
  },
  {
   "cell_type": "markdown",
   "metadata": {
    "cell_style": "center",
    "slideshow": {
     "slide_type": "subslide"
    }
   },
   "source": [
    "<span class=\"header\">Working with branches</span>\n",
    "\n",
    "### <div style=\"padding: 7vmin 0 0 0\">Merging branches</div>\n",
    "\n",
    "### xxxx merge"
   ]
  },
  {
   "cell_type": "code",
   "execution_count": null,
   "metadata": {},
   "outputs": [],
   "source": [
    "git branch test2"
   ]
  },
  {
   "cell_type": "code",
   "execution_count": 230,
   "metadata": {},
   "outputs": [
    {
     "name": "stdout",
     "output_type": "stream",
     "text": [
      "* \u001b[1;33mmaster\u001b[m\n",
      "  \u001b[33mtest\u001b[m\n",
      "  \u001b[33mtest2\u001b[m\n"
     ]
    }
   ],
   "source": [
    "git checkout test2"
   ]
  },
  {
   "cell_type": "code",
   "execution_count": null,
   "metadata": {},
   "outputs": [],
   "source": [
    "echo \"Some edits to the enso ms\" >> ms/enso_effect.md"
   ]
  },
  {
   "cell_type": "code",
   "execution_count": null,
   "metadata": {},
   "outputs": [],
   "source": [
    "git commit -a -m \"Edit enso ms\""
   ]
  },
  {
   "cell_type": "code",
   "execution_count": null,
   "metadata": {},
   "outputs": [],
   "source": [
    "git checkout master"
   ]
  },
  {
   "cell_type": "code",
   "execution_count": null,
   "metadata": {},
   "outputs": [],
   "source": [
    "echo \"Add some code to the script\" >> src/enso_model.py"
   ]
  },
  {
   "cell_type": "code",
   "execution_count": null,
   "metadata": {},
   "outputs": [],
   "source": [
    "git commit -a -m \"Add code enso script\""
   ]
  },
  {
   "cell_type": "code",
   "execution_count": null,
   "metadata": {},
   "outputs": [],
   "source": [
    "git merge test2"
   ]
  },
  {
   "cell_type": "code",
   "execution_count": 231,
   "metadata": {},
   "outputs": [],
   "source": [
    "# git branch -d test2 (not run because I will use it later)"
   ]
  },
  {
   "cell_type": "markdown",
   "metadata": {},
   "source": [
    "<br>"
   ]
  },
  {
   "cell_type": "markdown",
   "metadata": {
    "slideshow": {
     "slide_type": "subslide"
    }
   },
   "source": [
    "<span class=\"header\"><font color=\"#e66700\">**Under the hood**</font></span>\n",
    "<br><br>\n",
    "![](diagrams_v2/30.png)"
   ]
  },
  {
   "cell_type": "markdown",
   "metadata": {
    "slideshow": {
     "slide_type": "subslide"
    }
   },
   "source": [
    "<span class=\"header\"><font color=\"#e66700\">**Under the hood**</font></span>\n",
    "<br><br>\n",
    "![](diagrams_v2/31.png)"
   ]
  },
  {
   "cell_type": "markdown",
   "metadata": {
    "slideshow": {
     "slide_type": "subslide"
    }
   },
   "source": [
    "<span class=\"header\"><font color=\"#e66700\">**Under the hood**</font></span>\n",
    "<br><br>\n",
    "![](diagrams_v2/32.png)"
   ]
  },
  {
   "cell_type": "markdown",
   "metadata": {
    "slideshow": {
     "slide_type": "subslide"
    }
   },
   "source": [
    "<span class=\"header\"><font color=\"#e66700\">**Under the hood**</font></span>\n",
    "<br><br>\n",
    "![](diagrams_v2/33.png)"
   ]
  },
  {
   "cell_type": "markdown",
   "metadata": {
    "slideshow": {
     "slide_type": "subslide"
    }
   },
   "source": [
    "<span class=\"header\"><font color=\"#e66700\">**Under the hood**</font></span>\n",
    "<br><br>\n",
    "![](diagrams_v2/34.png)"
   ]
  },
  {
   "cell_type": "markdown",
   "metadata": {
    "slideshow": {
     "slide_type": "subslide"
    }
   },
   "source": [
    "<span class=\"header\"><font color=\"#e66700\">**Under the hood**</font></span>\n",
    "<br><br>\n",
    "![](diagrams_v2/35.png)"
   ]
  },
  {
   "cell_type": "markdown",
   "metadata": {
    "slideshow": {
     "slide_type": "subslide"
    }
   },
   "source": [
    "<span class=\"header\"><font color=\"#e66700\">**Under the hood**</font></span>\n",
    "<br><br>\n",
    "![](diagrams_v2/36.png)"
   ]
  },
  {
   "cell_type": "markdown",
   "metadata": {
    "slideshow": {
     "slide_type": "subslide"
    }
   },
   "source": [
    "<span class=\"header\"><font color=\"#e66700\">**Under the hood**</font></span>\n",
    "<br><br>\n",
    "![](diagrams_v2/37.png)"
   ]
  },
  {
   "cell_type": "markdown",
   "metadata": {
    "slideshow": {
     "slide_type": "subslide"
    }
   },
   "source": [
    "<span class=\"header\"><font color=\"#e66700\">**Under the hood**</font></span>\n",
    "<br><br>\n",
    "![](diagrams_v2/38.png)"
   ]
  },
  {
   "cell_type": "markdown",
   "metadata": {
    "slideshow": {
     "slide_type": "subslide"
    }
   },
   "source": [
    "<span class=\"header\"><font color=\"#e66700\">**Under the hood**</font></span>\n",
    "<br><br>\n",
    "![](diagrams_v2/39.png)"
   ]
  },
  {
   "cell_type": "markdown",
   "metadata": {
    "slideshow": {
     "slide_type": "subslide"
    }
   },
   "source": [
    "<span class=\"header\">Working with branches</span>\n",
    "\n",
    "### <div style=\"padding: 5vmin 0 0 0\">Merge conflicts</div>\n",
    "\n",
    "As you were developing your experimental branch, maybe you were also developing your main branch. As long as the differences between the branches do not overlap (you have been working on different parts of the project in each branch, which can include different parts of the same file), there is no problem.\n",
    "\n",
    "If the two branches contain different versions of the same part of a file however, Git cannot know which of the versions you want to keep. The merge will then be interrupted and Git will ask you to resolve the conflict(s) before the merge can be completed.\n",
    "\n",
    "Conflicts will look like this:\n",
    "\n",
    "```sh\n",
    "<<<<<<< HEAD\n",
    "Version of this section of the file on your checkedout branch\n",
    "=======\n",
    "Alternative version of the same section of the file\n",
    ">>>>>>> alternative version\n",
    "```"
   ]
  },
  {
   "cell_type": "markdown",
   "metadata": {
    "slideshow": {
     "slide_type": "subslide"
    }
   },
   "source": [
    "<span class=\"header\">Working with branches</span>\n",
    "\n",
    "### <div style=\"padding: 5vmin 0 0 0\">Merge conflicts</div>"
   ]
  },
  {
   "cell_type": "code",
   "execution_count": null,
   "metadata": {},
   "outputs": [],
   "source": [
    "git checkout -b test3"
   ]
  },
  {
   "cell_type": "code",
   "execution_count": 222,
   "metadata": {},
   "outputs": [
    {
     "name": "stdout",
     "output_type": "stream",
     "text": [
      "Waiting for Emacs...\n"
     ]
    }
   ],
   "source": [
    "emacsclient -c ms/enso_effect.md"
   ]
  },
  {
   "cell_type": "code",
   "execution_count": 223,
   "metadata": {},
   "outputs": [
    {
     "name": "stdout",
     "output_type": "stream",
     "text": [
      "On branch \u001b[1;33mmaster\u001b[m\n",
      "Changes not staged for commit:\n",
      "  (use \"git add <file>...\" to update what will be committed)\n",
      "  (use \"git restore <file>...\" to discard changes in working directory)\n",
      "\t\u001b[31mmodified:   ms/enso_effect.md\u001b[m\n",
      "\n",
      "no changes added to commit (use \"git add\" and/or \"git commit -a\")\n"
     ]
    }
   ],
   "source": [
    "git status"
   ]
  },
  {
   "cell_type": "code",
   "execution_count": 224,
   "metadata": {},
   "outputs": [],
   "source": [
    "git add ms/enso_effect.md"
   ]
  },
  {
   "cell_type": "code",
   "execution_count": 218,
   "metadata": {},
   "outputs": [
    {
     "name": "stdout",
     "output_type": "stream",
     "text": [
      "[test2 b911710] Make some edits enso ms\n",
      " 1 file changed, 1 insertion(+), 1 deletion(-)\n"
     ]
    }
   ],
   "source": [
    "git commit -m \"Make some edits enso ms\""
   ]
  },
  {
   "cell_type": "code",
   "execution_count": 226,
   "metadata": {},
   "outputs": [
    {
     "name": "stdout",
     "output_type": "stream",
     "text": [
      "On branch \u001b[1;33mmaster\u001b[m\n",
      "nothing to commit, working tree clean\n"
     ]
    }
   ],
   "source": [
    "git status"
   ]
  },
  {
   "cell_type": "code",
   "execution_count": null,
   "metadata": {},
   "outputs": [],
   "source": [
    "git checkout master"
   ]
  },
  {
   "cell_type": "code",
   "execution_count": 211,
   "metadata": {},
   "outputs": [
    {
     "name": "stdout",
     "output_type": "stream",
     "text": [
      "Waiting for Emacs...\n"
     ]
    }
   ],
   "source": [
    "emacsclient -c ms/enso_effect.md"
   ]
  },
  {
   "cell_type": "code",
   "execution_count": 212,
   "metadata": {},
   "outputs": [
    {
     "name": "stdout",
     "output_type": "stream",
     "text": [
      "On branch \u001b[1;33mtest2\u001b[m\n",
      "Changes not staged for commit:\n",
      "  (use \"git add <file>...\" to update what will be committed)\n",
      "  (use \"git restore <file>...\" to discard changes in working directory)\n",
      "\t\u001b[31mmodified:   ms/enso_effect.md\u001b[m\n",
      "\n",
      "no changes added to commit (use \"git add\" and/or \"git commit -a\")\n"
     ]
    }
   ],
   "source": [
    "git status"
   ]
  },
  {
   "cell_type": "code",
   "execution_count": 217,
   "metadata": {},
   "outputs": [],
   "source": [
    "git add ms/enso_effect.md"
   ]
  },
  {
   "cell_type": "code",
   "execution_count": 225,
   "metadata": {},
   "outputs": [
    {
     "name": "stdout",
     "output_type": "stream",
     "text": [
      "[master 76d81d4] Make conflicting edits enso ms\n",
      " 1 file changed, 1 insertion(+), 1 deletion(-)\n"
     ]
    }
   ],
   "source": [
    "git commit -m \"Make conflicting edits enso ms\""
   ]
  },
  {
   "cell_type": "code",
   "execution_count": null,
   "metadata": {},
   "outputs": [],
   "source": [
    "git status"
   ]
  },
  {
   "cell_type": "code",
   "execution_count": null,
   "metadata": {},
   "outputs": [],
   "source": [
    "git checkout master"
   ]
  },
  {
   "cell_type": "code",
   "execution_count": 227,
   "metadata": {},
   "outputs": [
    {
     "name": "stdout",
     "output_type": "stream",
     "text": [
      "Auto-merging ms/enso_effect.md\n",
      "CONFLICT (content): Merge conflict in ms/enso_effect.md\n",
      "Automatic merge failed; fix conflicts and then commit the result.\n"
     ]
    },
    {
     "ename": "",
     "evalue": "1",
     "output_type": "error",
     "traceback": []
    }
   ],
   "source": [
    "git merge test3"
   ]
  },
  {
   "cell_type": "code",
   "execution_count": 228,
   "metadata": {},
   "outputs": [
    {
     "name": "stdout",
     "output_type": "stream",
     "text": [
      "On branch \u001b[1;33mmaster\u001b[m\n",
      "You have unmerged paths.\n",
      "  (fix conflicts and run \"git commit\")\n",
      "  (use \"git merge --abort\" to abort the merge)\n",
      "\n",
      "Unmerged paths:\n",
      "  (use \"git add <file>...\" to mark resolution)\n",
      "\t\u001b[31mboth modified:   ms/enso_effect.md\u001b[m\n",
      "\n",
      "no changes added to commit (use \"git add\" and/or \"git commit -a\")\n"
     ]
    }
   ],
   "source": [
    "git status"
   ]
  },
  {
   "cell_type": "markdown",
   "metadata": {},
   "source": [
    "<br>"
   ]
  },
  {
   "cell_type": "markdown",
   "metadata": {
    "slideshow": {
     "slide_type": "subslide"
    }
   },
   "source": [
    "<span class=\"header\">Working with branches</span>\n",
    "\n",
    "### <div style=\"padding: 5vmin 0 0 0\">Resolving conflicts</div>\n",
    "<br>\n",
    "\n",
    "Merge tools allow you to jump from conflict to conflict within a file and ask you to decide which version you want to choose for each of them (you can also write a combination of the two)."
   ]
  },
  {
   "cell_type": "code",
   "execution_count": null,
   "metadata": {},
   "outputs": [],
   "source": [
    "git mergetool"
   ]
  },
  {
   "cell_type": "code",
   "execution_count": null,
   "metadata": {},
   "outputs": [],
   "source": [
    "git mergetool --tool-help"
   ]
  },
  {
   "cell_type": "markdown",
   "metadata": {},
   "source": [
    "<br>"
   ]
  },
  {
   "cell_type": "markdown",
   "metadata": {
    "slideshow": {
     "slide_type": "subslide"
    }
   },
   "source": [
    "<span class=\"header\">Working with branches</span>\n",
    "\n",
    "### <div style=\"padding: 5vmin 0 0 0\">Resolving conflicts</div>\n",
    "<br>\n",
    "\n",
    "If you don't use any merge tool, you can edit those sections manually in any text editor.\n",
    "\n",
    "You can also in one swoop keep *our* version (i.e. the version of the branch you are currently on or HEAD ) or all of *their* version (the alternative version of the file you are merging into your branch) for all of the sections.\n",
    "\n",
    "```sh\n",
    "git checkout --ours <file>\n",
    "git checkout --theirs <file>\n",
    "```"
   ]
  },
  {
   "cell_type": "code",
   "execution_count": null,
   "metadata": {},
   "outputs": [],
   "source": [
    "emacsclient -c ms/enso_effect.md"
   ]
  },
  {
   "cell_type": "code",
   "execution_count": null,
   "metadata": {},
   "outputs": [],
   "source": [
    "git status"
   ]
  },
  {
   "cell_type": "code",
   "execution_count": null,
   "metadata": {},
   "outputs": [],
   "source": [
    "git commit"
   ]
  },
  {
   "cell_type": "code",
   "execution_count": null,
   "metadata": {},
   "outputs": [],
   "source": [
    "git status"
   ]
  },
  {
   "cell_type": "markdown",
   "metadata": {},
   "source": [
    "<br>"
   ]
  },
  {
   "cell_type": "markdown",
   "metadata": {
    "cell_style": "center",
    "slideshow": {
     "slide_type": "slide"
    }
   },
   "source": [
    "## Exploring the past"
   ]
  },
  {
   "cell_type": "markdown",
   "metadata": {
    "slideshow": {
     "slide_type": "subslide"
    }
   },
   "source": [
    "<span class=\"header\">Exploring the past</span>\n",
    "\n",
    "### Overview of commit history\n",
    "<br>\n",
    "\n",
    "`git log` shows the log of commits."
   ]
  },
  {
   "cell_type": "markdown",
   "metadata": {
    "slideshow": {
     "slide_type": "fragment"
    }
   },
   "source": [
    "In its simplest form, it gives a list of past commits in a pager."
   ]
  },
  {
   "cell_type": "code",
   "execution_count": null,
   "metadata": {},
   "outputs": [],
   "source": [
    "git log"
   ]
  },
  {
   "cell_type": "markdown",
   "metadata": {},
   "source": [
    "<br>"
   ]
  },
  {
   "cell_type": "markdown",
   "metadata": {
    "slideshow": {
     "slide_type": "subslide"
    }
   },
   "source": [
    "<span class=\"header\">Exploring the past</span>\n",
    "\n",
    "### <div style=\"padding: 5vmin 0 0 0\">Overview of commit history</div>\n",
    "<br>\n",
    "\n",
    "This log can be customized greatly by playing with the various flags."
   ]
  },
  {
   "cell_type": "code",
   "execution_count": null,
   "metadata": {
    "slideshow": {
     "slide_type": "-"
    }
   },
   "outputs": [],
   "source": [
    "git log --oneline"
   ]
  },
  {
   "cell_type": "code",
   "execution_count": null,
   "metadata": {},
   "outputs": [],
   "source": [
    "man git-log"
   ]
  },
  {
   "cell_type": "markdown",
   "metadata": {},
   "source": [
    "<br>"
   ]
  },
  {
   "cell_type": "markdown",
   "metadata": {
    "slideshow": {
     "slide_type": "subslide"
    }
   },
   "source": [
    "<span class=\"header\">Exploring the past</span>\n",
    "\n",
    "### Overview of commit history\n",
    "<br>\n",
    "\n",
    "You can make it really clean and fancy:\n",
    "\n",
    "```sh\n",
    "git log \\\n",
    "    --graph \\\n",
    "    --date-order \\\n",
    "    --date=short \\\n",
    "    --pretty=format:'%C(cyan)%h %C(blue)%ar %C(auto)%d'`\n",
    "                   `'%C(yellow)%s%+b %C(magenta)%ae'\n",
    "```"
   ]
  },
  {
   "cell_type": "code",
   "execution_count": null,
   "metadata": {},
   "outputs": [],
   "source": [
    "git log \\\n",
    "    --graph \\\n",
    "    --date-order \\\n",
    "    --date=short \\\n",
    "    --pretty=format:'%C(cyan)%h %C(blue)%ar %C(auto)%d'`\n",
    "                   `'%C(yellow)%s%+b %C(magenta)%ae'"
   ]
  },
  {
   "cell_type": "markdown",
   "metadata": {},
   "source": [
    "<br>"
   ]
  },
  {
   "cell_type": "markdown",
   "metadata": {
    "slideshow": {
     "slide_type": "subslide"
    }
   },
   "source": [
    "<span class=\"header\">Exploring the past</span>\n",
    "\n",
    "### Overview of commit history\n",
    "<br>\n",
    "\n",
    "Or you can make it as a graph."
   ]
  },
  {
   "cell_type": "code",
   "execution_count": null,
   "metadata": {},
   "outputs": [],
   "source": [
    "git log --graph"
   ]
  },
  {
   "cell_type": "code",
   "execution_count": null,
   "metadata": {},
   "outputs": [],
   "source": [
    "git log --graph --all"
   ]
  },
  {
   "cell_type": "markdown",
   "metadata": {},
   "source": [
    "<br>"
   ]
  },
  {
   "cell_type": "markdown",
   "metadata": {
    "slideshow": {
     "slide_type": "subslide"
    }
   },
   "source": [
    "<span class=\"header\">Exploring the past</span>\n",
    "\n",
    "### Revisiting old commits\n",
    "<br>\n",
    "\n",
    "```sh\n",
    "git checkout <commit-hash>\n",
    "```\n",
    "\n",
    "You can also use tags:\n",
    "```sh\n",
    "git checkout <tag-name>\n",
    "```"
   ]
  },
  {
   "cell_type": "code",
   "execution_count": null,
   "metadata": {},
   "outputs": [],
   "source": [
    "git checkout xxxx"
   ]
  },
  {
   "cell_type": "code",
   "execution_count": null,
   "metadata": {},
   "outputs": [],
   "source": [
    "git checkout master"
   ]
  },
  {
   "cell_type": "markdown",
   "metadata": {},
   "source": [
    "<br>"
   ]
  },
  {
   "cell_type": "markdown",
   "metadata": {
    "slideshow": {
     "slide_type": "subslide"
    }
   },
   "source": [
    "<span class=\"header\"><font color=\"#e66700\">**Under the hood**</font></span>\n",
    "<br><br>\n",
    "![](diagrams_v2/40.png)"
   ]
  },
  {
   "cell_type": "markdown",
   "metadata": {
    "slideshow": {
     "slide_type": "subslide"
    }
   },
   "source": [
    "<span class=\"header\"><font color=\"#e66700\">**Under the hood**</font></span>\n",
    "<br><br>\n",
    "![](diagrams_v2/41.png)"
   ]
  },
  {
   "cell_type": "markdown",
   "metadata": {
    "slideshow": {
     "slide_type": "subslide"
    }
   },
   "source": [
    "<span class=\"header\"><font color=\"#e66700\">**Under the hood**</font></span>\n",
    "<br><br>\n",
    "![](diagrams_v2/42.png)"
   ]
  },
  {
   "cell_type": "markdown",
   "metadata": {
    "slideshow": {
     "slide_type": "subslide"
    }
   },
   "source": [
    "<span class=\"header\">Exploring the past</span>\n",
    "\n",
    "### Detached HEAD\n",
    "<br>\n",
    "\n",
    "Dangerous workflow."
   ]
  },
  {
   "cell_type": "code",
   "execution_count": null,
   "metadata": {},
   "outputs": [],
   "source": [
    "git checkout xxxx"
   ]
  },
  {
   "cell_type": "code",
   "execution_count": null,
   "metadata": {},
   "outputs": [],
   "source": [
    "echo \"lala\" >> ms/enso_effect.md"
   ]
  },
  {
   "cell_type": "code",
   "execution_count": null,
   "metadata": {},
   "outputs": [],
   "source": [
    "git status"
   ]
  },
  {
   "cell_type": "code",
   "execution_count": null,
   "metadata": {},
   "outputs": [],
   "source": [
    "git commit -a -m \"Exploration from commit xxx\""
   ]
  },
  {
   "cell_type": "code",
   "execution_count": null,
   "metadata": {},
   "outputs": [],
   "source": [
    "git status"
   ]
  },
  {
   "cell_type": "code",
   "execution_count": null,
   "metadata": {},
   "outputs": [],
   "source": [
    "echo \"tutut\" >> ms/enso_effect.md"
   ]
  },
  {
   "cell_type": "code",
   "execution_count": null,
   "metadata": {},
   "outputs": [],
   "source": [
    "git commit -a -m \"Another commit on that branch\""
   ]
  },
  {
   "cell_type": "code",
   "execution_count": null,
   "metadata": {},
   "outputs": [],
   "source": [
    "git status"
   ]
  },
  {
   "cell_type": "code",
   "execution_count": null,
   "metadata": {},
   "outputs": [],
   "source": [
    "git checkout master"
   ]
  },
  {
   "cell_type": "markdown",
   "metadata": {},
   "source": [
    "<br>"
   ]
  },
  {
   "cell_type": "markdown",
   "metadata": {
    "slideshow": {
     "slide_type": "subslide"
    }
   },
   "source": [
    "<span class=\"header\"><font color=\"#e66700\">**Under the hood**</font></span>\n",
    "<br><br>\n",
    "![](diagrams_v2/42.png)"
   ]
  },
  {
   "cell_type": "markdown",
   "metadata": {
    "slideshow": {
     "slide_type": "subslide"
    }
   },
   "source": [
    "<span class=\"header\"><font color=\"#e66700\">**Under the hood**</font></span>\n",
    "<br><br>\n",
    "![](diagrams_v2/43.png)"
   ]
  },
  {
   "cell_type": "markdown",
   "metadata": {
    "slideshow": {
     "slide_type": "subslide"
    }
   },
   "source": [
    "<span class=\"header\"><font color=\"#e66700\">**Under the hood**</font></span>\n",
    "<br><br>\n",
    "![](diagrams_v2/44.png)"
   ]
  },
  {
   "cell_type": "markdown",
   "metadata": {
    "slideshow": {
     "slide_type": "subslide"
    }
   },
   "source": [
    "<span class=\"header\"><font color=\"#e66700\">**Under the hood**</font></span>\n",
    "<br><br>\n",
    "![](diagrams_v2/45.png)"
   ]
  },
  {
   "cell_type": "markdown",
   "metadata": {
    "slideshow": {
     "slide_type": "subslide"
    }
   },
   "source": [
    "<span class=\"header\"><font color=\"#e66700\">**Under the hood**</font></span>\n",
    "<br><br>\n",
    "![](diagrams_v2/46.png)"
   ]
  },
  {
   "cell_type": "markdown",
   "metadata": {
    "slideshow": {
     "slide_type": "subslide"
    }
   },
   "source": [
    "<span class=\"header\">Exploring the past</span>\n",
    "\n",
    "### Detached HEAD\n",
    "<br>\n",
    "\n",
    "Safe approach."
   ]
  },
  {
   "cell_type": "code",
   "execution_count": null,
   "metadata": {},
   "outputs": [],
   "source": [
    "git checkout xxxx"
   ]
  },
  {
   "cell_type": "code",
   "execution_count": null,
   "metadata": {},
   "outputs": [],
   "source": [
    "echo \"lala\" >> ms/enso_effect.md"
   ]
  },
  {
   "cell_type": "code",
   "execution_count": null,
   "metadata": {},
   "outputs": [],
   "source": [
    "git status"
   ]
  },
  {
   "cell_type": "code",
   "execution_count": null,
   "metadata": {},
   "outputs": [],
   "source": [
    "git commit -a -m \"Exploration from commit xxx\""
   ]
  },
  {
   "cell_type": "code",
   "execution_count": null,
   "metadata": {},
   "outputs": [],
   "source": [
    "echo \"tutut\" >> ms/enso_effect.md"
   ]
  },
  {
   "cell_type": "code",
   "execution_count": null,
   "metadata": {},
   "outputs": [],
   "source": [
    "git commit -a -m \"Another commit on that branch\""
   ]
  },
  {
   "cell_type": "code",
   "execution_count": null,
   "metadata": {},
   "outputs": [],
   "source": [
    "git status"
   ]
  },
  {
   "cell_type": "code",
   "execution_count": null,
   "metadata": {},
   "outputs": [],
   "source": [
    "git checkout -b alternative"
   ]
  },
  {
   "cell_type": "code",
   "execution_count": null,
   "metadata": {},
   "outputs": [],
   "source": [
    "git status"
   ]
  },
  {
   "cell_type": "code",
   "execution_count": null,
   "metadata": {},
   "outputs": [],
   "source": [
    "git checkout master"
   ]
  },
  {
   "cell_type": "markdown",
   "metadata": {},
   "source": [
    "<br>"
   ]
  },
  {
   "cell_type": "markdown",
   "metadata": {
    "slideshow": {
     "slide_type": "subslide"
    }
   },
   "source": [
    "<span class=\"header\"><font color=\"#e66700\">**Under the hood**</font></span>\n",
    "<br><br>\n",
    "![](diagrams_v2/42.png)"
   ]
  },
  {
   "cell_type": "markdown",
   "metadata": {
    "slideshow": {
     "slide_type": "subslide"
    }
   },
   "source": [
    "<span class=\"header\"><font color=\"#e66700\">**Under the hood**</font></span>\n",
    "<br><br>\n",
    "![](diagrams_v2/43.png)"
   ]
  },
  {
   "cell_type": "markdown",
   "metadata": {
    "slideshow": {
     "slide_type": "subslide"
    }
   },
   "source": [
    "<span class=\"header\"><font color=\"#e66700\">**Under the hood**</font></span>\n",
    "<br><br>\n",
    "![](diagrams_v2/44.png)"
   ]
  },
  {
   "cell_type": "markdown",
   "metadata": {
    "slideshow": {
     "slide_type": "subslide"
    }
   },
   "source": [
    "<span class=\"header\"><font color=\"#e66700\">**Under the hood**</font></span>\n",
    "<br><br>\n",
    "![](diagrams_v2/45.png)"
   ]
  },
  {
   "cell_type": "markdown",
   "metadata": {
    "slideshow": {
     "slide_type": "subslide"
    }
   },
   "source": [
    "<span class=\"header\"><font color=\"#e66700\">**Under the hood**</font></span>\n",
    "<br><br>\n",
    "![](diagrams_v2/48.png)"
   ]
  },
  {
   "cell_type": "markdown",
   "metadata": {
    "slideshow": {
     "slide_type": "subslide"
    }
   },
   "source": [
    "<span class=\"header\"><font color=\"#e66700\">**Under the hood**</font></span>\n",
    "<br><br>\n",
    "![](diagrams_v2/49.png)"
   ]
  },
  {
   "cell_type": "markdown",
   "metadata": {
    "slideshow": {
     "slide_type": "subslide"
    }
   },
   "source": [
    "<span class=\"header\">Exploring the past</span>\n",
    "\n",
    "### Detached HEAD\n",
    "<br>\n",
    "\n",
    "How to recover if you loose changes?\n",
    "\n",
    "**Do this as soon as you can as the commits which are not on a branch will be deleted at the next garbage collection.**"
   ]
  },
  {
   "cell_type": "code",
   "execution_count": null,
   "metadata": {},
   "outputs": [],
   "source": [
    "git reflog"
   ]
  },
  {
   "cell_type": "code",
   "execution_count": null,
   "metadata": {},
   "outputs": [],
   "source": [
    "git checkout xxxx"
   ]
  },
  {
   "cell_type": "code",
   "execution_count": null,
   "metadata": {},
   "outputs": [],
   "source": [
    "git checkout -b new_branch"
   ]
  },
  {
   "cell_type": "markdown",
   "metadata": {},
   "source": [
    "<br>"
   ]
  },
  {
   "cell_type": "markdown",
   "metadata": {
    "cell_style": "center",
    "slideshow": {
     "slide_type": "slide"
    }
   },
   "source": [
    "## Undoing"
   ]
  },
  {
   "cell_type": "markdown",
   "metadata": {
    "slideshow": {
     "slide_type": "subslide"
    }
   },
   "source": [
    "<span class=\"header\">Undoing</span>\n",
    "\n",
    "### Codes\n",
    "<br>\n",
    "\n",
    "<font color=\"#5c85d6\">**Safe**</font>\n",
    "<br>\n",
    "You can do this safely at any time as you can always go back to where you were before doing it.\n",
    "\n",
    "<font color=\"#e67300\">**! Data loss**</font>\n",
    "<br>\n",
    "Warning: this involves the loss of some information. Make sure that you do not want that information before doing this.\n",
    "\n",
    "<font color=\"#e67300\">**! Collaboration**</font>\n",
    "<br>\n",
    "Warning: this should **not** be done on something you already pushed to a remote when you are collaborating with others."
   ]
  },
  {
   "cell_type": "markdown",
   "metadata": {
    "slideshow": {
     "slide_type": "subslide"
    }
   },
   "source": [
    "<span class=\"header\">Undoing</span>\n",
    "\n",
    "### Undoing the last commit &emsp; <font color=\"#e67300\">**! Collaboration**</font>\n",
    "<br>\n",
    "\n",
    "```sh\n",
    "git reset --soft HEAD~\n",
    "```"
   ]
  },
  {
   "cell_type": "code",
   "execution_count": null,
   "metadata": {},
   "outputs": [],
   "source": []
  },
  {
   "cell_type": "markdown",
   "metadata": {},
   "source": [
    "<br>"
   ]
  },
  {
   "cell_type": "markdown",
   "metadata": {
    "slideshow": {
     "slide_type": "subslide"
    }
   },
   "source": [
    "<span class=\"header\">Undoing</span>\n",
    "\n",
    "### Undoing several commits (while keeping the changes staged) &emsp; <font color=\"#e67300\">**! Collaboration**</font>\n",
    "<br>\n",
    "\n",
    "```sh\n",
    "git reset --soft HEAD~x\n",
    "```"
   ]
  },
  {
   "cell_type": "code",
   "execution_count": null,
   "metadata": {},
   "outputs": [],
   "source": []
  },
  {
   "cell_type": "markdown",
   "metadata": {},
   "source": [
    "<br>"
   ]
  },
  {
   "cell_type": "markdown",
   "metadata": {
    "slideshow": {
     "slide_type": "subslide"
    }
   },
   "source": [
    "<span class=\"header\">Undoing</span>\n",
    "\n",
    "### Restoring the index (unstaging) &emsp; <font color=\"#5c85d6\">**Safe**</font>\n",
    "<br>\n",
    "\n",
    "Single file:\n",
    "```sh\n",
    "git reset HEAD <file>\n",
    "```\n",
    "All files:\n",
    "```sh\n",
    "git reset HEAD\n",
    "```\n",
    "\n",
    "*Note:* for versions newer than 2.23, Git suggests using a new command: `git restore --staged <file>` <br>\n",
    "See [my answer on Stack Overflow](https://stackoverflow.com/a/62569076/9210961) for more details."
   ]
  },
  {
   "cell_type": "markdown",
   "metadata": {
    "slideshow": {
     "slide_type": "subslide"
    }
   },
   "source": [
    "<span class=\"header\">Undoing</span>\n",
    "\n",
    "### Restoring the index (unstaging) &emsp; <font color=\"#5c85d6\">**Safe**</font>"
   ]
  },
  {
   "cell_type": "code",
   "execution_count": null,
   "metadata": {},
   "outputs": [],
   "source": []
  },
  {
   "cell_type": "markdown",
   "metadata": {},
   "source": [
    "<br>"
   ]
  },
  {
   "cell_type": "markdown",
   "metadata": {
    "slideshow": {
     "slide_type": "subslide"
    }
   },
   "source": [
    "<span class=\"header\">Undoing</span>\n",
    "\n",
    "### Undoing the last commit and unstaging &emsp; <font color=\"#e67300\">**! Collaboration**</font>\n",
    "<br>\n",
    "\n",
    "```sh\n",
    "git reset HEAD~\n",
    "```"
   ]
  },
  {
   "cell_type": "code",
   "execution_count": null,
   "metadata": {},
   "outputs": [],
   "source": []
  },
  {
   "cell_type": "markdown",
   "metadata": {},
   "source": [
    "<br>"
   ]
  },
  {
   "cell_type": "markdown",
   "metadata": {
    "slideshow": {
     "slide_type": "subslide"
    }
   },
   "source": [
    "<span class=\"header\">Undoing</span>\n",
    "\n",
    "### Undoing several commits and unstaging &emsp; <font color=\"#e67300\">**! Collaboration**</font>\n",
    "<br>\n",
    "\n",
    "```sh\n",
    "git reset HEAD~x\n",
    "```"
   ]
  },
  {
   "cell_type": "code",
   "execution_count": null,
   "metadata": {},
   "outputs": [],
   "source": []
  },
  {
   "cell_type": "markdown",
   "metadata": {},
   "source": [
    "<br>"
   ]
  },
  {
   "cell_type": "markdown",
   "metadata": {
    "slideshow": {
     "slide_type": "subslide"
    }
   },
   "source": [
    "<span class=\"header\">Undoing</span>\n",
    "\n",
    "### Throwing away changes since last commit &emsp; <font color=\"#e67300\">**! Data loss**</font>\n",
    "<br>\n",
    "\n",
    "```sh\n",
    "git reset --hard HEAD\n",
    "```"
   ]
  },
  {
   "cell_type": "code",
   "execution_count": null,
   "metadata": {},
   "outputs": [],
   "source": []
  },
  {
   "cell_type": "markdown",
   "metadata": {},
   "source": [
    "<br>"
   ]
  },
  {
   "cell_type": "markdown",
   "metadata": {
    "slideshow": {
     "slide_type": "subslide"
    }
   },
   "source": [
    "<span class=\"header\">Undoing</span>\n",
    "\n",
    "### Undoing the last commit and throwing away changes &emsp; <font color=\"#e67300\">**! Collaboration**</font> &emsp; <font color=\"#e67300\">**! Data loss**</font>\n",
    "<br>\n",
    "\n",
    "```sh\n",
    "git reset --hard HEAD~\n",
    "```"
   ]
  },
  {
   "cell_type": "code",
   "execution_count": null,
   "metadata": {},
   "outputs": [],
   "source": []
  },
  {
   "cell_type": "markdown",
   "metadata": {},
   "source": [
    "<br>"
   ]
  },
  {
   "cell_type": "markdown",
   "metadata": {
    "slideshow": {
     "slide_type": "subslide"
    }
   },
   "source": [
    "<span class=\"header\">Undoing</span>\n",
    "\n",
    "### Undoing several commits and throwing away changes &emsp; <font color=\"#e67300\">**! Collaboration**</font> &emsp; <font color=\"#e67300\">**! Data loss**</font>\n",
    "<br>\n",
    "\n",
    "```sh\n",
    "git reset --hard HEAD~x\n",
    "```"
   ]
  },
  {
   "cell_type": "code",
   "execution_count": null,
   "metadata": {},
   "outputs": [],
   "source": []
  },
  {
   "cell_type": "markdown",
   "metadata": {},
   "source": [
    "<br>"
   ]
  },
  {
   "cell_type": "markdown",
   "metadata": {
    "slideshow": {
     "slide_type": "subslide"
    }
   },
   "source": [
    "<span class=\"header\">Undoing</span>\n",
    "\n",
    "### Throwing away unstaged changes (unmodifying) &emsp; <font color=\"#e67300\">**! Data loss**</font>\n",
    "<br>\n",
    "\n",
    "Single file:\n",
    "```sh\n",
    "git checkout -- <file>\n",
    "```\n",
    "All files:\n",
    "```sh\n",
    "git checkout -- .\n",
    "```\n",
    "\n",
    "*Note:* for versions newer than 2.23, Git suggests using a new command: `git restore --staged <file>` <br>\n",
    "See [my answer on Stack Overflow](https://stackoverflow.com/a/57880896/9210961) for more details."
   ]
  },
  {
   "cell_type": "markdown",
   "metadata": {
    "slideshow": {
     "slide_type": "subslide"
    }
   },
   "source": [
    "<span class=\"header\">Undoing</span>\n",
    "\n",
    "### Throwing away unstaged changes (unmodifying) &emsp; <font color=\"#e67300\">**! Data loss**</font>"
   ]
  },
  {
   "cell_type": "code",
   "execution_count": null,
   "metadata": {},
   "outputs": [],
   "source": []
  },
  {
   "cell_type": "markdown",
   "metadata": {},
   "source": [
    "<br>"
   ]
  },
  {
   "cell_type": "markdown",
   "metadata": {
    "slideshow": {
     "slide_type": "subslide"
    }
   },
   "source": [
    "<span class=\"header\">Undoing</span>\n",
    "\n",
    "### Reverting &emsp; <font color=\"#5c85d6\">**Safe**</font>\n",
    "<br>\n",
    "\n",
    "Create a new commit to return to the state of a previous commit."
   ]
  },
  {
   "cell_type": "code",
   "execution_count": null,
   "metadata": {},
   "outputs": [],
   "source": [
    "git revert"
   ]
  },
  {
   "cell_type": "markdown",
   "metadata": {},
   "source": [
    "<br>"
   ]
  },
  {
   "cell_type": "markdown",
   "metadata": {
    "slideshow": {
     "slide_type": "subslide"
    }
   },
   "source": [
    "<span class=\"header\">Undoing</span>\n",
    "\n",
    "### Modifying the last commit message &emsp; <font color=\"#e67300\">**! Collaboration**</font>\n",
    "<br>"
   ]
  },
  {
   "cell_type": "code",
   "execution_count": null,
   "metadata": {},
   "outputs": [],
   "source": [
    "git commit --amend -o"
   ]
  },
  {
   "cell_type": "code",
   "execution_count": null,
   "metadata": {},
   "outputs": [],
   "source": [
    "git commit --amend -o -m \"Much better commit message\""
   ]
  },
  {
   "cell_type": "markdown",
   "metadata": {},
   "source": [
    "<br>"
   ]
  },
  {
   "cell_type": "markdown",
   "metadata": {
    "slideshow": {
     "slide_type": "subslide"
    }
   },
   "source": [
    "<span class=\"header\">Undoing</span>\n",
    "\n",
    "### Modifying the last commit &emsp; <font color=\"#e67300\">**! Collaboration**</font>\n",
    "<br>"
   ]
  },
  {
   "cell_type": "code",
   "execution_count": null,
   "metadata": {},
   "outputs": [],
   "source": [
    "git commit --amend"
   ]
  },
  {
   "cell_type": "code",
   "execution_count": null,
   "metadata": {},
   "outputs": [],
   "source": [
    "git commit --amend --no-edit"
   ]
  },
  {
   "cell_type": "code",
   "execution_count": null,
   "metadata": {},
   "outputs": [],
   "source": [
    "git commit --amend -m \"New commit message for the replacement commit\""
   ]
  },
  {
   "cell_type": "markdown",
   "metadata": {},
   "source": [
    "<br>"
   ]
  },
  {
   "cell_type": "markdown",
   "metadata": {
    "slideshow": {
     "slide_type": "subslide"
    }
   },
   "source": [
    "<span class=\"header\">Undoing</span>\n",
    "\n",
    "### Modifying older commits &emsp; <font color=\"#e67300\">**! Collaboration**</font>\n",
    "<br>"
   ]
  },
  {
   "cell_type": "code",
   "execution_count": null,
   "metadata": {},
   "outputs": [],
   "source": [
    "git rebase -i HEAD~3"
   ]
  },
  {
   "cell_type": "markdown",
   "metadata": {},
   "source": [
    "<br>"
   ]
  },
  {
   "cell_type": "markdown",
   "metadata": {
    "cell_style": "center",
    "slideshow": {
     "slide_type": "slide"
    }
   },
   "source": [
    "## Remotes"
   ]
  },
  {
   "cell_type": "markdown",
   "metadata": {
    "slideshow": {
     "slide_type": "subslide"
    }
   },
   "source": [
    "<span class=\"header\">Remotes</span>\n",
    "\n",
    "### \n",
    "<br>"
   ]
  },
  {
   "cell_type": "code",
   "execution_count": null,
   "metadata": {},
   "outputs": [],
   "source": []
  },
  {
   "cell_type": "markdown",
   "metadata": {},
   "source": [
    "<br>"
   ]
  },
  {
   "cell_type": "markdown",
   "metadata": {
    "slideshow": {
     "slide_type": "subslide"
    }
   },
   "source": [
    "<span class=\"header\">Remotes</span>\n",
    "\n",
    "### Pushing tags\n",
    "<br>\n",
    "\n",
    "Pushing will not push tags to the remote unless you add the `--tags` tag."
   ]
  },
  {
   "cell_type": "code",
   "execution_count": null,
   "metadata": {},
   "outputs": [],
   "source": [
    "git push origin --tags"
   ]
  },
  {
   "cell_type": "code",
   "execution_count": null,
   "metadata": {},
   "outputs": [],
   "source": [
    "git push origin --delete <tagname>"
   ]
  },
  {
   "cell_type": "markdown",
   "metadata": {},
   "source": [
    "<br>"
   ]
  },
  {
   "cell_type": "markdown",
   "metadata": {
    "cell_style": "split",
    "slideshow": {
     "slide_type": "slide"
    }
   },
   "source": [
    "<br><br><br><br><br><br> \n",
    "## Collaborating"
   ]
  },
  {
   "cell_type": "markdown",
   "metadata": {
    "cell_style": "split",
    "slideshow": {
     "slide_type": "-"
    }
   },
   "source": [
    "<br>\n",
    "<figure style=\"display: table; margin: 0 auto\">\n",
    "  <center>\n",
    "    <img src=\"gitpush_nw.png\" title=\"\" width=\"700vmin\" style=\"padding: 2vmin 0 0 0\">\n",
    "  </center>\n",
    "  <div align=\"right\" style=\"color: #978282; line-height: 0; font-size: 2vmin\">\n",
    "    <em>\n",
    "      from <a href=\"https://crystallize.com/comics\">crystallize comics</a>\n",
    "    </em>\n",
    "  </div>\n",
    "</figure>"
   ]
  }
 ],
 "metadata": {
  "celltoolbar": "Slideshow",
  "kernelspec": {
   "display_name": "Bash",
   "language": "bash",
   "name": "bash"
  },
  "language_info": {
   "codemirror_mode": "shell",
   "file_extension": ".sh",
   "mimetype": "text/x-sh",
   "name": "bash"
  },
  "name": "git.ipynb",
  "rise": {
   "autolaunch": true,
   "controls": false,
   "enable_chalkboard": true,
   "overlay": "<img src='wg_white_removed_medium.png' style='position:absolute;top:1%;left:0;width:15%;'>",
   "progress": true,
   "reveal_shortcuts": {
    "chalkboard": {
     "toggleChalkboard": "ctrl-o",
     "toggleNotesCanvas": "shift-o"
    }
   },
   "scroll": true,
   "transition": "none"
  },
  "toc": {
   "base_numbering": 1,
   "nav_menu": {
    "height": "141.987px",
    "width": "251.987px"
   },
   "number_sections": false,
   "sideBar": true,
   "skip_h1_title": true,
   "title_cell": "",
   "title_sidebar": "Contents",
   "toc_cell": false,
   "toc_position": {
    "height": "212.567px",
    "left": "788.846px",
    "top": "157.536px",
    "width": "262px"
   },
   "toc_section_display": false,
   "toc_window_display": false
  }
 },
 "nbformat": 4,
 "nbformat_minor": 4
}
