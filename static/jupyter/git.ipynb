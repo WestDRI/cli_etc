{
 "cells": [
  {
   "cell_type": "markdown",
   "metadata": {
    "slideshow": {
     "slide_type": "slide"
    }
   },
   "source": [
    "# <center><div style=\"padding: 1vmin\">Version control with<img src=\"git_logo.png\" alt=\"\" height=\"\" width=\"400vmin\" style=\"padding: 4vmin 0 4vmin 0\"></div></center>\n",
    "### Marie-Hélène Burle\n",
    "#### training@westgrid.ca\n",
    "#### *September 11, 2020*"
   ]
  },
  {
   "cell_type": "markdown",
   "metadata": {
    "cell_style": "split",
    "slideshow": {
     "slide_type": "subslide"
    }
   },
   "source": [
    "- Why version control?\n",
    "- Git\n",
    "- Configuration\n",
    "- Documentation\n",
    "- Troubleshooting & getting help\n",
    "- Understanding the core concepts of repositories"
   ]
  },
  {
   "cell_type": "markdown",
   "metadata": {
    "cell_style": "split",
    "slideshow": {
     "slide_type": "-"
    }
   },
   "source": [
    "- Let's start a project and record its history\n",
    "- Exploring the past\n",
    "- Undoing\n",
    "- Working with branches\n",
    "- Remotes\n",
    "- Collaborating"
   ]
  },
  {
   "cell_type": "markdown",
   "metadata": {
    "cell_style": "split",
    "slideshow": {
     "slide_type": "slide"
    }
   },
   "source": [
    "<br><br><br><br><br><br>  \n",
    "## Why version control?"
   ]
  },
  {
   "cell_type": "markdown",
   "metadata": {
    "cell_style": "split",
    "slideshow": {
     "slide_type": "-"
    }
   },
   "source": [
    "<br>\n",
    "<figure style=\"display: table; margin: 0 auto\">\n",
    "  <center>\n",
    "    <img src=\"vc_nw.png\" title=\"\" width=\"850vmin\" style=\"padding: 4vmin 0 0 0\">\n",
    "  </center>\n",
    "  <div align=\"right\" style=\"color: #978282; line-height: 0; font-size: 2vmin\">\n",
    "    <em>\n",
    "      from <a href=\"http://geek-and-poke.com/\">Geek&Poke</a>\n",
    "    </em>\n",
    "  </div>\n",
    "</figure>"
   ]
  },
  {
   "cell_type": "markdown",
   "metadata": {
    "cell_style": "center",
    "slideshow": {
     "slide_type": "subslide"
    }
   },
   "source": [
    "<span class=\"header\">Why version control?</span><br>\n",
    "\n",
    "### A sophisticated form of backup"
   ]
  },
  {
   "cell_type": "markdown",
   "metadata": {
    "cell_style": "split",
    "slideshow": {
     "slide_type": "-"
    }
   },
   "source": [
    "<br><br>\n",
    "\n",
    "> There are two kinds of people: those who do their backups well and those who will."
   ]
  },
  {
   "cell_type": "markdown",
   "metadata": {
    "cell_style": "split",
    "slideshow": {
     "slide_type": "-"
    }
   },
   "source": [
    "<br>\n",
    "<figure style=\"display: table; margin: 0 auto\">\n",
    "  <center>\n",
    "    <img src=\"vc-xkcd.jpg\" title=\"\" width=\"1300vmin\" style=\"padding: 2vmin 0 0 0\">\n",
    "  </center>\n",
    "  <div align=\"right\" style=\"color: #978282; line-height: 0; font-size: 2vmin\">\n",
    "    <em>\n",
    "      from <a href=\"https://smutch.github.io/VersionControlTutorial/\">smutch</a>\n",
    "    </em>\n",
    "  </div>\n",
    "</figure>"
   ]
  },
  {
   "cell_type": "markdown",
   "metadata": {
    "cell_style": "split",
    "slideshow": {
     "slide_type": "subslide"
    }
   },
   "source": [
    "<span class=\"header\">Why version control?</span><br>\n",
    "<br><br><br><br><br>\n",
    "### But much more than that"
   ]
  },
  {
   "cell_type": "markdown",
   "metadata": {
    "cell_style": "split",
    "slideshow": {
     "slide_type": "-"
    }
   },
   "source": [
    "<br>\n",
    "<center>\n",
    "  <div style=\"padding: 5.5vmin 0 0 0\">\n",
    "    <img style=\"box-shadow: 0px 0px 6px rgba(0,0,0,0.3)\" src=\"https://phdcomics.com/comics/archive/phd101212s.gif\" title=\"\" width=\"550vmin\">\n",
    "  </div>\n",
    "</center>"
   ]
  },
  {
   "cell_type": "markdown",
   "metadata": {
    "cell_style": "center",
    "slideshow": {
     "slide_type": "slide"
    }
   },
   "source": [
    "<br>\n",
    "\n",
    "## <div style=\"padding: 7vmin 0 0 0\">Git</div>\n",
    "<br>\n",
    "\n",
    "<figure style=\"display: table; margin: 0 auto; padding: 8vmin 0 0 0\">\n",
    "  <center>\n",
    "    <img src=\"legend_nw.png\" title=\"\" width=\"800vmin\">\n",
    "    <img src=\"git_nw.png\" title=\"\" width=\"1300vmin\">\n",
    "  </center>\n",
    "  <div align=\"right\" style=\"color: #978282; line-height: 0; font-size: 2vmin\">\n",
    "    <em>\n",
    "      from <a href=\"https://trends.google.com/trends/\">Google Trends</a>\n",
    "    </em>\n",
    "  </div>\n",
    "</figure>"
   ]
  },
  {
   "cell_type": "markdown",
   "metadata": {
    "slideshow": {
     "slide_type": "subslide"
    }
   },
   "source": [
    "<span class=\"header\">Git</span>\n",
    "<br>\n",
    "\n",
    "Git is an open source distributed version control system (DVCS) created in 2005 by Linus Torvalds for the versioning of the Linux kernel during its development.\n",
    "<br><br><br>\n",
    "In distributed version control systems, the full history of projects lives on everybody's machine—as opposed to being only stored on a central server as was the case with centralized version control systems CVCS. This allows offline work, huge speedups, easy branching, and multiple backups. DVCS have taken over CVCS.\n",
    "<br><br><br>\n",
    "Git is extremely powerful and has strong branching capabilities. Since the early 2010s, it has become the most popular DVCS, increasingly rendering other systems quite marginal.\n"
   ]
  },
  {
   "cell_type": "markdown",
   "metadata": {
    "slideshow": {
     "slide_type": "subslide"
    }
   },
   "source": [
    "<span class=\"header\">Git</span>\n",
    "<br>\n",
    "All commands start with `git`.\n",
    "<br><br>\n",
    "A typical command is of the form:\n",
    "<br>\n",
    "```sh\n",
    "git <command> [flags] [arguments]\n",
    "```"
   ]
  },
  {
   "cell_type": "markdown",
   "metadata": {
    "slideshow": {
     "slide_type": "fragment"
    }
   },
   "source": [
    "*Example:*\n",
    "\n",
    "We already saw the following:\n",
    "\n",
    "```sh\n",
    "git config --global \"Your Name\"\n",
    "```"
   ]
  },
  {
   "cell_type": "markdown",
   "metadata": {
    "slideshow": {
     "slide_type": "slide"
    }
   },
   "source": [
    "## Configuration"
   ]
  },
  {
   "cell_type": "markdown",
   "metadata": {
    "slideshow": {
     "slide_type": "subslide"
    }
   },
   "source": [
    "<span class=\"header\">Configuration</span>\n",
    "\n",
    "### Global configuration\n",
    "<br>\n",
    "\n",
    "From anywhere, with the `--global` flag.\n",
    "<br><br>\n",
    "There are a number of configurations necessary to set before starting to use Git."
   ]
  },
  {
   "cell_type": "markdown",
   "metadata": {
    "slideshow": {
     "slide_type": "subslide"
    }
   },
   "source": [
    "<span class=\"header\">Configuration</span>\n",
    "<br>\n",
    "\n",
    "### Global configuration\n",
    "<br>\n",
    "\n",
    "Set the name and email address that will appear as signature of your commits:\n",
    "<br><br>\n",
    "```sh\n",
    "git config --global user.name \"Your Name\"\n",
    "git config --global user.email \"your@email\"\n",
    "```"
   ]
  },
  {
   "cell_type": "markdown",
   "metadata": {
    "slideshow": {
     "slide_type": "subslide"
    }
   },
   "source": [
    "<span class=\"header\">Configuration</span>\n",
    "<br>\n",
    "\n",
    "### Global configuration\n",
    "<br>\n",
    "\n",
    "Set the text editor you want to use with Git:\n",
    "<br><br>\n",
    "```sh\n",
    "git config --global core.editor \"editor\"  # e.g. \"nano\", \"vim\", \"emacs\"\n",
    "```"
   ]
  },
  {
   "cell_type": "markdown",
   "metadata": {
    "slideshow": {
     "slide_type": "subslide"
    }
   },
   "source": [
    "<span class=\"header\">Configuration</span>\n",
    "<br>\n",
    "\n",
    "### Global configuration\n",
    "<br>\n",
    "\n",
    "Format line endings properly:\n",
    "<br><br>\n",
    "```sh\n",
    "git config --global core.autocrlf input   # if you are on macOS or Linux\n",
    "git config --global core.autocrlf true    # if you are on Windows\n",
    "```"
   ]
  },
  {
   "cell_type": "markdown",
   "metadata": {
    "slideshow": {
     "slide_type": "subslide"
    }
   },
   "source": [
    "<span class=\"header\">Configuration</span>\n",
    "<br>\n",
    "\n",
    "### Global configuration\n",
    "<br>\n",
    "\n",
    "To see your current configuration:\n",
    "<br><br>\n",
    "```sh\n",
    "git config --list\n",
    "```"
   ]
  },
  {
   "cell_type": "markdown",
   "metadata": {
    "slideshow": {
     "slide_type": "fragment"
    }
   },
   "source": [
    "*Example:*"
   ]
  },
  {
   "cell_type": "code",
   "execution_count": null,
   "metadata": {
    "slideshow": {
     "slide_type": "-"
    }
   },
   "outputs": [],
   "source": []
  },
  {
   "cell_type": "markdown",
   "metadata": {},
   "source": [
    "<br>"
   ]
  },
  {
   "cell_type": "markdown",
   "metadata": {
    "slideshow": {
     "slide_type": "subslide"
    }
   },
   "source": [
    "<span class=\"header\">Configuration</span>\n",
    "<br>\n",
    "\n",
    "### Project-specific configuration\n",
    "<br>\n",
    "\n",
    "You can set configurations specific to a single repository (e.g. maybe you want to use a different email address for a certain project).\n",
    "\n",
    "In that case, **make sure that you are in the repository you want to customize** and run the command without the `--global` flag.\n",
    "\n",
    "*Example:*\n",
    "\n",
    "```sh\n",
    "cd /path/to/project\n",
    "git config user.email \"your_other@email\"\n",
    "```"
   ]
  },
  {
   "cell_type": "markdown",
   "metadata": {
    "slideshow": {
     "slide_type": "slide"
    }
   },
   "source": [
    "## Documentation"
   ]
  },
  {
   "cell_type": "markdown",
   "metadata": {
    "slideshow": {
     "slide_type": "subslide"
    }
   },
   "source": [
    "<span class=\"header\">Documentation</span>\n",
    "\n",
    "### Man pages\n",
    "<br><br>\n",
    "You can access the **man page** for a git command with either of:\n",
    "```bash\n",
    "git <command> --help\n",
    "git help <command>\n",
    "man git-<command>\n",
    "```\n",
    "<br>\n",
    "\n",
    "*Note:  \n",
    "Throughout this workshop, I will be using `<` and `>` to indicate that an expression needs to be replaced by the appropriate expression (without those signs).*"
   ]
  },
  {
   "cell_type": "markdown",
   "metadata": {
    "cell_style": "center",
    "slideshow": {
     "slide_type": "subslide"
    }
   },
   "source": [
    "<span class=\"header\">Documentation</span>\n",
    "<br>\n",
    "\n",
    "*Example:*"
   ]
  },
  {
   "cell_type": "code",
   "execution_count": 18,
   "metadata": {},
   "outputs": [
    {
     "name": "stdout",
     "output_type": "stream",
     "text": [
      "GIT-COMMIT(1)                     Git Manual                     GIT-COMMIT(1)\n",
      "\n",
      "NAME\n",
      "       git-commit - Record changes to the repository\n",
      "\n",
      "SYNOPSIS\n",
      "       git commit [-a | --interactive | --patch] [-s] [-v] [-u<mode>] [--amend]\n",
      "                  [--dry-run] [(-c | -C | --fixup | --squash) <commit>]\n",
      "                  [-F <file> | -m <msg>] [--reset-author] [--allow-empty]\n",
      "                  [--allow-empty-message] [--no-verify] [-e] [--author=<author>]\n",
      "                  [--date=<date>] [--cleanup=<mode>] [--[no-]status]\n",
      "                  [-i | -o] [--pathspec-from-file=<file> [--pathspec-file-nul]]\n",
      "                  [-S[<keyid>]] [--] [<pathspec>...]\n",
      "\n",
      "DESCRIPTION\n",
      "       Create a new commit containing the current contents of the index and\n",
      "       the given log message describing the changes. The new commit is a\n",
      "       direct child of HEAD, usually the tip of the current branch, and the\n",
      "       branch is updated to point to it (unless no branch is associated with\n",
      "       the working tree, in which case HEAD is \"detached\" as described in git-\n",
      "       checkout(1)).\n",
      "\n",
      "       The content to be committed can be specified in several ways:\n",
      "\n",
      "        1. by using git-add(1) to incrementally \"add\" changes to the index\n",
      "           before using the commit command (Note: even modified files must be\n",
      "           \"added\");\n",
      "\n",
      "        2. by using git-rm(1) to remove files from the working tree and the\n",
      "           index, again before using the commit command;\n",
      "\n",
      "        3. by listing files as arguments to the commit command (without\n",
      "           --interactive or --patch switch), in which case the commit will\n",
      "           ignore changes staged in the index, and instead record the current\n",
      "           content of the listed files (which must already be known to Git);\n",
      "\n",
      "        4. by using the -a switch with the commit command to automatically\n",
      "           \"add\" changes from all known files (i.e. all files that are already\n",
      "           listed in the index) and to automatically \"rm\" files in the index\n",
      "           that have been removed from the working tree, and then perform the\n",
      "           actual commit;\n",
      "\n",
      "        5. by using the --interactive or --patch switches with the commit\n",
      "           command to decide one by one which files or hunks should be part of\n",
      "           the commit in addition to contents in the index, before finalizing\n",
      "           the operation. See the “Interactive Mode” section of git-add(1) to\n",
      "           learn how to operate these modes.\n",
      "\n",
      "       The --dry-run option can be used to obtain a summary of what is\n",
      "       included by any of the above for the next commit by giving the same set\n",
      "       of parameters (options and paths).\n",
      "\n",
      "       If you make a commit and then find a mistake immediately after that,\n",
      "       you can recover from it with git reset.\n",
      "\n",
      "OPTIONS\n",
      "       -a, --all\n",
      "           Tell the command to automatically stage files that have been\n",
      "           modified and deleted, but new files you have not told Git about are\n",
      "           not affected.\n",
      "\n",
      "       -p, --patch\n",
      "           Use the interactive patch selection interface to chose which\n",
      "           changes to commit. See git-add(1) for details.\n",
      "\n",
      "       -C <commit>, --reuse-message=<commit>\n",
      "           Take an existing commit object, and reuse the log message and the\n",
      "           authorship information (including the timestamp) when creating the\n",
      "           commit.\n",
      "\n",
      "       -c <commit>, --reedit-message=<commit>\n",
      "           Like -C, but with -c the editor is invoked, so that the user can\n",
      "           further edit the commit message.\n",
      "\n",
      "       --fixup=<commit>\n",
      "           Construct a commit message for use with rebase --autosquash. The\n",
      "           commit message will be the subject line from the specified commit\n",
      "           with a prefix of \"fixup! \". See git-rebase(1) for details.\n",
      "\n",
      "       --squash=<commit>\n",
      "           Construct a commit message for use with rebase --autosquash. The\n",
      "           commit message subject line is taken from the specified commit with\n",
      "           a prefix of \"squash! \". Can be used with additional commit message\n",
      "           options (-m/-c/-C/-F). See git-rebase(1) for details.\n",
      "\n",
      "       --reset-author\n",
      "           When used with -C/-c/--amend options, or when committing after a\n",
      "           conflicting cherry-pick, declare that the authorship of the\n",
      "           resulting commit now belongs to the committer. This also renews the\n",
      "           author timestamp.\n",
      "\n",
      "       --short\n",
      "           When doing a dry-run, give the output in the short-format. See git-\n",
      "           status(1) for details. Implies --dry-run.\n",
      "\n",
      "       --branch\n",
      "           Show the branch and tracking info even in short-format.\n",
      "\n",
      "       --porcelain\n",
      "           When doing a dry-run, give the output in a porcelain-ready format.\n",
      "           See git-status(1) for details. Implies --dry-run.\n",
      "\n",
      "       --long\n",
      "           When doing a dry-run, give the output in the long-format. Implies\n",
      "           --dry-run.\n",
      "\n",
      "       -z, --null\n",
      "           When showing short or porcelain status output, print the filename\n",
      "           verbatim and terminate the entries with NUL, instead of LF. If no\n",
      "           format is given, implies the --porcelain output format. Without the\n",
      "           -z option, filenames with \"unusual\" characters are quoted as\n",
      "           explained for the configuration variable core.quotePath (see git-\n",
      "           config(1)).\n",
      "\n",
      "       -F <file>, --file=<file>\n",
      "           Take the commit message from the given file. Use - to read the\n",
      "           message from the standard input.\n",
      "\n",
      "       --author=<author>\n",
      "           Override the commit author. Specify an explicit author using the\n",
      "           standard A U Thor <author@example.com> format. Otherwise <author>\n",
      "           is assumed to be a pattern and is used to search for an existing\n",
      "           commit by that author (i.e. rev-list --all -i --author=<author>);\n",
      "           the commit author is then copied from the first such commit found.\n",
      "\n",
      "       --date=<date>\n",
      "           Override the author date used in the commit.\n",
      "\n",
      "       -m <msg>, --message=<msg>\n",
      "           Use the given <msg> as the commit message. If multiple -m options\n",
      "           are given, their values are concatenated as separate paragraphs.\n",
      "\n",
      "           The -m option is mutually exclusive with -c, -C, and -F.\n",
      "\n",
      "       -t <file>, --template=<file>\n",
      "           When editing the commit message, start the editor with the contents\n",
      "           in the given file. The commit.template configuration variable is\n",
      "           often used to give this option implicitly to the command. This\n",
      "           mechanism can be used by projects that want to guide participants\n",
      "           with some hints on what to write in the message in what order. If\n",
      "           the user exits the editor without editing the message, the commit\n",
      "           is aborted. This has no effect when a message is given by other\n",
      "           means, e.g. with the -m or -F options.\n",
      "\n",
      "       -s, --signoff\n",
      "           Add Signed-off-by line by the committer at the end of the commit\n",
      "           log message. The meaning of a signoff depends on the project, but\n",
      "           it typically certifies that committer has the rights to submit this\n",
      "           work under the same license and agrees to a Developer Certificate\n",
      "           of Origin (see http://developercertificate.org/ for more\n",
      "           information).\n",
      "\n",
      "       -n, --no-verify\n",
      "           This option bypasses the pre-commit and commit-msg hooks. See also\n",
      "           githooks(5).\n",
      "\n",
      "       --allow-empty\n",
      "           Usually recording a commit that has the exact same tree as its sole\n",
      "           parent commit is a mistake, and the command prevents you from\n",
      "           making such a commit. This option bypasses the safety, and is\n",
      "           primarily for use by foreign SCM interface scripts.\n",
      "\n",
      "       --allow-empty-message\n",
      "           Like --allow-empty this command is primarily for use by foreign SCM\n",
      "           interface scripts. It allows you to create a commit with an empty\n",
      "           commit message without using plumbing commands like git-commit-\n",
      "           tree(1).\n",
      "\n",
      "       --cleanup=<mode>\n",
      "           This option determines how the supplied commit message should be\n",
      "           cleaned up before committing. The <mode> can be strip, whitespace,\n",
      "           verbatim, scissors or default.\n",
      "\n",
      "           strip\n",
      "               Strip leading and trailing empty lines, trailing whitespace,\n"
     ]
    },
    {
     "name": "stdout",
     "output_type": "stream",
     "text": [
      "               commentary and collapse consecutive empty lines.\n",
      "\n",
      "           whitespace\n",
      "               Same as strip except #commentary is not removed.\n",
      "\n",
      "           verbatim\n",
      "               Do not change the message at all.\n",
      "\n",
      "           scissors\n",
      "               Same as whitespace except that everything from (and including)\n",
      "               the line found below is truncated, if the message is to be\n",
      "               edited. \"#\" can be customized with core.commentChar.\n",
      "\n",
      "                   # ------------------------ >8 ------------------------\n",
      "\n",
      "           default\n",
      "               Same as strip if the message is to be edited. Otherwise\n",
      "               whitespace.\n",
      "\n",
      "           The default can be changed by the commit.cleanup configuration\n",
      "           variable (see git-config(1)).\n",
      "\n",
      "       -e, --edit\n",
      "           The message taken from file with -F, command line with -m, and from\n",
      "           commit object with -C are usually used as the commit log message\n",
      "           unmodified. This option lets you further edit the message taken\n",
      "           from these sources.\n",
      "\n",
      "       --no-edit\n",
      "           Use the selected commit message without launching an editor. For\n",
      "           example, git commit --amend --no-edit amends a commit without\n",
      "           changing its commit message.\n",
      "\n",
      "       --amend\n",
      "           Replace the tip of the current branch by creating a new commit. The\n",
      "           recorded tree is prepared as usual (including the effect of the -i\n",
      "           and -o options and explicit pathspec), and the message from the\n",
      "           original commit is used as the starting point, instead of an empty\n",
      "           message, when no other message is specified from the command line\n",
      "           via options such as -m, -F, -c, etc. The new commit has the same\n",
      "           parents and author as the current one (the --reset-author option\n",
      "           can countermand this).\n",
      "\n",
      "           It is a rough equivalent for:\n",
      "\n",
      "                       $ git reset --soft HEAD^\n",
      "                       $ ... do something else to come up with the right tree ...\n",
      "                       $ git commit -c ORIG_HEAD\n",
      "\n",
      "           but can be used to amend a merge commit.\n",
      "\n",
      "           You should understand the implications of rewriting history if you\n",
      "           amend a commit that has already been published. (See the\n",
      "           \"RECOVERING FROM UPSTREAM REBASE\" section in git-rebase(1).)\n",
      "\n",
      "       --no-post-rewrite\n",
      "           Bypass the post-rewrite hook.\n",
      "\n",
      "       -i, --include\n",
      "           Before making a commit out of staged contents so far, stage the\n",
      "           contents of paths given on the command line as well. This is\n",
      "           usually not what you want unless you are concluding a conflicted\n",
      "           merge.\n",
      "\n",
      "       -o, --only\n",
      "           Make a commit by taking the updated working tree contents of the\n",
      "           paths specified on the command line, disregarding any contents that\n",
      "           have been staged for other paths. This is the default mode of\n",
      "           operation of git commit if any paths are given on the command line,\n",
      "           in which case this option can be omitted. If this option is\n",
      "           specified together with --amend, then no paths need to be\n",
      "           specified, which can be used to amend the last commit without\n",
      "           committing changes that have already been staged. If used together\n",
      "           with --allow-empty paths are also not required, and an empty commit\n",
      "           will be created.\n",
      "\n",
      "       --pathspec-from-file=<file>\n",
      "           Pathspec is passed in <file> instead of commandline args. If <file>\n",
      "           is exactly - then standard input is used. Pathspec elements are\n",
      "           separated by LF or CR/LF. Pathspec elements can be quoted as\n",
      "           explained for the configuration variable core.quotePath (see git-\n",
      "           config(1)). See also --pathspec-file-nul and global\n",
      "           --literal-pathspecs.\n",
      "\n",
      "       --pathspec-file-nul\n",
      "           Only meaningful with --pathspec-from-file. Pathspec elements are\n",
      "           separated with NUL character and all other characters are taken\n",
      "           literally (including newlines and quotes).\n",
      "\n",
      "       -u[<mode>], --untracked-files[=<mode>]\n",
      "           Show untracked files.\n",
      "\n",
      "           The mode parameter is optional (defaults to all), and is used to\n",
      "           specify the handling of untracked files; when -u is not used, the\n",
      "           default is normal, i.e. show untracked files and directories.\n",
      "\n",
      "           The possible options are:\n",
      "\n",
      "           •   no - Show no untracked files\n",
      "\n",
      "           •   normal - Shows untracked files and directories\n",
      "\n",
      "           •   all - Also shows individual files in untracked directories.\n",
      "\n",
      "           The default can be changed using the status.showUntrackedFiles\n",
      "           configuration variable documented in git-config(1).\n",
      "\n",
      "       -v, --verbose\n",
      "           Show unified diff between the HEAD commit and what would be\n",
      "           committed at the bottom of the commit message template to help the\n",
      "           user describe the commit by reminding what changes the commit has.\n",
      "           Note that this diff output doesn’t have its lines prefixed with #.\n",
      "           This diff will not be a part of the commit message. See the\n",
      "           commit.verbose configuration variable in git-config(1).\n",
      "\n",
      "           If specified twice, show in addition the unified diff between what\n",
      "           would be committed and the worktree files, i.e. the unstaged\n",
      "           changes to tracked files.\n",
      "\n",
      "       -q, --quiet\n",
      "           Suppress commit summary message.\n",
      "\n",
      "       --dry-run\n",
      "           Do not create a commit, but show a list of paths that are to be\n",
      "           committed, paths with local changes that will be left uncommitted\n",
      "           and paths that are untracked.\n",
      "\n",
      "       --status\n",
      "           Include the output of git-status(1) in the commit message template\n",
      "           when using an editor to prepare the commit message. Defaults to on,\n",
      "           but can be used to override configuration variable commit.status.\n",
      "\n",
      "       --no-status\n",
      "           Do not include the output of git-status(1) in the commit message\n",
      "           template when using an editor to prepare the default commit\n",
      "           message.\n",
      "\n",
      "       -S[<keyid>], --gpg-sign[=<keyid>], --no-gpg-sign\n",
      "           GPG-sign commits. The keyid argument is optional and defaults to\n",
      "           the committer identity; if specified, it must be stuck to the\n",
      "           option without a space.  --no-gpg-sign is useful to countermand\n",
      "           both commit.gpgSign configuration variable, and earlier --gpg-sign.\n",
      "\n",
      "       --\n",
      "           Do not interpret any more arguments as options.\n",
      "\n",
      "       <pathspec>...\n",
      "           When pathspec is given on the command line, commit the contents of\n",
      "           the files that match the pathspec without recording the changes\n",
      "           already added to the index. The contents of these files are also\n",
      "           staged for the next commit on top of what have been staged before.\n",
      "\n",
      "           For more details, see the pathspec entry in gitglossary(7).\n",
      "\n",
      "EXAMPLES\n",
      "       When recording your own work, the contents of modified files in your\n",
      "       working tree are temporarily stored to a staging area called the\n",
      "       \"index\" with git add. A file can be reverted back, only in the index\n",
      "       but not in the working tree, to that of the last commit with git\n",
      "       restore --staged <file>, which effectively reverts git add and prevents\n",
      "       the changes to this file from participating in the next commit. After\n",
      "       building the state to be committed incrementally with these commands,\n",
      "       git commit (without any pathname parameter) is used to record what has\n",
      "       been staged so far. This is the most basic form of the command. An\n",
      "       example:\n",
      "\n",
      "           $ edit hello.c\n",
      "           $ git rm goodbye.c\n",
      "           $ git add hello.c\n",
      "           $ git commit\n",
      "\n",
      "       Instead of staging files after each individual change, you can tell git\n",
      "       commit to notice the changes to the files whose contents are tracked in\n",
      "       your working tree and do corresponding git add and git rm for you. That\n",
      "       is, this example does the same as the earlier example if there is no\n",
      "       other change in your working tree:\n",
      "\n",
      "           $ edit hello.c\n",
      "           $ rm goodbye.c\n",
      "           $ git commit -a\n",
      "\n",
      "       The command git commit -a first looks at your working tree, notices\n"
     ]
    },
    {
     "name": "stdout",
     "output_type": "stream",
     "text": [
      "       that you have modified hello.c and removed goodbye.c, and performs\n",
      "       necessary git add and git rm for you.\n",
      "\n",
      "       After staging changes to many files, you can alter the order the\n",
      "       changes are recorded in, by giving pathnames to git commit. When\n",
      "       pathnames are given, the command makes a commit that only records the\n",
      "       changes made to the named paths:\n",
      "\n",
      "           $ edit hello.c hello.h\n",
      "           $ git add hello.c hello.h\n",
      "           $ edit Makefile\n",
      "           $ git commit Makefile\n",
      "\n",
      "       This makes a commit that records the modification to Makefile. The\n",
      "       changes staged for hello.c and hello.h are not included in the\n",
      "       resulting commit. However, their changes are not lost — they are still\n",
      "       staged and merely held back. After the above sequence, if you do:\n",
      "\n",
      "           $ git commit\n",
      "\n",
      "       this second commit would record the changes to hello.c and hello.h as\n",
      "       expected.\n",
      "\n",
      "       After a merge (initiated by git merge or git pull) stops because of\n",
      "       conflicts, cleanly merged paths are already staged to be committed for\n",
      "       you, and paths that conflicted are left in unmerged state. You would\n",
      "       have to first check which paths are conflicting with git status and\n",
      "       after fixing them manually in your working tree, you would stage the\n",
      "       result as usual with git add:\n",
      "\n",
      "           $ git status | grep unmerged\n",
      "           unmerged: hello.c\n",
      "           $ edit hello.c\n",
      "           $ git add hello.c\n",
      "\n",
      "       After resolving conflicts and staging the result, git ls-files -u would\n",
      "       stop mentioning the conflicted path. When you are done, run git commit\n",
      "       to finally record the merge:\n",
      "\n",
      "           $ git commit\n",
      "\n",
      "       As with the case to record your own changes, you can use -a option to\n",
      "       save typing. One difference is that during a merge resolution, you\n",
      "       cannot use git commit with pathnames to alter the order the changes are\n",
      "       committed, because the merge should be recorded as a single commit. In\n",
      "       fact, the command refuses to run when given pathnames (but see -i\n",
      "       option).\n",
      "\n",
      "COMMIT INFORMATION\n",
      "       Author and committer information is taken from the following\n",
      "       environment variables, if set:\n",
      "\n",
      "           GIT_AUTHOR_NAME\n",
      "           GIT_AUTHOR_EMAIL\n",
      "           GIT_AUTHOR_DATE\n",
      "           GIT_COMMITTER_NAME\n",
      "           GIT_COMMITTER_EMAIL\n",
      "           GIT_COMMITTER_DATE\n",
      "\n",
      "       (nb \"<\", \">\" and \"\\n\"s are stripped)\n",
      "\n",
      "       The author and committer names are by convention some form of a\n",
      "       personal name (that is, the name by which other humans refer to you),\n",
      "       although Git does not enforce or require any particular form. Arbitrary\n",
      "       Unicode may be used, subject to the constraints listed above. This name\n",
      "       has no effect on authentication; for that, see the credential.username\n",
      "       variable in git-config(1).\n",
      "\n",
      "       In case (some of) these environment variables are not set, the\n",
      "       information is taken from the configuration items user.name and\n",
      "       user.email, or, if not present, the environment variable EMAIL, or, if\n",
      "       that is not set, system user name and the hostname used for outgoing\n",
      "       mail (taken from /etc/mailname and falling back to the fully qualified\n",
      "       hostname when that file does not exist).\n",
      "\n",
      "       The author.name and committer.name and their corresponding email\n",
      "       options override user.name and user.email if set and are overridden\n",
      "       themselves by the environment variables.\n",
      "\n",
      "       The typical usage is to set just the user.name and user.email\n",
      "       variables; the other options are provided for more complex use cases.\n",
      "\n",
      "DATE FORMATS\n",
      "       The GIT_AUTHOR_DATE, GIT_COMMITTER_DATE environment variables and the\n",
      "       --date option support the following date formats:\n",
      "\n",
      "       Git internal format\n",
      "           It is <unix timestamp> <time zone offset>, where <unix timestamp>\n",
      "           is the number of seconds since the UNIX epoch.  <time zone offset>\n",
      "           is a positive or negative offset from UTC. For example CET (which\n",
      "           is 1 hour ahead of UTC) is +0100.\n",
      "\n",
      "       RFC 2822\n",
      "           The standard email format as described by RFC 2822, for example\n",
      "           Thu, 07 Apr 2005 22:13:13 +0200.\n",
      "\n",
      "       ISO 8601\n",
      "           Time and date specified by the ISO 8601 standard, for example\n",
      "           2005-04-07T22:13:13. The parser accepts a space instead of the T\n",
      "           character as well. Fractional parts of a second will be ignored,\n",
      "           for example 2005-04-07T22:13:13.019 will be treated as\n",
      "           2005-04-07T22:13:13.\n",
      "\n",
      "               Note\n",
      "               In addition, the date part is accepted in the following\n",
      "               formats: YYYY.MM.DD, MM/DD/YYYY and DD.MM.YYYY.\n",
      "\n",
      "DISCUSSION\n",
      "       Though not required, it’s a good idea to begin the commit message with\n",
      "       a single short (less than 50 character) line summarizing the change,\n",
      "       followed by a blank line and then a more thorough description. The text\n",
      "       up to the first blank line in a commit message is treated as the commit\n",
      "       title, and that title is used throughout Git. For example, git-format-\n",
      "       patch(1) turns a commit into email, and it uses the title on the\n",
      "       Subject line and the rest of the commit in the body.\n",
      "\n",
      "       Git is to some extent character encoding agnostic.\n",
      "\n",
      "       •   The contents of the blob objects are uninterpreted sequences of\n",
      "           bytes. There is no encoding translation at the core level.\n",
      "\n",
      "       •   Path names are encoded in UTF-8 normalization form C. This applies\n",
      "           to tree objects, the index file, ref names, as well as path names\n",
      "           in command line arguments, environment variables and config files\n",
      "           (.git/config (see git-config(1)), gitignore(5), gitattributes(5)\n",
      "           and gitmodules(5)).\n",
      "\n",
      "           Note that Git at the core level treats path names simply as\n",
      "           sequences of non-NUL bytes, there are no path name encoding\n",
      "           conversions (except on Mac and Windows). Therefore, using non-ASCII\n",
      "           path names will mostly work even on platforms and file systems that\n",
      "           use legacy extended ASCII encodings. However, repositories created\n",
      "           on such systems will not work properly on UTF-8-based systems (e.g.\n",
      "           Linux, Mac, Windows) and vice versa. Additionally, many Git-based\n",
      "           tools simply assume path names to be UTF-8 and will fail to display\n",
      "           other encodings correctly.\n",
      "\n",
      "       •   Commit log messages are typically encoded in UTF-8, but other\n",
      "           extended ASCII encodings are also supported. This includes\n",
      "           ISO-8859-x, CP125x and many others, but not UTF-16/32, EBCDIC and\n",
      "           CJK multi-byte encodings (GBK, Shift-JIS, Big5, EUC-x, CP9xx etc.).\n",
      "\n",
      "       Although we encourage that the commit log messages are encoded in\n",
      "       UTF-8, both the core and Git Porcelain are designed not to force UTF-8\n",
      "       on projects. If all participants of a particular project find it more\n",
      "       convenient to use legacy encodings, Git does not forbid it. However,\n",
      "       there are a few things to keep in mind.\n",
      "\n",
      "        1. git commit and git commit-tree issues a warning if the commit log\n",
      "           message given to it does not look like a valid UTF-8 string, unless\n",
      "           you explicitly say your project uses a legacy encoding. The way to\n",
      "           say this is to have i18n.commitencoding in .git/config file, like\n",
      "           this:\n",
      "\n",
      "               [i18n]\n",
      "                       commitEncoding = ISO-8859-1\n",
      "\n",
      "           Commit objects created with the above setting record the value of\n",
      "           i18n.commitEncoding in its encoding header. This is to help other\n",
      "           people who look at them later. Lack of this header implies that the\n",
      "           commit log message is encoded in UTF-8.\n",
      "\n",
      "        2. git log, git show, git blame and friends look at the encoding\n",
      "           header of a commit object, and try to re-code the log message into\n",
      "           UTF-8 unless otherwise specified. You can specify the desired\n",
      "           output encoding with i18n.logOutputEncoding in .git/config file,\n",
      "           like this:\n",
      "\n",
      "               [i18n]\n",
      "                       logOutputEncoding = ISO-8859-1\n",
      "\n",
      "           If you do not have this configuration variable, the value of\n"
     ]
    },
    {
     "name": "stdout",
     "output_type": "stream",
     "text": [
      "           i18n.commitEncoding is used instead.\n",
      "\n",
      "       Note that we deliberately chose not to re-code the commit log message\n",
      "       when a commit is made to force UTF-8 at the commit object level,\n",
      "       because re-coding to UTF-8 is not necessarily a reversible operation.\n",
      "\n",
      "ENVIRONMENT AND CONFIGURATION VARIABLES\n",
      "       The editor used to edit the commit log message will be chosen from the\n",
      "       GIT_EDITOR environment variable, the core.editor configuration\n",
      "       variable, the VISUAL environment variable, or the EDITOR environment\n",
      "       variable (in that order). See git-var(1) for details.\n",
      "\n",
      "HOOKS\n",
      "       This command can run commit-msg, prepare-commit-msg, pre-commit,\n",
      "       post-commit and post-rewrite hooks. See githooks(5) for more\n",
      "       information.\n",
      "\n",
      "FILES\n",
      "       $GIT_DIR/COMMIT_EDITMSG\n",
      "           This file contains the commit message of a commit in progress. If\n",
      "           git commit exits due to an error before creating a commit, any\n",
      "           commit message that has been provided by the user (e.g., in an\n",
      "           editor session) will be available in this file, but will be\n",
      "           overwritten by the next invocation of git commit.\n",
      "\n",
      "SEE ALSO\n",
      "       git-add(1), git-rm(1), git-mv(1), git-merge(1), git-commit-tree(1)\n",
      "\n",
      "GIT\n",
      "       Part of the git(1) suite\n",
      "\n",
      "Git 2.28.0                        07/27/2020                     GIT-COMMIT(1)\n"
     ]
    }
   ],
   "source": [
    "man git-commit"
   ]
  },
  {
   "cell_type": "markdown",
   "metadata": {},
   "source": [
    "<br>"
   ]
  },
  {
   "cell_type": "markdown",
   "metadata": {
    "slideshow": {
     "slide_type": "subslide"
    }
   },
   "source": [
    "<span class=\"header\">Documentation</span>\n",
    "\n",
    "### Command options\n",
    "<br>\n",
    "\n",
    "To get a list of the **options** for a command, run:<br><br>\n",
    "```bash\n",
    "git <command> -h\n",
    "```"
   ]
  },
  {
   "cell_type": "markdown",
   "metadata": {
    "cell_style": "center",
    "slideshow": {
     "slide_type": "subslide"
    }
   },
   "source": [
    "<span class=\"header\">Documentation</span>\n",
    "<br>\n",
    "\n",
    "*Example:*"
   ]
  },
  {
   "cell_type": "code",
   "execution_count": 19,
   "metadata": {},
   "outputs": [
    {
     "name": "stdout",
     "output_type": "stream",
     "text": [
      "usage: git commit [<options>] [--] <pathspec>...\n",
      "\n",
      "    -q, --quiet           suppress summary after successful commit\n",
      "    -v, --verbose         show diff in commit message template\n",
      "\n",
      "Commit message options\n",
      "    -F, --file <file>     read message from file\n",
      "    --author <author>     override author for commit\n",
      "    --date <date>         override date for commit\n",
      "    -m, --message <message>\n",
      "                          commit message\n",
      "    -c, --reedit-message <commit>\n",
      "                          reuse and edit message from specified commit\n",
      "    -C, --reuse-message <commit>\n",
      "                          reuse message from specified commit\n",
      "    --fixup <commit>      use autosquash formatted message to fixup specified commit\n",
      "    --squash <commit>     use autosquash formatted message to squash specified commit\n",
      "    --reset-author        the commit is authored by me now (used with -C/-c/--amend)\n",
      "    -s, --signoff         add Signed-off-by:\n",
      "    -t, --template <file>\n",
      "                          use specified template file\n",
      "    -e, --edit            force edit of commit\n",
      "    --cleanup <mode>      how to strip spaces and #comments from message\n",
      "    --status              include status in commit message template\n",
      "    -S, --gpg-sign[=<key-id>]\n",
      "                          GPG sign commit\n",
      "\n",
      "Commit contents options\n",
      "    -a, --all             commit all changed files\n",
      "    -i, --include         add specified files to index for commit\n",
      "    --interactive         interactively add files\n",
      "    -p, --patch           interactively add changes\n",
      "    -o, --only            commit only specified files\n",
      "    -n, --no-verify       bypass pre-commit and commit-msg hooks\n",
      "    --dry-run             show what would be committed\n",
      "    --short               show status concisely\n",
      "    --branch              show branch information\n",
      "    --ahead-behind        compute full ahead/behind values\n",
      "    --porcelain           machine-readable output\n",
      "    --long                show status in long format (default)\n",
      "    -z, --null            terminate entries with NUL\n",
      "    --amend               amend previous commit\n",
      "    --no-post-rewrite     bypass post-rewrite hook\n",
      "    -u, --untracked-files[=<mode>]\n",
      "                          show untracked files, optional modes: all, normal, no. (Default: all)\n",
      "    --pathspec-from-file <file>\n",
      "                          read pathspec from file\n",
      "    --pathspec-file-nul   with --pathspec-from-file, pathspec elements are separated with NUL character\n",
      "\n"
     ]
    },
    {
     "ename": "",
     "evalue": "129",
     "output_type": "error",
     "traceback": []
    }
   ],
   "source": [
    "git commit -h"
   ]
  },
  {
   "cell_type": "markdown",
   "metadata": {},
   "source": [
    "<br>"
   ]
  },
  {
   "cell_type": "markdown",
   "metadata": {
    "slideshow": {
     "slide_type": "subslide"
    }
   },
   "source": [
    "<span class=\"header\">Documentation</span>\n",
    "<br><br>\n",
    "\n",
    "### Resources\n",
    "<br>\n",
    "\n",
    "<a href=\"https://git-scm.com/docs\">Official Git manual</a><br>\n",
    "<a href=\"http://swcarpentry.github.io/git-novice/\">Git Software Carpentry lesson</a><br>\n",
    "<a href=\"https://www.atlassian.com/git/tutorials/setting-up-a-repository\">Git tutorial by Atlassian</a><br>\n",
    "[WestGrid Summer School 2020 Git course](https://wgschool.netlify.app/git/)<br>\n",
    "[WestGrid workshop \"Collaborating through GitHub\"](https://westgrid-cli.netlify.app/workshops/github-colab/)<br>\n",
    "[WestGrid workshop \"Contributing to GitHub projects\"](https://westgrid-cli.netlify.app/workshops/github-contrib/)"
   ]
  },
  {
   "cell_type": "markdown",
   "metadata": {
    "cell_style": "split",
    "slideshow": {
     "slide_type": "slide"
    }
   },
   "source": [
    "<br><br><br><br><br><br>  \n",
    "## Troubleshooting & getting help"
   ]
  },
  {
   "cell_type": "markdown",
   "metadata": {
    "cell_style": "split",
    "slideshow": {
     "slide_type": "-"
    }
   },
   "source": [
    "<br>\n",
    "<figure style=\"display: table; margin: 0 auto; padding: 2vmin 0 0 0\">\n",
    "  <center>\n",
    "    <img src=\"https://imgs.xkcd.com/comics/git.png\" title=\"\" width=\"500vmin\" style=\"padding: 2vmin 0 0 0\">\n",
    "  </center>\n",
    "  <div align=\"right\" style=\"color: #978282; line-height: 0; font-size: 2vmin\">\n",
    "    <em>\n",
    "      from <a href=\"https://xkcd.com/\">xkcd.com</a>\n",
    "    </em>\n",
    "  </div>\n",
    "</figure>"
   ]
  },
  {
   "cell_type": "markdown",
   "metadata": {
    "slideshow": {
     "slide_type": "subslide"
    }
   },
   "source": [
    "<span class=\"header\">Troubleshooting and getting help</span>\n",
    "\n",
    "### <div style=\"padding: 8vmin 0 0 0\">\"Listen\" to Git!</div>\n",
    "<br>\n",
    "\n",
    "Git is extremely verbose: by default, it will return lots of information. Read it!\n",
    "\n",
    "These messages may feel overwhelming at first, but:\n",
    "- they will make more and more sense as you gain expertise\n",
    "- they often give you clues as to what the problem is\n",
    "- even if you don't understand them, you can use them as Google search terms"
   ]
  },
  {
   "cell_type": "markdown",
   "metadata": {
    "slideshow": {
     "slide_type": "subslide"
    }
   },
   "source": [
    "<span class=\"header\">Troubleshooting and getting help</span>\n",
    "\n",
    "### (Re-read) the doc\n",
    "<br>\n",
    "\n",
    "As I have no memory, I need to check the man pages all the time. That's ok! It is quick and easy.\n",
    "\n",
    "For more detailed information and examples, I really like the <a href=\"https://git-scm.com/docs\">Official Git manual.</a><br>"
   ]
  },
  {
   "cell_type": "markdown",
   "metadata": {
    "slideshow": {
     "slide_type": "subslide"
    }
   },
   "source": [
    "<span class=\"header\">Troubleshooting and getting help</span>\n",
    "\n",
    "### Search online\n",
    "<br>\n",
    "\n",
    "- Google\n",
    "- [WestGrid workshop: \"Collaborating through GitHub\"](https://westgrid-cli.netlify.app/workshops/github-colab/)  \n",
    "- [Stack Overflow [git] tag](https://stackoverflow.com/questions/tagged/git)"
   ]
  },
  {
   "cell_type": "markdown",
   "metadata": {
    "cell_style": "split",
    "slideshow": {
     "slide_type": "subslide"
    }
   },
   "source": [
    "<span class=\"header\">Troubleshooting and getting help</span>\n",
    "\n",
    "### <div style=\"padding: 2.5vmin\">Don't panic<br>Be analytical</div>\n",
    "\n",
    "It is easy to panic and feel lost if something doesn't work as expected.\n",
    "\n",
    "Take a breath and start with the basis:\n",
    "\n",
    "- make sure you are in the repo (`pwd`) and the files are where you think they are (`ls -a`)\n",
    "- inspect the repository (`git status`, `git diff`, `git log`). Make sure not to overlook what Git is \"telling\" you there\n",
    "\n",
    "Commit and push often to be safe."
   ]
  },
  {
   "cell_type": "markdown",
   "metadata": {
    "cell_style": "split",
    "slideshow": {
     "slide_type": "-"
    }
   },
   "source": [
    "<br><br><br>\n",
    "<figure style=\"display: table; margin: 0 auto\">\n",
    "  <center>\n",
    "    <img src=\"gitout.png\" title=\"\" width=\"400vmin\" style=\"padding: 2vmin 0 0 0\">\n",
    "  </center>\n",
    "  <div align=\"right\" style=\"color: #978282; line-height: 0; font-size: 2vmin\">\n",
    "    <em>\n",
    "      from <a href=\"https://www.redbubble.com/people/jscript/shop#profile\">jscript</a>\n",
    "    </em>\n",
    "  </div>\n",
    "</figure>"
   ]
  },
  {
   "cell_type": "markdown",
   "metadata": {
    "cell_style": "center",
    "slideshow": {
     "slide_type": "slide"
    }
   },
   "source": [
    "## <a href=\"https://westgrid-webinars.netlify.app/git_basics/#/1\" target=\"_blank\">Understanding the core concepts of repositories</a>"
   ]
  },
  {
   "cell_type": "markdown",
   "metadata": {
    "cell_style": "center",
    "slideshow": {
     "slide_type": "slide"
    }
   },
   "source": [
    "## Let's start a project and record its history"
   ]
  },
  {
   "cell_type": "markdown",
   "metadata": {
    "slideshow": {
     "slide_type": "subslide"
    }
   },
   "source": [
    "<span class=\"header\">Let's start a project and record its history</span>\n",
    "\n",
    "### Create the project root\n",
    "\n",
    "1. Navigate to the location where you want to create your project.\n",
    "2. Create a new directory with the name of your project.  \n",
    "<font color=\"#e67300\">**Never use spaces in names and paths.**</font>"
   ]
  },
  {
   "cell_type": "code",
   "execution_count": 12,
   "metadata": {},
   "outputs": [
    {
     "name": "stdout",
     "output_type": "stream",
     "text": [
      "/home/marie/parvus/ptmp/ocean_temp\n"
     ]
    }
   ],
   "source": [
    "pwd"
   ]
  },
  {
   "cell_type": "code",
   "execution_count": 13,
   "metadata": {},
   "outputs": [],
   "source": [
    "cd ~/parvus/ptmp"
   ]
  },
  {
   "cell_type": "code",
   "execution_count": 14,
   "metadata": {},
   "outputs": [
    {
     "name": "stdout",
     "output_type": "stream",
     "text": [
      "/home/marie/parvus/ptmp\n"
     ]
    }
   ],
   "source": [
    "pwd"
   ]
  },
  {
   "cell_type": "code",
   "execution_count": 15,
   "metadata": {},
   "outputs": [
    {
     "name": "stdout",
     "output_type": "stream",
     "text": [
      "\u001b[0m\u001b[01;34mcontent\u001b[0m  \u001b[01;34mcorrupt_files\u001b[0m  \u001b[01;34mdl\u001b[0m  \u001b[01;34mredarc\u001b[0m  single.html  \u001b[01;34msort\u001b[0m  test_shortcode.html\n"
     ]
    }
   ],
   "source": [
    "ls"
   ]
  },
  {
   "cell_type": "code",
   "execution_count": 16,
   "metadata": {},
   "outputs": [],
   "source": [
    "mkdir ocean_temp"
   ]
  },
  {
   "cell_type": "code",
   "execution_count": 17,
   "metadata": {},
   "outputs": [
    {
     "name": "stdout",
     "output_type": "stream",
     "text": [
      "\u001b[0m\u001b[01;34mcontent\u001b[0m        \u001b[01;34mdl\u001b[0m          \u001b[01;34mredarc\u001b[0m       \u001b[01;34msort\u001b[0m\n",
      "\u001b[01;34mcorrupt_files\u001b[0m  \u001b[01;34mocean_temp\u001b[0m  single.html  test_shortcode.html\n"
     ]
    }
   ],
   "source": [
    "ls"
   ]
  },
  {
   "cell_type": "markdown",
   "metadata": {},
   "source": [
    "<br>"
   ]
  },
  {
   "cell_type": "markdown",
   "metadata": {
    "slideshow": {
     "slide_type": "subslide"
    }
   },
   "source": [
    "<span class=\"header\">Let's start a project and record its history</span>\n",
    "\n",
    "### Put the project under version control\n",
    "<br>\n",
    "\n",
    "<font color=\"#e67300\">**Make sure to enter your new directory before initializing version control.**</font><br>\n",
    "A classic mistake leading to lots of confusion is to run `git init` outside the root of the project."
   ]
  },
  {
   "cell_type": "code",
   "execution_count": 20,
   "metadata": {},
   "outputs": [
    {
     "name": "stdout",
     "output_type": "stream",
     "text": [
      "/home/marie/parvus/ptmp\n"
     ]
    }
   ],
   "source": [
    "pwd"
   ]
  },
  {
   "cell_type": "code",
   "execution_count": 21,
   "metadata": {},
   "outputs": [],
   "source": [
    "cd ocean_temp"
   ]
  },
  {
   "cell_type": "code",
   "execution_count": 22,
   "metadata": {},
   "outputs": [
    {
     "name": "stdout",
     "output_type": "stream",
     "text": [
      "/home/marie/parvus/ptmp/ocean_temp\n"
     ]
    }
   ],
   "source": [
    "pwd"
   ]
  },
  {
   "cell_type": "code",
   "execution_count": 23,
   "metadata": {},
   "outputs": [
    {
     "name": "stdout",
     "output_type": "stream",
     "text": [
      "\u001b[0m\u001b[01;34m.\u001b[0m  \u001b[01;34m..\u001b[0m\n"
     ]
    }
   ],
   "source": [
    "ls -a"
   ]
  },
  {
   "cell_type": "code",
   "execution_count": 24,
   "metadata": {},
   "outputs": [
    {
     "name": "stdout",
     "output_type": "stream",
     "text": [
      "Initialized empty Git repository in /home/marie/parvus/ptmp/ocean_temp/.git/\n"
     ]
    }
   ],
   "source": [
    "git init"
   ]
  },
  {
   "cell_type": "code",
   "execution_count": 25,
   "metadata": {},
   "outputs": [
    {
     "name": "stdout",
     "output_type": "stream",
     "text": [
      "\u001b[0m\u001b[01;34m.\u001b[0m  \u001b[01;34m..\u001b[0m  \u001b[01;34m.git\u001b[0m\n"
     ]
    }
   ],
   "source": [
    "ls -a"
   ]
  },
  {
   "cell_type": "code",
   "execution_count": 27,
   "metadata": {},
   "outputs": [
    {
     "name": "stdout",
     "output_type": "stream",
     "text": [
      "\u001b[0m\u001b[01;34m.\u001b[0m  \u001b[01;34m..\u001b[0m  HEAD  \u001b[01;34mbranches\u001b[0m  config  description  \u001b[01;34mhooks\u001b[0m  \u001b[01;34minfo\u001b[0m  \u001b[01;34mobjects\u001b[0m  \u001b[01;34mrefs\u001b[0m\n"
     ]
    }
   ],
   "source": [
    "ls -a .git"
   ]
  },
  {
   "cell_type": "markdown",
   "metadata": {},
   "source": [
    "<br>"
   ]
  },
  {
   "cell_type": "markdown",
   "metadata": {
    "slideshow": {
     "slide_type": "subslide"
    }
   },
   "source": [
    "<span class=\"header\">Let's start a project and record its history</span>\n",
    "\n",
    "### Create a sensible project structure and add some files\n",
    "<br>\n",
    "\n",
    "Git—which is such a powerful tool—works on text files.  \n",
    "If you write your manuscript as a text file (e.g. `.org`, `.md`, `.Rmd`, `.txt`, `.ipynb`) rather than a MS Word or LibreOffice Writer file, you can put it under version control.  \n",
    "This has countless advantages, from easy versioning to easy collaboration."
   ]
  },
  {
   "cell_type": "code",
   "execution_count": null,
   "metadata": {},
   "outputs": [],
   "source": [
    "mkdir src result ms data"
   ]
  },
  {
   "cell_type": "code",
   "execution_count": 9,
   "metadata": {},
   "outputs": [],
   "source": [
    "echo \"import numpy as np\n",
    "\n",
    "years = list(range(2001, 2020))\" > src/enso_model.py"
   ]
  },
  {
   "cell_type": "code",
   "execution_count": 11,
   "metadata": {},
   "outputs": [],
   "source": [
    "echo \"# Effect of Enso on SST in the North Pacific between the years 2001 and 2020\n",
    "\n",
    "## Introduction\n",
    "\n",
    "## Methods\n",
    "\n",
    "## Results\n",
    "\n",
    "## Conclusion\" > ms/enso_effect.md"
   ]
  },
  {
   "cell_type": "markdown",
   "metadata": {},
   "source": [
    "<br>"
   ]
  },
  {
   "cell_type": "markdown",
   "metadata": {
    "slideshow": {
     "slide_type": "subslide"
    }
   },
   "source": [
    "<span class=\"header\">Let's start a project and record its history</span>\n",
    "\n",
    "### Inspect the repository and create a first snapshot (the initial commit)\n",
    "<br>"
   ]
  },
  {
   "cell_type": "code",
   "execution_count": 14,
   "metadata": {},
   "outputs": [
    {
     "name": "stdout",
     "output_type": "stream",
     "text": [
      "On branch \u001b[1;33mmaster\u001b[m\n",
      "\n",
      "No commits yet\n",
      "\n",
      "Untracked files:\n",
      "  (use \"git add <file>...\" to include in what will be committed)\n",
      "\t\u001b[31mms/\u001b[m\n",
      "\t\u001b[31msrc/\u001b[m\n",
      "\n",
      "nothing added to commit but untracked files present (use \"git add\" to track)\n"
     ]
    }
   ],
   "source": [
    "git status"
   ]
  },
  {
   "cell_type": "code",
   "execution_count": 7,
   "metadata": {},
   "outputs": [],
   "source": [
    "git add ."
   ]
  },
  {
   "cell_type": "code",
   "execution_count": 8,
   "metadata": {},
   "outputs": [
    {
     "name": "stdout",
     "output_type": "stream",
     "text": [
      "On branch \u001b[1;33mmaster\u001b[m\n",
      "\n",
      "No commits yet\n",
      "\n",
      "Changes to be committed:\n",
      "  (use \"git rm --cached <file>...\" to unstage)\n",
      "\t\u001b[32mnew file:   ms/enso_effect.md\u001b[m\n",
      "\t\u001b[32mnew file:   src/enso_model.py\u001b[m\n",
      "\n"
     ]
    }
   ],
   "source": [
    "git status"
   ]
  },
  {
   "cell_type": "code",
   "execution_count": 9,
   "metadata": {},
   "outputs": [
    {
     "name": "stdout",
     "output_type": "stream",
     "text": [
      "[master (root-commit) 15eb081] Initial commit\n",
      " 2 files changed, 12 insertions(+)\n",
      " create mode 100644 ms/enso_effect.md\n",
      " create mode 100644 src/enso_model.py\n"
     ]
    }
   ],
   "source": [
    "git commit -m \"Initial commit\""
   ]
  },
  {
   "cell_type": "code",
   "execution_count": 10,
   "metadata": {},
   "outputs": [
    {
     "name": "stdout",
     "output_type": "stream",
     "text": [
      "On branch \u001b[1;33mmaster\u001b[m\n",
      "nothing to commit, working tree clean\n"
     ]
    }
   ],
   "source": [
    "git status"
   ]
  },
  {
   "cell_type": "markdown",
   "metadata": {},
   "source": [
    "<br>"
   ]
  },
  {
   "cell_type": "markdown",
   "metadata": {
    "slideshow": {
     "slide_type": "subslide"
    }
   },
   "source": [
    "<span class=\"header\">Let's start a project and record its history</span>\n",
    "\n",
    "### SHA-1 checksum\n",
    "<br>\n",
    "\n",
    "Each commit is identified by a unique 40-character SHA-1 checksum. People usually refer to it as a “hash”.\n",
    "\n",
    "The short form of a hash only contains the first 7 characters, which is generally sufficient to identify a commit.\n",
    "\n",
    "After you committed, Git gave you the short form of the hash of your first commit."
   ]
  },
  {
   "cell_type": "markdown",
   "metadata": {
    "cell_style": "split",
    "slideshow": {
     "slide_type": "subslide"
    }
   },
   "source": [
    "<span class=\"header\">Let's start a project and record its history</span><br><br>\n",
    "\n",
    "### On writing good commit messages\n",
    "<br>\n",
    "\n",
    "<figure style=\"display: table; margin: 0 auto\">\n",
    "  <center>\n",
    "    <img src=\"https://imgs.xkcd.com/comics/git_commit.png\" title=\"\" width=\"700vmin\" style=\"padding: 2vmin 0 0 0\">\n",
    "  </center>\n",
    "  <div align=\"right\" style=\"color: #978282; line-height: 0; font-size: 2vmin\">\n",
    "    <em>\n",
    "      from <a href=\"https://xkcd.com/\">xkcd.com</a>\n",
    "    </em>\n",
    "  </div>\n",
    "</figure>"
   ]
  },
  {
   "cell_type": "markdown",
   "metadata": {
    "cell_style": "split",
    "slideshow": {
     "slide_type": "fragment"
    }
   },
   "source": [
    "<br><br><br>\n",
    "\n",
    "- Use the present tense\n",
    "\n",
    "- The first line is a summary of the commit and is less than 50 characters long\n",
    "\n",
    "- Leave a blank line below\n",
    "\n",
    "- Then add the body of your commit message with more details"
   ]
  },
  {
   "cell_type": "markdown",
   "metadata": {
    "cell_style": "split",
    "slideshow": {
     "slide_type": "subslide"
    }
   },
   "source": [
    "<br>\n",
    "<div style=\"line-height: 10vmin\">\n",
    "    <br>\n",
    "</div>\n",
    "\n",
    "- Use the present tense\n",
    "\n",
    "- The first line is a summary of the commit and is less than 50 characters long\n",
    "\n",
    "- Leave a blank line below\n",
    "\n",
    "- Then add the body of your commit message with more details"
   ]
  },
  {
   "cell_type": "markdown",
   "metadata": {
    "cell_style": "split",
    "slideshow": {
     "slide_type": "-"
    }
   },
   "source": [
    "<span class=\"header\">Let's start a project and record its history</span><br><br>\n",
    "\n",
    "*Example of a good commit message:*\n",
    "\n",
    "```sh\n",
    "git commit -m \"Reduce boundary conditions by a factor of 0.3\n",
    "\n",
    "Update boundaries\n",
    "Rerun model and update table\n",
    "Rephrase method section in ms\"\n",
    "```"
   ]
  },
  {
   "cell_type": "markdown",
   "metadata": {
    "slideshow": {
     "slide_type": "subslide"
    }
   },
   "source": [
    "<span class=\"header\">Let's start a project and record its history</span>\n",
    "\n",
    "### .gitignore file\n",
    "<br>\n",
    "\n",
    "There are files you really **should** put under version control, but there are files you shouldn't."
   ]
  },
  {
   "cell_type": "markdown",
   "metadata": {
    "cell_style": "split",
    "slideshow": {
     "slide_type": "fragment"
    }
   },
   "source": [
    "#### Put under vc\n",
    "\n",
    "- Scripts\n",
    "- Manuscripts and notes\n",
    "- Makefile and the like"
   ]
  },
  {
   "cell_type": "markdown",
   "metadata": {
    "cell_style": "split",
    "slideshow": {
     "slide_type": "fragment"
    }
   },
   "source": [
    "#### Do **not** put under vc\n",
    "\n",
    "- Anything that is not text (e.g. images, Office files)\n",
    "- Outputs: graphs and results resulting from running scripts or pdf and html rendered from markdown or LaTeX files. In short, anything that can be recreated simply by running code."
   ]
  },
  {
   "cell_type": "markdown",
   "metadata": {
    "slideshow": {
     "slide_type": "subslide"
    }
   },
   "source": [
    "<span class=\"header\">Let's start a project and record its history</span>\n",
    "\n",
    "### .gitignore file\n",
    "<br>\n",
    "\n",
    "You want to have a clean working directory, so you need to tell Git to ignore those files.\n",
    "\n",
    "You do this by adding them to a file that you create in the root of the project called `.gitignore`."
   ]
  },
  {
   "cell_type": "markdown",
   "metadata": {
    "slideshow": {
     "slide_type": "fragment"
    }
   },
   "source": [
    "*Example:*\n",
    "<br><br>\n",
    "```sh\n",
    "echo /result/ > .gitignore\n",
    "```"
   ]
  },
  {
   "cell_type": "markdown",
   "metadata": {
    "slideshow": {
     "slide_type": "subslide"
    }
   },
   "source": [
    "<span class=\"header\">Let's start a project and record its history</span>\n",
    "\n",
    "### .gitignore rules\n",
    "<br>\n",
    "\n",
    "Each line in a `.gitignore` file specifies a pattern.\n",
    "\n",
    "Blank lines are ignored and can serve as separators for readability.\n",
    "\n",
    "Lines starting with `#` are comments.\n",
    "\n",
    "To add patterns starting with a special character (e.g. `#`, `!`), that character needs escaping with `\\`.\n",
    "\n",
    "Trailing spaces are ignored unless they are escaped with `\\`.\n",
    "\n",
    "`!` negates patterns (matching files excluded by previous patterns become included again). **However** it is not possible to re-include a file if one of its parent directories is excluded (Git doesn’t list excluded directories for performance reasons). One way to go around that is to force the inclusion of a file which is in an ignored directory with the option `-f`.\n",
    "\n",
    "&emsp;&emsp;&emsp; *Example: `git add -f <file>`*\n",
    "\n",
    "Patterns ending with `/` match directories. Otherwise patterns match both files and directories.\n",
    "\n",
    "`/` at the beginning or within a search pattern indicates that the pattern is relative to the directory level of the `.gitignore` file. Otherwise the pattern matches anywhere below the `.gitignore` level.\n",
    "\n",
    "&emsp;&emsp;&emsp; *Examples:*  \n",
    "*&emsp;&emsp;&emsp;&emsp;&emsp;&emsp; - `foo/bar/` matches the directory `foo/bar`, but not the directory `a/foo/bar`*  \n",
    "*&emsp;&emsp;&emsp;&emsp;&emsp;&emsp; - `bar/` matches both the directories `foo/bar` and `a/foo/bar`*\n",
    "\n",
    "`*` matches anything except `/`.\n",
    "\n",
    "`?` matches any one character except `/`.\n",
    "\n",
    "The range notation (e.g. `[a-zA-Z]`) can be used to match one of the characters in a range.\n",
    "\n",
    "A leading `**/` matches all directories.\n",
    "\n",
    "&emsp;&emsp;&emsp; *Example: `**/foo` matches file or directory `foo` anywhere. This is the same as `foo`*\n",
    "\n",
    "A trailing `/**` matches everything inside what it precedes.\n",
    "\n",
    "&emsp;&emsp;&emsp; *Example: `abc/**` matches all files (recursively) inside directory `abc`*\n",
    "\n",
    "`/**/` matches zero or more directories.\n",
    "\n",
    "&emsp;&emsp;&emsp; *Example: `a/**/b` matches `a/b`, `a/x/b`, and `a/x/y/b`*"
   ]
  },
  {
   "cell_type": "markdown",
   "metadata": {
    "slideshow": {
     "slide_type": "subslide"
    }
   },
   "source": [
    "<span class=\"header\">Let's start a project and record its history</span>\n",
    "\n",
    "### <div style=\"padding: 9vmin 0 0 0\">Let's create more complex snapshots</div>\n",
    "<br>\n",
    "\n",
    "We made our first commit with:\n",
    "<br>\n",
    "```sh\n",
    "git add .\n",
    "git commit -m \"Initial commit\"\n",
    "```\n",
    "\n",
    "`git add .` stages all new changes in the repo. While this is convenient, you seldom want to do that: chances are, you'd be committing a mixed bag of changes that aren't grouped sensibly.\n",
    "\n",
    "This creates a messy history that will be hard to navigate in the future (and will be hell for your collaborators)."
   ]
  },
  {
   "cell_type": "markdown",
   "metadata": {
    "slideshow": {
     "slide_type": "subslide"
    }
   },
   "source": [
    "<span class=\"header\">Let's start a project and record its history</span>\n",
    "\n",
    "### <div style=\"padding: 9vmin 0 0 0\">Let's create more complex snapshots</div>\n",
    "<br>\n",
    "\n",
    "What you want to do is to create commits that are meaningful.\n",
    "\n",
    "This is why Git has this 2-step process to make snapshots:\n",
    "- first you stage\n",
    "- then you commit\n",
    "\n",
    "The staging area allows you to pick and choose changes that you want to commit together."
   ]
  },
  {
   "cell_type": "markdown",
   "metadata": {
    "slideshow": {
     "slide_type": "subslide"
    }
   },
   "source": [
    "<span class=\"header\">Let's start a project and record its history</span>\n",
    "\n",
    "### <div style=\"padding: 9vmin 0 0 0\">Let's create more complex snapshots</div>\n",
    "<br>\n",
    "\n",
    "`git add <file>` allows you to only add the changes you made in `<file>` to the staging area (leaving changes to other files out of the next commit).\n",
    "\n",
    "Even better, `git add -p <file>` allows you to stage only some of the changes made in `<file>`.\n",
    "\n",
    "This gives you entire control over your recording of history."
   ]
  },
  {
   "cell_type": "markdown",
   "metadata": {
    "slideshow": {
     "slide_type": "subslide"
    }
   },
   "source": [
    "<span class=\"header\">Let's start a project and record its history</span>\n",
    "\n",
    "### <div style=\"padding: 9vmin 0 0 0\">Let's create more complex snapshots</div>\n",
    "<br>\n",
    "\n",
    "`git add -p <file>` starts an interactive staging session.\n",
    "\n",
    "For each modified section (called \"hunk\"), Git will ask you:\n",
    "\n",
    "```\n",
    "y\tyes (stage this hunk)\n",
    "n\tno (don't stage this hunk)\n",
    "a\tall (stage this hunk and all subsequent ones in this file)\n",
    "d\tdo not stage this hunk nor any of the remaining ones\n",
    "s\tsplit this hunk (if possible)\n",
    "e\tedit\n",
    "?\tprint help\n",
    "```"
   ]
  },
  {
   "cell_type": "markdown",
   "metadata": {
    "slideshow": {
     "slide_type": "subslide"
    }
   },
   "source": [
    "<span class=\"header\">Let's start a project and record its history</span>\n",
    "\n",
    "### <div style=\"padding: 9vmin 0 0 0\">Let's create more complex snapshots</div>\n",
    "<br>\n",
    "\n",
    "Let's try it:\n",
    "\n",
    "Create several files within your repo and add a few paragraphs within those files."
   ]
  },
  {
   "cell_type": "code",
   "execution_count": 14,
   "metadata": {},
   "outputs": [],
   "source": [
    "echo \"Twas brillig, and the slithy toves\n",
    "Did gyre and gimble in the wabe:\n",
    "All mimsy were the borogoves,\n",
    "And the mome raths outgrabe.\n",
    "\n",
    "Beware the Jabberwock, my son!\n",
    "The jaws that bite, the claws that catch!\n",
    "Beware the Jubjub bird, and shun\n",
    "The frumious Bandersnatch!\n",
    "\n",
    "He took his vorpal sword in hand;\n",
    "Long time the manxome foe he sought—\n",
    "So rested he by the Tumtum tree\n",
    "And stood awhile in thought.\n",
    "\n",
    "And, as in uffish thought he stood,\n",
    "The Jabberwock, with eyes of flame,\n",
    "Came whiffling through the tulgey wood,\n",
    "And burbled as it came!\n",
    "\n",
    "One, two! One, two! And through and through\n",
    "The vorpal blade went snicker-snack!\n",
    "He left it dead, and with its head\n",
    "He went galumphing back.\n",
    "\n",
    "And hast thou slain the Jabberwock?\n",
    "Come to my arms, my beamish boy!\n",
    "O frabjous day! Callooh! Callay!\n",
    "He chortled in his joy.\n",
    "\n",
    "Twas brillig, and the slithy toves\n",
    "Did gyre and gimble in the wabe:\n",
    "All mimsy were the borogoves,\n",
    "And the mome raths outgrabe.\" >> ms/enso_effect.md"
   ]
  },
  {
   "cell_type": "code",
   "execution_count": 15,
   "metadata": {},
   "outputs": [],
   "source": [
    "echo \"Twas brillig, and the slithy toves\n",
    "Did gyre and gimble in the wabe:\n",
    "All mimsy were the borogoves,\n",
    "And the mome raths outgrabe.\n",
    "\n",
    "Beware the Jabberwock, my son!\n",
    "The jaws that bite, the claws that catch!\n",
    "Beware the Jubjub bird, and shun\n",
    "The frumious Bandersnatch!\n",
    "\n",
    "He took his vorpal sword in hand;\n",
    "Long time the manxome foe he sought\n",
    "So rested he by the Tumtum tree\n",
    "And stood awhile in thought.\n",
    "\n",
    "And, as in uffish thought he stood,\n",
    "The Jabberwock, with eyes of flame,\n",
    "Came whiffling through the tulgey wood,\n",
    "And burbled as it came!\n",
    "\n",
    "One, two! One, two! And through and through\n",
    "The vorpal blade went snicker-snack!\n",
    "He left it dead, and with its head\n",
    "He went galumphing back.\n",
    "\n",
    "And hast thou slain the Jabberwock?\n",
    "Come to my arms, my beamish boy!\n",
    "O frabjous day! Callooh! Callay!\n",
    "He chortled in his joy.\n",
    "\n",
    "Twas brillig, and the slithy toves\n",
    "Did gyre and gimble in the wabe:\n",
    "All mimsy were the borogoves,\n",
    "And the mome raths outgrabe.\" > ms/acidification.md"
   ]
  },
  {
   "cell_type": "markdown",
   "metadata": {},
   "source": [
    "<br>"
   ]
  },
  {
   "cell_type": "markdown",
   "metadata": {
    "slideshow": {
     "slide_type": "subslide"
    }
   },
   "source": [
    "<span class=\"header\">Let's start a project and record its history</span>\n",
    "\n",
    "### <div style=\"padding: 9vmin 0 0 0\">Let's create more complex snapshots</div>\n",
    "<br>\n",
    "\n",
    "Now, stage some, but not all of the changes you created. Add at least one entire file and only sections of another file."
   ]
  },
  {
   "cell_type": "code",
   "execution_count": null,
   "metadata": {},
   "outputs": [],
   "source": []
  },
  {
   "cell_type": "markdown",
   "metadata": {},
   "source": [
    "<br>"
   ]
  },
  {
   "cell_type": "markdown",
   "metadata": {
    "cell_style": "center",
    "slideshow": {
     "slide_type": "slide"
    }
   },
   "source": [
    "## Exploring the past"
   ]
  },
  {
   "cell_type": "markdown",
   "metadata": {
    "slideshow": {
     "slide_type": "subslide"
    }
   },
   "source": [
    "<span class=\"header\">Exploring the past</span>\n",
    "\n",
    "### \n",
    "<br>"
   ]
  },
  {
   "cell_type": "code",
   "execution_count": null,
   "metadata": {},
   "outputs": [],
   "source": []
  },
  {
   "cell_type": "markdown",
   "metadata": {},
   "source": [
    "<br>"
   ]
  },
  {
   "cell_type": "markdown",
   "metadata": {
    "cell_style": "center",
    "slideshow": {
     "slide_type": "slide"
    }
   },
   "source": [
    "## Undoing"
   ]
  },
  {
   "cell_type": "markdown",
   "metadata": {
    "slideshow": {
     "slide_type": "subslide"
    }
   },
   "source": [
    "<span class=\"header\">Undoing</span>\n",
    "\n",
    "### \n",
    "<br>"
   ]
  },
  {
   "cell_type": "code",
   "execution_count": null,
   "metadata": {},
   "outputs": [],
   "source": []
  },
  {
   "cell_type": "markdown",
   "metadata": {},
   "source": [
    "<br>"
   ]
  },
  {
   "cell_type": "markdown",
   "metadata": {
    "cell_style": "center",
    "slideshow": {
     "slide_type": "slide"
    }
   },
   "source": [
    "## Working with branches"
   ]
  },
  {
   "cell_type": "markdown",
   "metadata": {
    "slideshow": {
     "slide_type": "subslide"
    }
   },
   "source": [
    "<span class=\"header\">Working with branches\n",
    "</span>\n",
    "\n",
    "### \n",
    "<br>"
   ]
  },
  {
   "cell_type": "code",
   "execution_count": null,
   "metadata": {},
   "outputs": [],
   "source": []
  },
  {
   "cell_type": "markdown",
   "metadata": {},
   "source": [
    "<br>"
   ]
  },
  {
   "cell_type": "markdown",
   "metadata": {
    "slideshow": {
     "slide_type": "slide"
    }
   },
   "source": [
    "git merge comic: https://imgs.xkcd.com/comics/algorithms.png"
   ]
  },
  {
   "cell_type": "markdown",
   "metadata": {
    "cell_style": "center",
    "slideshow": {
     "slide_type": "slide"
    }
   },
   "source": [
    "## Remotes"
   ]
  },
  {
   "cell_type": "markdown",
   "metadata": {
    "slideshow": {
     "slide_type": "subslide"
    }
   },
   "source": [
    "<span class=\"header\">Remotes</span>\n",
    "\n",
    "### \n",
    "<br>"
   ]
  },
  {
   "cell_type": "code",
   "execution_count": null,
   "metadata": {},
   "outputs": [],
   "source": []
  },
  {
   "cell_type": "markdown",
   "metadata": {},
   "source": [
    "<br>"
   ]
  },
  {
   "cell_type": "markdown",
   "metadata": {
    "cell_style": "split",
    "slideshow": {
     "slide_type": "slide"
    }
   },
   "source": [
    "<br><br><br><br><br><br> \n",
    "## Collaborating"
   ]
  },
  {
   "cell_type": "markdown",
   "metadata": {
    "cell_style": "split",
    "slideshow": {
     "slide_type": "-"
    }
   },
   "source": [
    "<br>\n",
    "<figure style=\"display: table; margin: 0 auto\">\n",
    "  <center>\n",
    "    <img src=\"gitpush_nw.png\" title=\"\" width=\"700vmin\" style=\"padding: 2vmin 0 0 0\">\n",
    "  </center>\n",
    "  <div align=\"right\" style=\"color: #978282; line-height: 0; font-size: 2vmin\">\n",
    "    <em>\n",
    "      from <a href=\"https://crystallize.com/comics\">crystallize comics</a>\n",
    "    </em>\n",
    "  </div>\n",
    "</figure>"
   ]
  }
 ],
 "metadata": {
  "celltoolbar": "Slideshow",
  "kernelspec": {
   "display_name": "Bash",
   "language": "bash",
   "name": "bash"
  },
  "language_info": {
   "codemirror_mode": "shell",
   "file_extension": ".sh",
   "mimetype": "text/x-sh",
   "name": "bash"
  },
  "name": "git.ipynb",
  "rise": {
   "autolaunch": true,
   "controls": false,
   "enable_chalkboard": true,
   "overlay": "<img src='wg_white_removed_medium.png' style='position:absolute;top:1%;left:0;width:15%;'>",
   "progress": true,
   "reveal_shortcuts": {
    "chalkboard": {
     "toggleChalkboard": "ctrl-o",
     "toggleNotesCanvas": "shift-o"
    }
   },
   "scroll": true,
   "transition": "none"
  },
  "toc": {
   "base_numbering": 1,
   "nav_menu": {
    "height": "141.987px",
    "width": "251.987px"
   },
   "number_sections": false,
   "sideBar": true,
   "skip_h1_title": true,
   "title_cell": "",
   "title_sidebar": "Contents",
   "toc_cell": false,
   "toc_position": {
    "height": "212.567px",
    "left": "788.846px",
    "top": "157.536px",
    "width": "262px"
   },
   "toc_section_display": false,
   "toc_window_display": false
  }
 },
 "nbformat": 4,
 "nbformat_minor": 4
}
