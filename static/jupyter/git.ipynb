{
 "cells": [
  {
   "cell_type": "markdown",
   "metadata": {
    "slideshow": {
     "slide_type": "slide"
    }
   },
   "source": [
    "# <center><div style=\"padding: 1vmin\">Version control with<img src=\"git_logo.png\" alt=\"\" height=\"\" width=\"400vmin\" style=\"padding: 4vmin 0 4vmin 0\"></div></center>\n",
    "### Marie-Hélène Burle\n",
    "#### training@westgrid.ca\n",
    "#### *September 11, 2020*"
   ]
  },
  {
   "cell_type": "markdown",
   "metadata": {
    "cell_style": "split",
    "slideshow": {
     "slide_type": "subslide"
    }
   },
   "source": [
    "<br><br>\n",
    "\n",
    "- Why version control?\n",
    "- Git\n",
    "- Configuration\n",
    "- Documentation\n",
    "- Troubleshooting & getting help\n",
    "- Core concepts of repositories\n",
    "- Recording history\n",
    "\n",
    "&emsp;&emsp;&ensp;*Break*\n",
    "- Git refs\n",
    "- Working with branches"
   ]
  },
  {
   "cell_type": "markdown",
   "metadata": {
    "cell_style": "split",
    "slideshow": {
     "slide_type": "-"
    }
   },
   "source": [
    "<br><br>\n",
    "\n",
    "&emsp;&emsp;&ensp;*Lunch Break*\n",
    "- Exploring the past\n",
    "- Undoing\n",
    "- Rewriting history\n",
    "\n",
    "&emsp;&emsp;&ensp;*Break*\n",
    "- Remotes\n",
    "- Collaborating"
   ]
  },
  {
   "cell_type": "markdown",
   "metadata": {
    "cell_style": "split",
    "slideshow": {
     "slide_type": "slide"
    }
   },
   "source": [
    "<br><br><br><br><br><br>  \n",
    "## Why version control?"
   ]
  },
  {
   "cell_type": "markdown",
   "metadata": {
    "cell_style": "split",
    "slideshow": {
     "slide_type": "-"
    }
   },
   "source": [
    "<br>\n",
    "<figure style=\"display: table; margin: 0 auto\">\n",
    "  <center>\n",
    "    <img src=\"vc_nw.png\" title=\"\" width=\"850vmin\" style=\"padding: 4vmin 0 0 0\">\n",
    "  </center>\n",
    "  <div align=\"right\" style=\"color: #978282; line-height: 0; font-size: 2vmin\">\n",
    "    <em>\n",
    "      from <a href=\"http://geek-and-poke.com/\">Geek&Poke</a>\n",
    "    </em>\n",
    "  </div>\n",
    "</figure>"
   ]
  },
  {
   "cell_type": "markdown",
   "metadata": {
    "cell_style": "center",
    "slideshow": {
     "slide_type": "subslide"
    }
   },
   "source": [
    "<span class=\"header\">Why version control?</span><br>\n",
    "\n",
    "### A sophisticated form of backup"
   ]
  },
  {
   "cell_type": "markdown",
   "metadata": {
    "cell_style": "split",
    "slideshow": {
     "slide_type": "-"
    }
   },
   "source": [
    "<br><br>\n",
    "\n",
    "> There are two kinds of people: those who do their backups well and those who will."
   ]
  },
  {
   "cell_type": "markdown",
   "metadata": {
    "cell_style": "split",
    "slideshow": {
     "slide_type": "-"
    }
   },
   "source": [
    "<br>\n",
    "<figure style=\"display: table; margin: 0 auto\">\n",
    "  <center>\n",
    "    <img src=\"vc-xkcd.jpg\" title=\"\" width=\"1300vmin\" style=\"padding: 2vmin 0 0 0\">\n",
    "  </center>\n",
    "  <div align=\"right\" style=\"color: #978282; line-height: 0; font-size: 2vmin\">\n",
    "    <em>\n",
    "      from <a href=\"https://smutch.github.io/VersionControlTutorial/\">smutch</a>\n",
    "    </em>\n",
    "  </div>\n",
    "</figure>"
   ]
  },
  {
   "cell_type": "markdown",
   "metadata": {
    "cell_style": "split",
    "slideshow": {
     "slide_type": "subslide"
    }
   },
   "source": [
    "<span class=\"header\">Why version control?</span><br>\n",
    "<br><br><br><br><br>\n",
    "### But much more"
   ]
  },
  {
   "cell_type": "markdown",
   "metadata": {
    "cell_style": "split",
    "slideshow": {
     "slide_type": "-"
    }
   },
   "source": [
    "<br>\n",
    "<center>\n",
    "  <div style=\"padding: 5.5vmin 0 0 0\">\n",
    "    <img style=\"box-shadow: 0px 0px 6px rgba(0,0,0,0.3)\" src=\"https://phdcomics.com/comics/archive/phd101212s.gif\" title=\"\" width=\"550vmin\">\n",
    "  </div>\n",
    "</center>"
   ]
  },
  {
   "cell_type": "markdown",
   "metadata": {
    "cell_style": "center",
    "slideshow": {
     "slide_type": "slide"
    }
   },
   "source": [
    "<br>\n",
    "\n",
    "## <div style=\"padding: 7vmin 0 0 0\">Git</div>\n",
    "<br>\n",
    "\n",
    "<figure style=\"display: table; margin: 0 auto; padding: 8vmin 0 0 0\">\n",
    "  <center>\n",
    "    <img src=\"legend_nw.png\" title=\"\" width=\"800vmin\">\n",
    "    <img src=\"git_nw.png\" title=\"\" width=\"1300vmin\">\n",
    "  </center>\n",
    "  <div align=\"right\" style=\"color: #978282; line-height: 0; font-size: 2vmin\">\n",
    "    <em>\n",
    "      from <a href=\"https://trends.google.com/trends/\">Google Trends</a>\n",
    "    </em>\n",
    "  </div>\n",
    "</figure>"
   ]
  },
  {
   "cell_type": "markdown",
   "metadata": {
    "slideshow": {
     "slide_type": "subslide"
    }
   },
   "source": [
    "<span class=\"header\">Git</span>\n",
    "<br>\n",
    "\n",
    "Git is an open source distributed version control system (DVCS) created in 2005 by Linus Torvalds for the versioning of the Linux kernel during its development.\n",
    "<br><br><br>\n",
    "In distributed version control systems, the full history of projects lives on everybody's machine—as opposed to being only stored on a central server as was the case with centralized version control systems CVCS. This allows offline work, huge speedups, easy branching, and multiple backups. DVCS have taken over CVCS.\n",
    "<br><br><br>\n",
    "Git is extremely powerful and has strong branching capabilities. Since the early 2010s, it has become the most popular DVCS, increasingly rendering other systems quite marginal.\n"
   ]
  },
  {
   "cell_type": "markdown",
   "metadata": {
    "slideshow": {
     "slide_type": "subslide"
    }
   },
   "source": [
    "<span class=\"header\">Git</span>\n",
    "<br>\n",
    "All commands start with `git`.\n",
    "<br><br>\n",
    "A typical command is of the form:\n",
    "<br>\n",
    "```sh\n",
    "git <command> [flags] [arguments]\n",
    "```"
   ]
  },
  {
   "cell_type": "markdown",
   "metadata": {
    "slideshow": {
     "slide_type": "fragment"
    }
   },
   "source": [
    "*Example:*\n",
    "\n",
    "We already saw the following:\n",
    "\n",
    "```sh\n",
    "git config --global \"Your Name\"\n",
    "```"
   ]
  },
  {
   "cell_type": "markdown",
   "metadata": {
    "slideshow": {
     "slide_type": "slide"
    }
   },
   "source": [
    "## Configuration"
   ]
  },
  {
   "cell_type": "markdown",
   "metadata": {
    "slideshow": {
     "slide_type": "subslide"
    }
   },
   "source": [
    "<span class=\"header\">Configuration</span>\n",
    "\n",
    "### Global configuration\n",
    "<br>\n",
    "\n",
    "From anywhere, with the `--global` flag.\n",
    "<br><br>\n",
    "There are a number of configurations necessary to set before starting to use Git."
   ]
  },
  {
   "cell_type": "markdown",
   "metadata": {
    "slideshow": {
     "slide_type": "subslide"
    }
   },
   "source": [
    "<span class=\"header\">Configuration</span>\n",
    "<br>\n",
    "\n",
    "### Global configuration\n",
    "<br>\n",
    "\n",
    "Set the name and email address that will appear as signature of your commits:\n",
    "<br><br>\n",
    "```sh\n",
    "git config --global user.name \"Your Name\"\n",
    "git config --global user.email \"your@email\"\n",
    "```"
   ]
  },
  {
   "cell_type": "markdown",
   "metadata": {
    "slideshow": {
     "slide_type": "subslide"
    }
   },
   "source": [
    "<span class=\"header\">Configuration</span>\n",
    "<br>\n",
    "\n",
    "### Global configuration\n",
    "<br>\n",
    "\n",
    "Set the text editor you want to use with Git:\n",
    "<br><br>\n",
    "```sh\n",
    "git config --global core.editor \"editor\"  # e.g. \"nano\", \"vim\", \"emacs\"\n",
    "```"
   ]
  },
  {
   "cell_type": "markdown",
   "metadata": {
    "slideshow": {
     "slide_type": "subslide"
    }
   },
   "source": [
    "<span class=\"header\">Configuration</span>\n",
    "<br>\n",
    "\n",
    "### Global configuration\n",
    "<br>\n",
    "\n",
    "Format line endings properly:\n",
    "<br><br>\n",
    "```sh\n",
    "git config --global core.autocrlf input   # if you are on macOS or Linux\n",
    "git config --global core.autocrlf true    # if you are on Windows\n",
    "```"
   ]
  },
  {
   "cell_type": "markdown",
   "metadata": {
    "slideshow": {
     "slide_type": "subslide"
    }
   },
   "source": [
    "<span class=\"header\">Configuration</span>\n",
    "<br>\n",
    "\n",
    "### Global configuration\n",
    "<br>\n",
    "\n",
    "To see your current configuration:\n",
    "<br><br>\n",
    "```sh\n",
    "git config --list\n",
    "```"
   ]
  },
  {
   "cell_type": "markdown",
   "metadata": {
    "slideshow": {
     "slide_type": "fragment"
    }
   },
   "source": [
    "*Example:*"
   ]
  },
  {
   "cell_type": "code",
   "execution_count": null,
   "metadata": {
    "slideshow": {
     "slide_type": "-"
    }
   },
   "outputs": [],
   "source": [
    "git config --list"
   ]
  },
  {
   "cell_type": "markdown",
   "metadata": {},
   "source": [
    "<br>"
   ]
  },
  {
   "cell_type": "markdown",
   "metadata": {
    "slideshow": {
     "slide_type": "subslide"
    }
   },
   "source": [
    "<span class=\"header\">Configuration</span>\n",
    "<br>\n",
    "\n",
    "### Project-specific configuration\n",
    "<br>\n",
    "\n",
    "You can set configurations specific to a single repository (e.g. maybe you want to use a different email address for a certain project).\n",
    "\n",
    "In that case, **make sure that you are in the repository you want to customize** and run the command without the `--global` flag.\n",
    "\n",
    "*Example:*\n",
    "\n",
    "```sh\n",
    "cd /path/to/project\n",
    "git config user.email \"your_other@email\"\n",
    "```"
   ]
  },
  {
   "cell_type": "markdown",
   "metadata": {
    "slideshow": {
     "slide_type": "slide"
    }
   },
   "source": [
    "## Documentation"
   ]
  },
  {
   "cell_type": "markdown",
   "metadata": {
    "slideshow": {
     "slide_type": "subslide"
    }
   },
   "source": [
    "<span class=\"header\">Documentation</span>\n",
    "\n",
    "### Man pages\n",
    "<br><br>\n",
    "You can access the **man page** for a git command with either of:\n",
    "```bash\n",
    "git <command> --help\n",
    "git help <command>\n",
    "man git-<command>\n",
    "```\n",
    "<br>\n",
    "\n",
    "*Note:  \n",
    "Throughout this workshop, I will be using `<` and `>` to indicate that an expression needs to be replaced by the appropriate expression (without those signs).*"
   ]
  },
  {
   "cell_type": "markdown",
   "metadata": {
    "cell_style": "center",
    "slideshow": {
     "slide_type": "subslide"
    }
   },
   "source": [
    "<span class=\"header\">Documentation</span>\n",
    "\n",
    "### Man pages\n",
    "\n",
    "*Example:*"
   ]
  },
  {
   "cell_type": "code",
   "execution_count": null,
   "metadata": {},
   "outputs": [],
   "source": [
    "man git-commit"
   ]
  },
  {
   "cell_type": "markdown",
   "metadata": {},
   "source": [
    "<br>"
   ]
  },
  {
   "cell_type": "markdown",
   "metadata": {
    "slideshow": {
     "slide_type": "subslide"
    }
   },
   "source": [
    "<span class=\"header\">Documentation</span>\n",
    "\n",
    "### Command options\n",
    "<br>\n",
    "\n",
    "To get a list of the **options** for a command, run:<br><br>\n",
    "```bash\n",
    "git <command> -h\n",
    "```"
   ]
  },
  {
   "cell_type": "markdown",
   "metadata": {
    "cell_style": "center",
    "slideshow": {
     "slide_type": "subslide"
    }
   },
   "source": [
    "<span class=\"header\">Documentation</span>\n",
    "\n",
    "### Command options\n",
    "\n",
    "*Example:*"
   ]
  },
  {
   "cell_type": "code",
   "execution_count": null,
   "metadata": {},
   "outputs": [],
   "source": [
    "git commit -h"
   ]
  },
  {
   "cell_type": "markdown",
   "metadata": {},
   "source": [
    "<br>"
   ]
  },
  {
   "cell_type": "markdown",
   "metadata": {
    "slideshow": {
     "slide_type": "subslide"
    }
   },
   "source": [
    "<span class=\"header\">Documentation</span>\n",
    "<br><br>\n",
    "\n",
    "### Resources\n",
    "<br>\n",
    "\n",
    "<a href=\"https://git-scm.com/docs\">Official Git manual</a><br>\n",
    "<a href=\"http://swcarpentry.github.io/git-novice/\">Git Software Carpentry lesson</a><br>\n",
    "<a href=\"https://www.atlassian.com/git/tutorials/setting-up-a-repository\">Git tutorial by Atlassian</a><br>\n",
    "[WestGrid Summer School 2020 Git course](https://wgschool.netlify.app/git/)<br>\n",
    "[WestGrid workshop \"Collaborating through GitHub\"](https://westgrid-cli.netlify.app/workshops/github-colab/)<br>\n",
    "[WestGrid workshop \"Contributing to GitHub projects\"](https://westgrid-cli.netlify.app/workshops/github-contrib/)"
   ]
  },
  {
   "cell_type": "markdown",
   "metadata": {
    "cell_style": "split",
    "slideshow": {
     "slide_type": "slide"
    }
   },
   "source": [
    "<br><br><br><br><br><br>  \n",
    "## Troubleshooting Getting help"
   ]
  },
  {
   "cell_type": "markdown",
   "metadata": {
    "cell_style": "split",
    "slideshow": {
     "slide_type": "-"
    }
   },
   "source": [
    "<br>\n",
    "<figure style=\"display: table; margin: 0 auto; padding: 2vmin 0 0 0\">\n",
    "  <center>\n",
    "    <img src=\"https://imgs.xkcd.com/comics/git.png\" title=\"\" width=\"500vmin\" style=\"padding: 2vmin 0 0 0\">\n",
    "  </center>\n",
    "  <div align=\"right\" style=\"color: #978282; line-height: 0; font-size: 2vmin\">\n",
    "    <em>\n",
    "      from <a href=\"https://xkcd.com/\">xkcd.com</a>\n",
    "    </em>\n",
    "  </div>\n",
    "</figure>"
   ]
  },
  {
   "cell_type": "markdown",
   "metadata": {
    "slideshow": {
     "slide_type": "subslide"
    }
   },
   "source": [
    "<span class=\"header\">Troubleshooting and getting help</span>\n",
    "\n",
    "### <div style=\"padding: 8vmin 0 0 0\">\"Listen\" to Git!</div>\n",
    "<br>\n",
    "\n",
    "Git is extremely verbose: by default, it will return lots of information. Read it!\n",
    "\n",
    "These messages may feel overwhelming at first, but:\n",
    "- they will make more and more sense as you gain expertise\n",
    "- they often give you clues as to what the problem is\n",
    "- even if you don't understand them, you can use them as Google search terms"
   ]
  },
  {
   "cell_type": "markdown",
   "metadata": {
    "slideshow": {
     "slide_type": "subslide"
    }
   },
   "source": [
    "<span class=\"header\">Troubleshooting and getting help</span>\n",
    "\n",
    "### (Re-read) the doc\n",
    "<br>\n",
    "\n",
    "As I have no memory, I need to check the man pages all the time. That's ok! It is quick and easy.\n",
    "\n",
    "For more detailed information and examples, I really like the <a href=\"https://git-scm.com/docs\">Official Git manual.</a><br>"
   ]
  },
  {
   "cell_type": "markdown",
   "metadata": {
    "slideshow": {
     "slide_type": "subslide"
    }
   },
   "source": [
    "<span class=\"header\">Troubleshooting and getting help</span>\n",
    "\n",
    "### Search online\n",
    "<br>\n",
    "\n",
    "- Google\n",
    "- [WestGrid workshop: \"Collaborating through GitHub\"](https://westgrid-cli.netlify.app/workshops/github-colab/)  \n",
    "- [Stack Overflow [git] tag](https://stackoverflow.com/questions/tagged/git)"
   ]
  },
  {
   "cell_type": "markdown",
   "metadata": {
    "cell_style": "split",
    "slideshow": {
     "slide_type": "subslide"
    }
   },
   "source": [
    "<span class=\"header\">Troubleshooting and getting help</span>\n",
    "\n",
    "### <div style=\"padding: 2.5vmin\">Don't panic<br>Be analytical</div>\n",
    "\n",
    "It is easy to panic and feel lost if something doesn't work as expected.\n",
    "\n",
    "Take a breath and start with the basis:\n",
    "\n",
    "- make sure you are in the repo (`pwd`) and the files are where you think they are (`ls -a`)\n",
    "- inspect the repository (`git status`, `git diff`, `git log`). Make sure not to overlook what Git is \"telling\" you there\n",
    "\n",
    "Commit and push often to be safe."
   ]
  },
  {
   "cell_type": "markdown",
   "metadata": {
    "cell_style": "split",
    "slideshow": {
     "slide_type": "-"
    }
   },
   "source": [
    "<br><br><br>\n",
    "<figure style=\"display: table; margin: 0 auto\">\n",
    "  <center>\n",
    "    <img src=\"gitout.png\" title=\"\" width=\"400vmin\" style=\"padding: 2vmin 0 0 0\">\n",
    "  </center>\n",
    "  <div align=\"right\" style=\"color: #978282; line-height: 0; font-size: 2vmin\">\n",
    "    <em>\n",
    "      from <a href=\"https://www.redbubble.com/people/jscript/shop#profile\">jscript</a>\n",
    "    </em>\n",
    "  </div>\n",
    "</figure>"
   ]
  },
  {
   "cell_type": "markdown",
   "metadata": {
    "cell_style": "center",
    "slideshow": {
     "slide_type": "slide"
    }
   },
   "source": [
    "## <a href=\"https://westgrid-webinars.netlify.app/git_basics/#/1\" target=\"_blank\">Core concepts of repositories</a>"
   ]
  },
  {
   "cell_type": "markdown",
   "metadata": {
    "cell_style": "center",
    "slideshow": {
     "slide_type": "slide"
    }
   },
   "source": [
    "## Recording history"
   ]
  },
  {
   "cell_type": "markdown",
   "metadata": {
    "slideshow": {
     "slide_type": "subslide"
    }
   },
   "source": [
    "<span class=\"header\">Recording history</span>\n",
    "\n",
    "### <div style=\"padding: 9vmin 0 0 0\">Create the project root</div>\n",
    "\n",
    "1. Navigate to the location where you want to create your project.\n",
    "2. Create a new directory with the name of your project.  \n",
    "<font color=\"#e67300\">**Never use spaces in names and paths.**</font>"
   ]
  },
  {
   "cell_type": "code",
   "execution_count": null,
   "metadata": {},
   "outputs": [],
   "source": [
    "pwd"
   ]
  },
  {
   "cell_type": "code",
   "execution_count": null,
   "metadata": {},
   "outputs": [],
   "source": [
    "cd ~/parvus/ptmp"
   ]
  },
  {
   "cell_type": "code",
   "execution_count": null,
   "metadata": {},
   "outputs": [],
   "source": [
    "pwd"
   ]
  },
  {
   "cell_type": "code",
   "execution_count": null,
   "metadata": {},
   "outputs": [],
   "source": [
    "ls"
   ]
  },
  {
   "cell_type": "code",
   "execution_count": null,
   "metadata": {},
   "outputs": [],
   "source": [
    "mkdir ocean_temp"
   ]
  },
  {
   "cell_type": "code",
   "execution_count": null,
   "metadata": {},
   "outputs": [],
   "source": [
    "ls"
   ]
  },
  {
   "cell_type": "markdown",
   "metadata": {},
   "source": [
    "<br>"
   ]
  },
  {
   "cell_type": "markdown",
   "metadata": {
    "slideshow": {
     "slide_type": "subslide"
    }
   },
   "source": [
    "<span class=\"header\">Recording history</span>\n",
    "\n",
    "### <div style=\"padding: 9vmin 0 0 0\">Put the project under version control</div>\n",
    "<br>\n",
    "\n",
    "<font color=\"#e67300\">**Make sure to enter your new directory before initializing version control.**</font><br>\n",
    "A classic mistake leading to lots of confusion is to run `git init` outside the root of the project."
   ]
  },
  {
   "cell_type": "code",
   "execution_count": null,
   "metadata": {},
   "outputs": [],
   "source": [
    "pwd"
   ]
  },
  {
   "cell_type": "code",
   "execution_count": null,
   "metadata": {},
   "outputs": [],
   "source": [
    "cd ocean_temp"
   ]
  },
  {
   "cell_type": "code",
   "execution_count": null,
   "metadata": {},
   "outputs": [],
   "source": [
    "pwd"
   ]
  },
  {
   "cell_type": "code",
   "execution_count": null,
   "metadata": {},
   "outputs": [],
   "source": [
    "ls -a"
   ]
  },
  {
   "cell_type": "code",
   "execution_count": null,
   "metadata": {},
   "outputs": [],
   "source": [
    "git init"
   ]
  },
  {
   "cell_type": "code",
   "execution_count": null,
   "metadata": {},
   "outputs": [],
   "source": [
    "ls -a"
   ]
  },
  {
   "cell_type": "code",
   "execution_count": null,
   "metadata": {},
   "outputs": [],
   "source": [
    "ls -a .git"
   ]
  },
  {
   "cell_type": "markdown",
   "metadata": {},
   "source": [
    "<br>"
   ]
  },
  {
   "cell_type": "markdown",
   "metadata": {
    "slideshow": {
     "slide_type": "subslide"
    }
   },
   "source": [
    "<span class=\"header\">Recording history</span>\n",
    "\n",
    "### <div style=\"padding: 9vmin 0 0 0\">Create a sensible project structure</div>\n",
    "<br>\n",
    "\n",
    "Git—which is such a powerful tool—works on text files.  \n",
    "If you write your manuscript as a text file (e.g. `.org`, `.md`, `.Rmd`, `.txt`, `.ipynb`) rather than a MS Word or LibreOffice Writer file, you can put it under version control.  \n",
    "This has countless advantages, from easy versioning to easy collaboration."
   ]
  },
  {
   "cell_type": "code",
   "execution_count": null,
   "metadata": {},
   "outputs": [],
   "source": [
    "mkdir src result ms data"
   ]
  },
  {
   "cell_type": "code",
   "execution_count": null,
   "metadata": {},
   "outputs": [],
   "source": [
    "echo \"import numpy as np\n",
    "\n",
    "years = list(range(2001, 2020))\" > src/enso_model.py"
   ]
  },
  {
   "cell_type": "code",
   "execution_count": null,
   "metadata": {},
   "outputs": [],
   "source": [
    "echo \"# Effect of Enso on SST in the North Pacific between the years 2001 and 2020\n",
    "\n",
    "## Introduction\n",
    "\n",
    "## Methods\n",
    "\n",
    "## Results\n",
    "\n",
    "## Conclusion\" > ms/enso_effect.md"
   ]
  },
  {
   "cell_type": "markdown",
   "metadata": {},
   "source": [
    "<br>"
   ]
  },
  {
   "cell_type": "markdown",
   "metadata": {
    "slideshow": {
     "slide_type": "subslide"
    }
   },
   "source": [
    "<span class=\"header\">Recording history</span>\n",
    "\n",
    "### <div style=\"padding: 9vmin 0 0 0\">Create a first snapshot (the initial commit)</div>\n",
    "<br>"
   ]
  },
  {
   "cell_type": "code",
   "execution_count": null,
   "metadata": {},
   "outputs": [],
   "source": [
    "git status"
   ]
  },
  {
   "cell_type": "code",
   "execution_count": null,
   "metadata": {},
   "outputs": [],
   "source": [
    "git add ."
   ]
  },
  {
   "cell_type": "code",
   "execution_count": null,
   "metadata": {},
   "outputs": [],
   "source": [
    "git status"
   ]
  },
  {
   "cell_type": "code",
   "execution_count": null,
   "metadata": {},
   "outputs": [],
   "source": [
    "git commit -m \"Initial commit\""
   ]
  },
  {
   "cell_type": "code",
   "execution_count": null,
   "metadata": {},
   "outputs": [],
   "source": [
    "git status"
   ]
  },
  {
   "cell_type": "markdown",
   "metadata": {},
   "source": [
    "<br>"
   ]
  },
  {
   "cell_type": "markdown",
   "metadata": {
    "slideshow": {
     "slide_type": "subslide"
    }
   },
   "source": [
    "<span class=\"header\">Recording history</span>\n",
    "\n",
    "### SHA-1 checksum\n",
    "<br>\n",
    "\n",
    "Each commit is identified by a unique 40-character SHA-1 checksum. People usually refer to it as a “hash”.\n",
    "\n",
    "The short form of a hash only contains the first 7 characters, which is generally sufficient to identify a commit.\n",
    "\n",
    "After you committed, Git gave you the short form of the hash of your first commit."
   ]
  },
  {
   "cell_type": "markdown",
   "metadata": {
    "cell_style": "split",
    "slideshow": {
     "slide_type": "subslide"
    }
   },
   "source": [
    "<span class=\"header\">Recording history</span><br><br>\n",
    "\n",
    "### On writing good commit messages\n",
    "<br>\n",
    "\n",
    "<figure style=\"display: table; margin: 0 auto\">\n",
    "  <center>\n",
    "    <img src=\"https://imgs.xkcd.com/comics/git_commit.png\" title=\"\" width=\"700vmin\" style=\"padding: 2vmin 0 0 0\">\n",
    "  </center>\n",
    "  <div align=\"right\" style=\"color: #978282; line-height: 0; font-size: 2vmin\">\n",
    "    <em>\n",
    "      from <a href=\"https://xkcd.com/\">xkcd.com</a>\n",
    "    </em>\n",
    "  </div>\n",
    "</figure>"
   ]
  },
  {
   "cell_type": "markdown",
   "metadata": {
    "cell_style": "split",
    "slideshow": {
     "slide_type": "fragment"
    }
   },
   "source": [
    "<br><br><br>\n",
    "\n",
    "- Use the present tense\n",
    "\n",
    "- The first line is a summary of the commit and is less than 50 characters long\n",
    "\n",
    "- Leave a blank line below\n",
    "\n",
    "- Then add the body of your commit message with more details"
   ]
  },
  {
   "cell_type": "markdown",
   "metadata": {
    "cell_style": "split",
    "slideshow": {
     "slide_type": "subslide"
    }
   },
   "source": [
    "<br>\n",
    "<div style=\"line-height: 10vmin\">\n",
    "    <br>\n",
    "</div>\n",
    "\n",
    "- Use the present tense\n",
    "\n",
    "- The first line is a summary of the commit and is less than 50 characters long\n",
    "\n",
    "- Leave a blank line below\n",
    "\n",
    "- Then add the body of your commit message with more details"
   ]
  },
  {
   "cell_type": "markdown",
   "metadata": {
    "cell_style": "split",
    "slideshow": {
     "slide_type": "-"
    }
   },
   "source": [
    "<span class=\"header\">Recording history</span><br><br>\n",
    "\n",
    "*Example of a good commit message:*\n",
    "\n",
    "```sh\n",
    "git commit -m \"Reduce boundary conditions by a factor of 0.3\n",
    "\n",
    "Update boundaries\n",
    "Rerun model and update table\n",
    "Rephrase method section in ms\"\n",
    "```"
   ]
  },
  {
   "cell_type": "markdown",
   "metadata": {
    "slideshow": {
     "slide_type": "subslide"
    }
   },
   "source": [
    "<span class=\"header\">Recording history</span>\n",
    "\n",
    "### <div style=\"padding: 7vmin 0 0 0\">Excluding from version control</div>\n",
    "<br>\n",
    "\n",
    "There are files you really **should** put under version control, but there are files you shouldn't."
   ]
  },
  {
   "cell_type": "markdown",
   "metadata": {
    "cell_style": "split",
    "slideshow": {
     "slide_type": "fragment"
    }
   },
   "source": [
    "#### Put under vc\n",
    "\n",
    "- Scripts\n",
    "- Manuscripts and notes\n",
    "- Makefile and the like"
   ]
  },
  {
   "cell_type": "markdown",
   "metadata": {
    "cell_style": "split",
    "slideshow": {
     "slide_type": "fragment"
    }
   },
   "source": [
    "#### Do **not** put under vc\n",
    "\n",
    "- Non-text files (e.g. images, office documents)\n",
    "- Outputs that can be recreated by running code"
   ]
  },
  {
   "cell_type": "markdown",
   "metadata": {
    "slideshow": {
     "slide_type": "subslide"
    }
   },
   "source": [
    "<span class=\"header\">Recording history</span>\n",
    "\n",
    "### <div style=\"padding: 7vmin 0 0 0\">Excluding from version control</div>\n",
    "<br>\n",
    "\n",
    "You want to have a clean working directory, so you need to tell Git to ignore those files.\n",
    "\n",
    "You do this by adding them to a file that you create in the root of the project called `.gitignore`."
   ]
  },
  {
   "cell_type": "code",
   "execution_count": null,
   "metadata": {},
   "outputs": [],
   "source": [
    "touch result/graph.png"
   ]
  },
  {
   "cell_type": "code",
   "execution_count": null,
   "metadata": {},
   "outputs": [],
   "source": [
    "git status"
   ]
  },
  {
   "cell_type": "code",
   "execution_count": null,
   "metadata": {},
   "outputs": [],
   "source": [
    "echo /result/ > .gitignore"
   ]
  },
  {
   "cell_type": "code",
   "execution_count": null,
   "metadata": {},
   "outputs": [],
   "source": [
    "cat .gitignore"
   ]
  },
  {
   "cell_type": "code",
   "execution_count": null,
   "metadata": {},
   "outputs": [],
   "source": [
    "git status"
   ]
  },
  {
   "cell_type": "markdown",
   "metadata": {},
   "source": [
    "<br>"
   ]
  },
  {
   "cell_type": "markdown",
   "metadata": {
    "slideshow": {
     "slide_type": "subslide"
    }
   },
   "source": [
    "<span class=\"header\">Recording history</span>\n",
    "\n",
    "### <div style=\"padding: 5vmin 0 0 0\">.gitignore rules</div>\n",
    "<br>\n",
    "\n",
    "Each line in a `.gitignore` file specifies a pattern.\n",
    "\n",
    "Blank lines are ignored and can serve as separators for readability.\n",
    "\n",
    "Lines starting with `#` are comments.\n",
    "\n",
    "To add patterns starting with a special character (e.g. `#`, `!`), that character needs escaping with `\\`.\n",
    "\n",
    "Trailing spaces are ignored unless they are escaped with `\\`.\n",
    "\n",
    "`!` negates patterns (matching files excluded by previous patterns become included again). **However** it is not possible to re-include a file if one of its parent directories is excluded (Git doesn’t list excluded directories for performance reasons). One way to go around that is to force the inclusion of a file which is in an ignored directory with the option `-f`.\n",
    "\n",
    "&emsp;&emsp;&emsp; *Example: `git add -f <file>`*\n",
    "\n",
    "Patterns ending with `/` match directories. Otherwise patterns match both files and directories.\n",
    "\n",
    "`/` at the beginning or within a search pattern indicates that the pattern is relative to the directory level of the `.gitignore` file. Otherwise the pattern matches anywhere below the `.gitignore` level.\n",
    "\n",
    "&emsp;&emsp;&emsp; *Examples:*  \n",
    "*&emsp;&emsp;&emsp;&emsp;&emsp;&emsp; - `foo/bar/` matches the directory `foo/bar`, but not the directory `a/foo/bar`*  \n",
    "*&emsp;&emsp;&emsp;&emsp;&emsp;&emsp; - `bar/` matches both the directories `foo/bar` and `a/foo/bar`*\n",
    "\n",
    "`*` matches anything except `/`.\n",
    "\n",
    "`?` matches any one character except `/`.\n",
    "\n",
    "The range notation (e.g. `[a-zA-Z]`) can be used to match one of the characters in a range.\n",
    "\n",
    "A leading `**/` matches all directories.\n",
    "\n",
    "&emsp;&emsp;&emsp; *Example: `**/foo` matches file or directory `foo` anywhere. This is the same as `foo`*\n",
    "\n",
    "A trailing `/**` matches everything inside what it precedes.\n",
    "\n",
    "&emsp;&emsp;&emsp; *Example: `abc/**` matches all files (recursively) inside directory `abc`*\n",
    "\n",
    "`/**/` matches zero or more directories.\n",
    "\n",
    "&emsp;&emsp;&emsp; *Example: `a/**/b` matches `a/b`, `a/x/b`, and `a/x/y/b`*"
   ]
  },
  {
   "cell_type": "markdown",
   "metadata": {
    "slideshow": {
     "slide_type": "subslide"
    }
   },
   "source": [
    "<span class=\"header\">Recording history</span>\n",
    "\n",
    "### <div style=\"padding: 5vmin 0 0 0\">Putting aside for a while</div>\n",
    "<br>"
   ]
  },
  {
   "cell_type": "code",
   "execution_count": null,
   "metadata": {},
   "outputs": [],
   "source": []
  },
  {
   "cell_type": "markdown",
   "metadata": {},
   "source": [
    "<br>"
   ]
  },
  {
   "cell_type": "markdown",
   "metadata": {
    "slideshow": {
     "slide_type": "subslide"
    }
   },
   "source": [
    "<span class=\"header\">Recording history</span>\n",
    "\n",
    "### <div style=\"padding: 9vmin 0 0 0\">Let's create a more selective snapshot</div>\n",
    "<br>\n",
    "\n",
    "We made our first commit with:\n",
    "<br>\n",
    "```sh\n",
    "git add .\n",
    "git commit -m \"Initial commit\"\n",
    "```\n",
    "\n",
    "`git add .` stages all new changes in the repo.\n",
    "\n",
    "It is even possible to commit all changes to the tracked files, staged or not, with `git commit -a -m \"Some message\"`. With this command, you can thus skip the staging area entirely.\n",
    "\n",
    "While these commands are convenient, you seldom want to do that: chances are, you'd be committing a mixed bag of changes that aren't grouped sensibly.\n",
    "\n",
    "This creates a messy history that will be hard to navigate in the future (and will be hell for your collaborators)."
   ]
  },
  {
   "cell_type": "markdown",
   "metadata": {
    "slideshow": {
     "slide_type": "subslide"
    }
   },
   "source": [
    "<span class=\"header\">Recording history</span>\n",
    "\n",
    "### <div style=\"padding: 9vmin 0 0 0\">Let's create a more selective snapshot</div>\n",
    "<br>\n",
    "\n",
    "What you want to do is to create commits that are meaningful.\n",
    "\n",
    "This is why Git has this 2-step process to make snapshots:\n",
    "- first you stage\n",
    "- then you commit\n",
    "\n",
    "The staging area allows you to pick and choose changes that you want to commit together."
   ]
  },
  {
   "cell_type": "markdown",
   "metadata": {
    "slideshow": {
     "slide_type": "subslide"
    }
   },
   "source": [
    "<span class=\"header\">Recording history</span>\n",
    "\n",
    "### <div style=\"padding: 9vmin 0 0 0\">Let's create a more selective snapshot</div>\n",
    "<br>\n",
    "\n",
    "`git add <file>` allows you to only add the changes you made in `<file>` to the staging area (leaving changes to other files unstaged).\n",
    "<br><br>\n",
    "Even better, `git add -p <file>` allows you to stage only some of the changes made in `<file>`.\n",
    "<br><br>\n",
    "This gives you entire control over your recording of history."
   ]
  },
  {
   "cell_type": "markdown",
   "metadata": {
    "slideshow": {
     "slide_type": "subslide"
    }
   },
   "source": [
    "<span class=\"header\">Recording history</span>\n",
    "\n",
    "### <div style=\"padding: 9vmin 0 0 0\">Let's create a more selective snapshot</div>\n",
    "<br>\n",
    "\n",
    "`git add -p <file>` starts an interactive staging session.\n",
    "\n",
    "For each modified section (called \"hunk\"), Git will ask you:\n",
    "\n",
    "```\n",
    "y\tyes (stage this hunk)\n",
    "n\tno (don't stage this hunk)\n",
    "a\tall (stage this hunk and all subsequent ones in this file)\n",
    "d\tdo not stage this hunk nor any of the remaining ones\n",
    "s\tsplit this hunk (if possible)\n",
    "e\tedit\n",
    "?\tprint help\n",
    "```"
   ]
  },
  {
   "cell_type": "markdown",
   "metadata": {
    "slideshow": {
     "slide_type": "subslide"
    }
   },
   "source": [
    "<span class=\"header\">Recording history</span>\n",
    "\n",
    "### <div style=\"padding: 9vmin 0 0 0\">Recap</div>\n",
    "<br>\n",
    "\n",
    "Let's make a series of changes to our project and create a series of commits trying all the commands we learnt.\n",
    "\n",
    "*Note: if you add content to existing files from the command line, mind the difference between `>` and `>>`: while the latter will append content, the former will overwrite the file!*"
   ]
  },
  {
   "cell_type": "code",
   "execution_count": null,
   "metadata": {},
   "outputs": [],
   "source": [
    "git status"
   ]
  },
  {
   "cell_type": "code",
   "execution_count": 2,
   "metadata": {},
   "outputs": [],
   "source": [
    "echo \"Twas brillig, and the slithy toves\n",
    "Did gyre and gimble in the wabe:\n",
    "All mimsy were the borogoves,\n",
    "And the mome raths outgrabe\" >> ms/enso_effect.md"
   ]
  },
  {
   "cell_type": "code",
   "execution_count": null,
   "metadata": {},
   "outputs": [],
   "source": [
    "git status"
   ]
  },
  {
   "cell_type": "code",
   "execution_count": 3,
   "metadata": {},
   "outputs": [],
   "source": [
    "echo \"Beware the Jabberwock, my son!\n",
    "The jaws that bite, the claws that catch!\n",
    "Beware the Jubjub bird, and shun\n",
    "The frumious Bandersnatch\" >> src/enso_model.py"
   ]
  },
  {
   "cell_type": "code",
   "execution_count": null,
   "metadata": {},
   "outputs": [],
   "source": [
    "git status"
   ]
  },
  {
   "cell_type": "code",
   "execution_count": null,
   "metadata": {},
   "outputs": [],
   "source": [
    "git add ms/enso_effect.md"
   ]
  },
  {
   "cell_type": "code",
   "execution_count": null,
   "metadata": {},
   "outputs": [],
   "source": [
    "git status"
   ]
  },
  {
   "cell_type": "code",
   "execution_count": null,
   "metadata": {},
   "outputs": [],
   "source": [
    "git commit -m \"Add Jabberwock 1st paragraph to the enso effect ms\""
   ]
  },
  {
   "cell_type": "code",
   "execution_count": null,
   "metadata": {},
   "outputs": [],
   "source": [
    "git status"
   ]
  },
  {
   "cell_type": "code",
   "execution_count": null,
   "metadata": {},
   "outputs": [],
   "source": [
    "emacsclient -c ms/enso_effect.md"
   ]
  },
  {
   "cell_type": "code",
   "execution_count": null,
   "metadata": {},
   "outputs": [],
   "source": [
    "git status"
   ]
  },
  {
   "cell_type": "code",
   "execution_count": null,
   "metadata": {},
   "outputs": [],
   "source": [
    "git add -p ms/enso_effect.md"
   ]
  },
  {
   "cell_type": "code",
   "execution_count": null,
   "metadata": {},
   "outputs": [],
   "source": [
    "git status"
   ]
  },
  {
   "cell_type": "code",
   "execution_count": null,
   "metadata": {},
   "outputs": [],
   "source": [
    "git add src/enso_model.py"
   ]
  },
  {
   "cell_type": "code",
   "execution_count": null,
   "metadata": {},
   "outputs": [],
   "source": [
    "git status"
   ]
  },
  {
   "cell_type": "code",
   "execution_count": null,
   "metadata": {},
   "outputs": [],
   "source": [
    "git commit -m \"Fix bug Jabberwock in script and update ms\n",
    "\n",
    "Add Jabberwock 2nd paragraph to enso model script\n",
    "Correct conclusion in ms\""
   ]
  },
  {
   "cell_type": "code",
   "execution_count": null,
   "metadata": {},
   "outputs": [],
   "source": [
    "git status"
   ]
  },
  {
   "cell_type": "code",
   "execution_count": null,
   "metadata": {},
   "outputs": [],
   "source": [
    "git commit -a -m \"Corrections enso model ms\""
   ]
  },
  {
   "cell_type": "code",
   "execution_count": null,
   "metadata": {},
   "outputs": [],
   "source": [
    "echo \"La la la\" >> ms/enso_effect.md"
   ]
  },
  {
   "cell_type": "code",
   "execution_count": null,
   "metadata": {},
   "outputs": [],
   "source": [
    "git commit -a -m \"Minor edits enso model ms\""
   ]
  },
  {
   "cell_type": "code",
   "execution_count": null,
   "metadata": {},
   "outputs": [],
   "source": [
    "echo \"La la la\" >> src/enso_model.py"
   ]
  },
  {
   "cell_type": "code",
   "execution_count": null,
   "metadata": {},
   "outputs": [],
   "source": [
    "git commit -a -m \"Minor edits script\""
   ]
  },
  {
   "cell_type": "markdown",
   "metadata": {},
   "source": [
    "<br>"
   ]
  },
  {
   "cell_type": "markdown",
   "metadata": {
    "slideshow": {
     "slide_type": "subslide"
    }
   },
   "source": [
    "<span class=\"header\">Recording history</span>\n",
    "\n",
    "### <div style=\"padding: 7vmin 0 0 0\">Inspecting changes</div>\n",
    "<br>\n",
    "\n",
    "We saw that `git status` is the key command to get information on the current state of the repo.\n",
    "\n",
    "While this gives us the list of new files and files with changes, it doesn't allow us to see what those changes are. For this, we need `git diff`.\n",
    "\n",
    "`git diff` shows changes between any two elements (e.g. between commits, between a commit and your working tree, between branches, etc.)."
   ]
  },
  {
   "cell_type": "code",
   "execution_count": null,
   "metadata": {},
   "outputs": [],
   "source": [
    "git status"
   ]
  },
  {
   "cell_type": "code",
   "execution_count": null,
   "metadata": {},
   "outputs": [],
   "source": [
    "echo \"La la la\" >> ms/enso_effect.md"
   ]
  },
  {
   "cell_type": "markdown",
   "metadata": {},
   "source": [
    "<br>"
   ]
  },
  {
   "cell_type": "markdown",
   "metadata": {
    "slideshow": {
     "slide_type": "subslide"
    }
   },
   "source": [
    "<span class=\"header\">Recording history</span>\n",
    "\n",
    "### <div style=\"padding: 7vmin 0 0 0\">Inspecting changes</div>\n",
    "<br>\n",
    "\n",
    "#### Difference between the working tree and the index\n",
    "\n",
    "That's all your unstaged changes *on tracked files*.\n",
    "\n",
    "Git can see new files you haven't staged: it lists them in the output of `git status`. Until you put them under version control by staging them for the first time however, Git has no information about their content: at this point, they are untracked and they are not part of the working tree yet. So their content never appears in the output of `git diff`."
   ]
  },
  {
   "cell_type": "code",
   "execution_count": null,
   "metadata": {},
   "outputs": [],
   "source": [
    "git status"
   ]
  },
  {
   "cell_type": "code",
   "execution_count": null,
   "metadata": {},
   "outputs": [],
   "source": [
    "git diff"
   ]
  },
  {
   "cell_type": "code",
   "execution_count": null,
   "metadata": {},
   "outputs": [],
   "source": []
  },
  {
   "cell_type": "markdown",
   "metadata": {},
   "source": [
    "<br>"
   ]
  },
  {
   "cell_type": "markdown",
   "metadata": {
    "slideshow": {
     "slide_type": "subslide"
    }
   },
   "source": [
    "<span class=\"header\">Recording history</span>\n",
    "\n",
    "### <div style=\"padding: 7vmin 0 0 0\">Inspecting changes</div>\n",
    "<br>\n",
    "\n",
    "#### Difference between the index and your last commit\n",
    "\n",
    "That's your staged changes ready to be committed.\n",
    "\n",
    "That is, that's what would be committed with `git commit -m \"Some message\"`."
   ]
  },
  {
   "cell_type": "code",
   "execution_count": null,
   "metadata": {},
   "outputs": [],
   "source": [
    "git diff --cached"
   ]
  },
  {
   "cell_type": "markdown",
   "metadata": {},
   "source": [
    "<br>"
   ]
  },
  {
   "cell_type": "markdown",
   "metadata": {
    "slideshow": {
     "slide_type": "subslide"
    }
   },
   "source": [
    "<span class=\"header\">Recording history</span>\n",
    "\n",
    "### <div style=\"padding: 7vmin 0 0 0\">Inspecting changes</div>\n",
    "<br>\n",
    "\n",
    "#### Difference between the working tree and your last commit\n",
    "\n",
    "So both of the above combined.\n",
    "\n",
    "That's all your staged and unstaged changes (again, only on tracked files)."
   ]
  },
  {
   "cell_type": "code",
   "execution_count": null,
   "metadata": {},
   "outputs": [],
   "source": [
    "git diff HEAD"
   ]
  },
  {
   "cell_type": "markdown",
   "metadata": {},
   "source": [
    "<br>"
   ]
  },
  {
   "cell_type": "markdown",
   "metadata": {
    "slideshow": {
     "slide_type": "subslide"
    }
   },
   "source": [
    "<span class=\"header\">Recording history</span>\n",
    "\n",
    "### <div style=\"padding: 7vmin 0 0 0\">Inspecting changes</div>\n",
    "<br>\n",
    "\n",
    "`git diff` uses a pager (by default, [less](https://en.wikipedia.org/wiki/Less_(Unix))).\n",
    "\n",
    "To navigate in the pager:\n",
    "\n",
    "```\n",
    "SPACE   scroll one screen down\n",
    "b       scroll one screen up\n",
    "q       exit\n",
    "```\n",
    "Type `man less` and look at the \"COMMANDS\" section for more info.\n",
    "\n",
    "You can circumvent the pager."
   ]
  },
  {
   "cell_type": "code",
   "execution_count": null,
   "metadata": {},
   "outputs": [],
   "source": [
    "git --no-pager diff"
   ]
  },
  {
   "cell_type": "markdown",
   "metadata": {},
   "source": [
    "<br>"
   ]
  },
  {
   "cell_type": "markdown",
   "metadata": {
    "cell_style": "center",
    "slideshow": {
     "slide_type": "slide"
    }
   },
   "source": [
    "## Git refs"
   ]
  },
  {
   "cell_type": "code",
   "execution_count": null,
   "metadata": {},
   "outputs": [],
   "source": [
    "git diff HEAD"
   ]
  },
  {
   "cell_type": "code",
   "execution_count": null,
   "metadata": {},
   "outputs": [],
   "source": [
    "git diff HEAD~ HEAD"
   ]
  },
  {
   "cell_type": "code",
   "execution_count": null,
   "metadata": {},
   "outputs": [],
   "source": [
    "git rev-parse HEAD"
   ]
  },
  {
   "cell_type": "code",
   "execution_count": null,
   "metadata": {},
   "outputs": [],
   "source": [
    "git rev-parse --short HEAD"
   ]
  },
  {
   "cell_type": "code",
   "execution_count": null,
   "metadata": {},
   "outputs": [],
   "source": [
    "git rev-parse --short HEAD~"
   ]
  },
  {
   "cell_type": "code",
   "execution_count": null,
   "metadata": {},
   "outputs": [],
   "source": [
    "git diff <hashHEAD~> <hashHEAD>"
   ]
  },
  {
   "cell_type": "code",
   "execution_count": null,
   "metadata": {},
   "outputs": [],
   "source": [
    "git reflog"
   ]
  },
  {
   "cell_type": "markdown",
   "metadata": {},
   "source": [
    "<br>"
   ]
  },
  {
   "cell_type": "markdown",
   "metadata": {
    "cell_style": "center",
    "slideshow": {
     "slide_type": "slide"
    }
   },
   "source": [
    "## Working with branches"
   ]
  },
  {
   "cell_type": "markdown",
   "metadata": {
    "slideshow": {
     "slide_type": "subslide"
    }
   },
   "source": [
    "<span class=\"header\">Working with branches</span>\n",
    "\n",
    "### <div style=\"padding: 7vmin 0 0 0\">Creating branches</div>"
   ]
  },
  {
   "cell_type": "markdown",
   "metadata": {
    "slideshow": {
     "slide_type": "subslide"
    }
   },
   "source": [
    "<span class=\"header\">Working with branches</span>\n",
    "\n",
    "### <div style=\"padding: 7vmin 0 0 0\">Creating branches</div>\n",
    "\n",
    "#### master\n",
    "\n",
    "When you initialized your repository with `git init`, a branch got created. It is called master (you could rename it to something else if you wanted—that initial branch, despite its name, has nothing special).\n",
    "\n",
    "So as soon as you start working on your project, there is one branch (master) and you are on it."
   ]
  },
  {
   "cell_type": "markdown",
   "metadata": {
    "slideshow": {
     "slide_type": "subslide"
    }
   },
   "source": [
    "<span class=\"header\">Working with branches</span>\n",
    "\n",
    "### <div style=\"padding: 7vmin 0 0 0\">Creating branches</div>\n",
    "\n",
    "#### Additional branches\n",
    "\n",
    "You can create additional branches with `git branch <branch-name>`."
   ]
  },
  {
   "cell_type": "code",
   "execution_count": null,
   "metadata": {},
   "outputs": [],
   "source": [
    "git status"
   ]
  },
  {
   "cell_type": "code",
   "execution_count": null,
   "metadata": {},
   "outputs": [],
   "source": [
    "git log --oneline"
   ]
  },
  {
   "cell_type": "code",
   "execution_count": null,
   "metadata": {},
   "outputs": [],
   "source": [
    "git branch"
   ]
  },
  {
   "cell_type": "code",
   "execution_count": null,
   "metadata": {},
   "outputs": [],
   "source": [
    "git branch test"
   ]
  },
  {
   "cell_type": "code",
   "execution_count": null,
   "metadata": {},
   "outputs": [],
   "source": [
    "git status"
   ]
  },
  {
   "cell_type": "code",
   "execution_count": null,
   "metadata": {},
   "outputs": [],
   "source": [
    "git log --oneline"
   ]
  },
  {
   "cell_type": "code",
   "execution_count": null,
   "metadata": {},
   "outputs": [],
   "source": [
    "git branch"
   ]
  },
  {
   "cell_type": "markdown",
   "metadata": {},
   "source": [
    "<br>"
   ]
  },
  {
   "cell_type": "markdown",
   "metadata": {
    "slideshow": {
     "slide_type": "subslide"
    }
   },
   "source": [
    "<span class=\"header\">Working with branches</span>\n",
    "\n",
    "### Switching branch\n",
    "<br>\n",
    "\n",
    "To switch branch, you use `git checkout <branch-name>`."
   ]
  },
  {
   "cell_type": "code",
   "execution_count": null,
   "metadata": {},
   "outputs": [],
   "source": [
    "git checkout test"
   ]
  },
  {
   "cell_type": "code",
   "execution_count": null,
   "metadata": {},
   "outputs": [],
   "source": [
    "git status"
   ]
  },
  {
   "cell_type": "code",
   "execution_count": null,
   "metadata": {},
   "outputs": [],
   "source": [
    "git log --oneline"
   ]
  },
  {
   "cell_type": "code",
   "execution_count": null,
   "metadata": {},
   "outputs": [],
   "source": [
    "git branch"
   ]
  },
  {
   "cell_type": "code",
   "execution_count": null,
   "metadata": {},
   "outputs": [],
   "source": [
    "emacsclient -c ms/enso_effect.md"
   ]
  },
  {
   "cell_type": "code",
   "execution_count": null,
   "metadata": {},
   "outputs": [],
   "source": [
    "git add newfile.txt"
   ]
  },
  {
   "cell_type": "code",
   "execution_count": null,
   "metadata": {},
   "outputs": [],
   "source": [
    "git commit -m \"add newfile\""
   ]
  },
  {
   "cell_type": "code",
   "execution_count": null,
   "metadata": {},
   "outputs": [],
   "source": [
    "git reflog"
   ]
  },
  {
   "cell_type": "markdown",
   "metadata": {},
   "source": [
    "<br>"
   ]
  },
  {
   "cell_type": "markdown",
   "metadata": {
    "slideshow": {
     "slide_type": "subslide"
    }
   },
   "source": [
    "<span class=\"header\">Working with branches</span>\n",
    "\n",
    "### Creating a branch & switching to it immediately\n",
    "<br>\n",
    "\n",
    "When you create a branch, most of the time you want to switch to it. So there is a command which allows to create a branch and switch to it immediately without having to do this in two steps: `git checkout -b <branch-name>`.\n",
    "\n",
    "This command is convenient: when you create a branch with `git branch <branch-name>`, it is very easy to forget to switch to the new branch before making commits!"
   ]
  },
  {
   "cell_type": "code",
   "execution_count": null,
   "metadata": {},
   "outputs": [],
   "source": [
    "git checkout -b test2"
   ]
  },
  {
   "cell_type": "code",
   "execution_count": null,
   "metadata": {},
   "outputs": [],
   "source": [
    "git status"
   ]
  },
  {
   "cell_type": "code",
   "execution_count": null,
   "metadata": {},
   "outputs": [],
   "source": [
    "git log --oneline"
   ]
  },
  {
   "cell_type": "code",
   "execution_count": null,
   "metadata": {},
   "outputs": [],
   "source": [
    "git branch"
   ]
  },
  {
   "cell_type": "code",
   "execution_count": null,
   "metadata": {},
   "outputs": [],
   "source": [
    "emacsclient -c ms/enso_effect.md"
   ]
  },
  {
   "cell_type": "code",
   "execution_count": null,
   "metadata": {},
   "outputs": [],
   "source": [
    "git status"
   ]
  },
  {
   "cell_type": "code",
   "execution_count": null,
   "metadata": {},
   "outputs": [],
   "source": [
    "git log --oneline"
   ]
  },
  {
   "cell_type": "code",
   "execution_count": null,
   "metadata": {},
   "outputs": [],
   "source": [
    "git branch"
   ]
  },
  {
   "cell_type": "code",
   "execution_count": null,
   "metadata": {},
   "outputs": [],
   "source": [
    "git diff test master"
   ]
  },
  {
   "cell_type": "code",
   "execution_count": null,
   "metadata": {},
   "outputs": [],
   "source": [
    "git diff test2 master"
   ]
  },
  {
   "cell_type": "code",
   "execution_count": null,
   "metadata": {},
   "outputs": [],
   "source": [
    "git diff test...master"
   ]
  },
  {
   "cell_type": "markdown",
   "metadata": {},
   "source": [
    "<br>"
   ]
  },
  {
   "cell_type": "markdown",
   "metadata": {
    "cell_style": "split",
    "slideshow": {
     "slide_type": "subslide"
    }
   },
   "source": [
    "<span class=\"header\">Working with branches</span>\n",
    "\n",
    "### Merging branches\n",
    "<br>\n",
    "\n",
    "One thing that makes Git branches powerful is—as we just saw—how easy it is to create new branches and to switch from one branch to another. Another thing is how easy it is to merge branches together.\n",
    "\n",
    "If you created an experimental branch and are happy with the result, you'll want to merge it into your main branch.\n",
    "\n",
    "First, switch to the main development branch, then merge your experimental branch into the main branch:\n",
    "\n",
    "```sh\n",
    "git merge <branch-to-merge-into-current-branch>\n",
    "```"
   ]
  },
  {
   "cell_type": "markdown",
   "metadata": {
    "cell_style": "split",
    "slideshow": {
     "slide_type": "-"
    }
   },
   "source": [
    "<br><br><br>\n",
    "<figure style=\"display: table; margin: 0 auto\">\n",
    "  <center>\n",
    "    <img src=\"https://imgs.xkcd.com/comics/algorithms.png\" title=\"\" width=\"400vmin\" style=\"padding: 2vmin 0 0 0\">\n",
    "  </center>\n",
    "  <div align=\"right\" style=\"color: #978282; line-height: 0; font-size: 2vmin\">\n",
    "    <em>\n",
    "      from <a href=\"https://xkcd.com/\">xkcd.com</a>\n",
    "    </em>\n",
    "  </div>\n",
    "</figure>"
   ]
  },
  {
   "cell_type": "code",
   "execution_count": null,
   "metadata": {},
   "outputs": [],
   "source": [
    "git checkout master"
   ]
  },
  {
   "cell_type": "code",
   "execution_count": null,
   "metadata": {},
   "outputs": [],
   "source": [
    "git merge test"
   ]
  },
  {
   "cell_type": "code",
   "execution_count": null,
   "metadata": {},
   "outputs": [],
   "source": [
    "git merge test2"
   ]
  },
  {
   "cell_type": "markdown",
   "metadata": {},
   "source": [
    "<br>"
   ]
  },
  {
   "cell_type": "markdown",
   "metadata": {
    "slideshow": {
     "slide_type": "subslide"
    }
   },
   "source": [
    "<span class=\"header\">Working with branches</span>\n",
    "\n",
    "### Resolving conflicts\n",
    "<br>\n",
    "\n",
    "As you were developing your experimental branch, maybe you were also developing your main branch. As long as the differences between the branches do not overlap (you have been working on different parts of the project in each branch, which can include different parts of the same file), there is no problem.\n",
    "\n",
    "If the two branches contain different versions of the same part of a file however, Git cannot know which of the versions you want to keep. The merge will then be interrupted and Git will ask you to resolve the conflict(s) before the merge can be completed.\n",
    "\n",
    "Conflicts will look like this:\n",
    "\n",
    "```sh\n",
    "<<<<<<< HEAD\n",
    "Version of this section of the file on your checkedout branch\n",
    "=======\n",
    "Alternative version of the same section of the file\n",
    ">>>>>>> alternative version\n",
    "```\n",
    "\n",
    "Merge tools allow you to jump from conflict to conflict within a file and ask you to decide which version you want to choose for each of them (you can also write a combination of the two)."
   ]
  },
  {
   "cell_type": "code",
   "execution_count": null,
   "metadata": {},
   "outputs": [],
   "source": [
    "git mergetool"
   ]
  },
  {
   "cell_type": "code",
   "execution_count": null,
   "metadata": {},
   "outputs": [],
   "source": [
    "git mergetool --tool-help"
   ]
  },
  {
   "cell_type": "markdown",
   "metadata": {},
   "source": [
    "<br>"
   ]
  },
  {
   "cell_type": "markdown",
   "metadata": {
    "slideshow": {
     "slide_type": "subslide"
    }
   },
   "source": [
    "<span class=\"header\">Working with branches</span>\n",
    "\n",
    "### Resolving conflicts\n",
    "<br>\n",
    "\n",
    "If you don't use any merge tool, you can edit those sections manually in any text editor.\n",
    "\n",
    "You can also in one swoop keep *our* version (i.e. the version of the branch you are currently on or HEAD ) or all of *their* version (the alternative version of the file you are merging into your branch) for all of the sections.\n",
    "\n",
    "```sh\n",
    "git checkout --ours <file>\n",
    "git checkout --theirs <file>\n",
    "```"
   ]
  },
  {
   "cell_type": "markdown",
   "metadata": {},
   "source": [
    "<br>"
   ]
  },
  {
   "cell_type": "markdown",
   "metadata": {
    "slideshow": {
     "slide_type": "subslide"
    }
   },
   "source": [
    "<span class=\"header\">Working with branches</span>\n",
    "\n",
    "### Deleting branches\n",
    "<br>\n",
    "\n",
    "Once you have merged a branch into another or if you decide that the experiments on a branch are not worth keeping, you can delete that branch."
   ]
  },
  {
   "cell_type": "code",
   "execution_count": null,
   "metadata": {},
   "outputs": [],
   "source": [
    "git branch"
   ]
  },
  {
   "cell_type": "code",
   "execution_count": null,
   "metadata": {},
   "outputs": [],
   "source": [
    "git branch -d test"
   ]
  },
  {
   "cell_type": "code",
   "execution_count": null,
   "metadata": {},
   "outputs": [],
   "source": [
    "git branch"
   ]
  },
  {
   "cell_type": "code",
   "execution_count": null,
   "metadata": {},
   "outputs": [],
   "source": [
    "git branch -d test2"
   ]
  },
  {
   "cell_type": "code",
   "execution_count": null,
   "metadata": {},
   "outputs": [],
   "source": [
    "git branch"
   ]
  },
  {
   "cell_type": "markdown",
   "metadata": {},
   "source": [
    "<br>"
   ]
  },
  {
   "cell_type": "markdown",
   "metadata": {
    "cell_style": "center",
    "slideshow": {
     "slide_type": "slide"
    }
   },
   "source": [
    "## Exploring the past"
   ]
  },
  {
   "cell_type": "markdown",
   "metadata": {
    "slideshow": {
     "slide_type": "subslide"
    }
   },
   "source": [
    "<span class=\"header\">Exploring the past</span>\n",
    "\n",
    "### Overview of commit history\n",
    "<br>\n",
    "\n",
    "`git log` shows the log of commits."
   ]
  },
  {
   "cell_type": "markdown",
   "metadata": {
    "slideshow": {
     "slide_type": "fragment"
    }
   },
   "source": [
    "In its simplest form, it gives a list of past commits in a pager."
   ]
  },
  {
   "cell_type": "code",
   "execution_count": null,
   "metadata": {},
   "outputs": [],
   "source": [
    "git log"
   ]
  },
  {
   "cell_type": "markdown",
   "metadata": {},
   "source": [
    "<br>"
   ]
  },
  {
   "cell_type": "markdown",
   "metadata": {
    "slideshow": {
     "slide_type": "subslide"
    }
   },
   "source": [
    "<span class=\"header\">Exploring the past</span>\n",
    "\n",
    "### Overview of commit history\n",
    "<br>\n",
    "\n",
    "This log can be customized greatly by playing with the various flags."
   ]
  },
  {
   "cell_type": "code",
   "execution_count": null,
   "metadata": {
    "slideshow": {
     "slide_type": "-"
    }
   },
   "outputs": [],
   "source": [
    "git log --oneline"
   ]
  },
  {
   "cell_type": "code",
   "execution_count": null,
   "metadata": {},
   "outputs": [],
   "source": [
    "man git-log"
   ]
  },
  {
   "cell_type": "markdown",
   "metadata": {},
   "source": [
    "<br>"
   ]
  },
  {
   "cell_type": "markdown",
   "metadata": {
    "slideshow": {
     "slide_type": "subslide"
    }
   },
   "source": [
    "<span class=\"header\">Exploring the past</span>\n",
    "\n",
    "### Overview of commit history\n",
    "<br>\n",
    "\n",
    "You can make it really clean and fancy:\n",
    "\n",
    "```sh\n",
    "git log \\\n",
    "    --graph \\\n",
    "    --date-order \\\n",
    "    --date=short \\\n",
    "    --pretty=format:'%C(cyan)%h %C(blue)%ar %C(auto)%d'`\n",
    "                   `'%C(yellow)%s%+b %C(magenta)%ae'\n",
    "```"
   ]
  },
  {
   "cell_type": "code",
   "execution_count": null,
   "metadata": {},
   "outputs": [],
   "source": [
    "git log \\\n",
    "    --graph \\\n",
    "    --date-order \\\n",
    "    --date=short \\\n",
    "    --pretty=format:'%C(cyan)%h %C(blue)%ar %C(auto)%d'`\n",
    "                   `'%C(yellow)%s%+b %C(magenta)%ae'"
   ]
  },
  {
   "cell_type": "markdown",
   "metadata": {},
   "source": [
    "<br>"
   ]
  },
  {
   "cell_type": "markdown",
   "metadata": {
    "slideshow": {
     "slide_type": "subslide"
    }
   },
   "source": [
    "<span class=\"header\">Exploring the past</span>\n",
    "\n",
    "### Overview of commit history\n",
    "<br>\n",
    "\n",
    "Or you can make it as a graph."
   ]
  },
  {
   "cell_type": "code",
   "execution_count": null,
   "metadata": {},
   "outputs": [],
   "source": [
    "git log --graph"
   ]
  },
  {
   "cell_type": "markdown",
   "metadata": {},
   "source": [
    "<br>"
   ]
  },
  {
   "cell_type": "markdown",
   "metadata": {
    "slideshow": {
     "slide_type": "subslide"
    }
   },
   "source": [
    "<span class=\"header\">Exploring the past</span>\n",
    "\n",
    "### Revisiting old commits\n",
    "<br>\n",
    "\n"
   ]
  },
  {
   "cell_type": "code",
   "execution_count": null,
   "metadata": {},
   "outputs": [],
   "source": [
    "git checkout xxxx"
   ]
  },
  {
   "cell_type": "code",
   "execution_count": null,
   "metadata": {},
   "outputs": [],
   "source": [
    "git checkout master"
   ]
  },
  {
   "cell_type": "code",
   "execution_count": null,
   "metadata": {},
   "outputs": [],
   "source": [
    "git checkout xxxx"
   ]
  },
  {
   "cell_type": "code",
   "execution_count": null,
   "metadata": {},
   "outputs": [],
   "source": [
    "git commit -a -m \"Exploration from commit xxx\""
   ]
  },
  {
   "cell_type": "code",
   "execution_count": null,
   "metadata": {},
   "outputs": [],
   "source": [
    "git checkout -b alternative_method"
   ]
  },
  {
   "cell_type": "code",
   "execution_count": null,
   "metadata": {},
   "outputs": [],
   "source": [
    "git checkout master"
   ]
  },
  {
   "cell_type": "markdown",
   "metadata": {},
   "source": [
    "<br>"
   ]
  },
  {
   "cell_type": "markdown",
   "metadata": {
    "cell_style": "center",
    "slideshow": {
     "slide_type": "slide"
    }
   },
   "source": [
    "## Undoing"
   ]
  },
  {
   "cell_type": "markdown",
   "metadata": {
    "slideshow": {
     "slide_type": "fragment"
    }
   },
   "source": [
    "<font color=\"#5c85d6\">**Safe**</font> = No data loss\n",
    "\n",
    "<font color=\"#e67300\">**NOT safe**</font> = Data loss"
   ]
  },
  {
   "cell_type": "markdown",
   "metadata": {
    "slideshow": {
     "slide_type": "subslide"
    }
   },
   "source": [
    "<span class=\"header\">Undoing</span>\n",
    "\n",
    "### Reverting\n",
    "<font color=\"#5c85d6\">**Safe**</font>\n",
    "<br>\n",
    "\n",
    "Create a new commit to return to the state of a previous commit."
   ]
  },
  {
   "cell_type": "code",
   "execution_count": null,
   "metadata": {},
   "outputs": [],
   "source": [
    "git revert"
   ]
  },
  {
   "cell_type": "markdown",
   "metadata": {},
   "source": [
    "<br>"
   ]
  },
  {
   "cell_type": "markdown",
   "metadata": {
    "slideshow": {
     "slide_type": "subslide"
    }
   },
   "source": [
    "<span class=\"header\">Undoing</span>\n",
    "\n",
    "### Throwing away unstaged changes\n",
    "<font color=\"#e67300\">**NOT safe**</font>\n",
    "<br>\n",
    "\n",
    "See https://stackoverflow.com/a/57880896/9210961"
   ]
  },
  {
   "cell_type": "code",
   "execution_count": null,
   "metadata": {},
   "outputs": [],
   "source": []
  },
  {
   "cell_type": "markdown",
   "metadata": {},
   "source": [
    "<br>"
   ]
  },
  {
   "cell_type": "markdown",
   "metadata": {
    "slideshow": {
     "slide_type": "subslide"
    }
   },
   "source": [
    "<span class=\"header\">Undoing</span>\n",
    "\n",
    "### Restoring the index (unstaging)\n",
    "<font color=\"#5c85d6\">**Safe**</font>\n",
    "<br>\n",
    "\n",
    "See https://stackoverflow.com/a/62569076/9210961"
   ]
  },
  {
   "cell_type": "code",
   "execution_count": null,
   "metadata": {},
   "outputs": [],
   "source": []
  },
  {
   "cell_type": "markdown",
   "metadata": {},
   "source": [
    "<br>"
   ]
  },
  {
   "cell_type": "markdown",
   "metadata": {
    "slideshow": {
     "slide_type": "subslide"
    }
   },
   "source": [
    "<span class=\"header\">Undoing</span>\n",
    "\n",
    "### Rewriting history: modifying the last commit message\n",
    "<font color=\"#5c85d6\">**Safe**</font>\n",
    "<br>"
   ]
  },
  {
   "cell_type": "code",
   "execution_count": null,
   "metadata": {},
   "outputs": [],
   "source": []
  },
  {
   "cell_type": "markdown",
   "metadata": {},
   "source": [
    "<br>"
   ]
  },
  {
   "cell_type": "markdown",
   "metadata": {
    "slideshow": {
     "slide_type": "subslide"
    }
   },
   "source": [
    "<span class=\"header\">Undoing</span>\n",
    "\n",
    "### Rewriting history: modifying the last commit\n",
    "<font color=\"#5c85d6\">**Safe**</font>\n",
    "<br>"
   ]
  },
  {
   "cell_type": "code",
   "execution_count": null,
   "metadata": {},
   "outputs": [],
   "source": []
  },
  {
   "cell_type": "markdown",
   "metadata": {},
   "source": [
    "<br>"
   ]
  },
  {
   "cell_type": "markdown",
   "metadata": {
    "slideshow": {
     "slide_type": "subslide"
    }
   },
   "source": [
    "<span class=\"header\">Undoing</span>\n",
    "\n",
    "### Rewriting history: modifying an older commit\n",
    "<font color=\"#5c85d6\">**Safe**</font>\n",
    "<br>"
   ]
  },
  {
   "cell_type": "code",
   "execution_count": null,
   "metadata": {},
   "outputs": [],
   "source": []
  },
  {
   "cell_type": "markdown",
   "metadata": {},
   "source": [
    "<br>"
   ]
  },
  {
   "cell_type": "markdown",
   "metadata": {
    "cell_style": "center",
    "slideshow": {
     "slide_type": "slide"
    }
   },
   "source": [
    "## Remotes"
   ]
  },
  {
   "cell_type": "markdown",
   "metadata": {
    "slideshow": {
     "slide_type": "subslide"
    }
   },
   "source": [
    "<span class=\"header\">Remotes</span>\n",
    "\n",
    "### \n",
    "<br>"
   ]
  },
  {
   "cell_type": "code",
   "execution_count": null,
   "metadata": {},
   "outputs": [],
   "source": []
  },
  {
   "cell_type": "markdown",
   "metadata": {},
   "source": [
    "<br>"
   ]
  },
  {
   "cell_type": "markdown",
   "metadata": {
    "cell_style": "split",
    "slideshow": {
     "slide_type": "slide"
    }
   },
   "source": [
    "<br><br><br><br><br><br> \n",
    "## Collaborating"
   ]
  },
  {
   "cell_type": "markdown",
   "metadata": {
    "cell_style": "split",
    "slideshow": {
     "slide_type": "-"
    }
   },
   "source": [
    "<br>\n",
    "<figure style=\"display: table; margin: 0 auto\">\n",
    "  <center>\n",
    "    <img src=\"gitpush_nw.png\" title=\"\" width=\"700vmin\" style=\"padding: 2vmin 0 0 0\">\n",
    "  </center>\n",
    "  <div align=\"right\" style=\"color: #978282; line-height: 0; font-size: 2vmin\">\n",
    "    <em>\n",
    "      from <a href=\"https://crystallize.com/comics\">crystallize comics</a>\n",
    "    </em>\n",
    "  </div>\n",
    "</figure>"
   ]
  }
 ],
 "metadata": {
  "celltoolbar": "Slideshow",
  "kernelspec": {
   "display_name": "Bash",
   "language": "bash",
   "name": "bash"
  },
  "language_info": {
   "codemirror_mode": "shell",
   "file_extension": ".sh",
   "mimetype": "text/x-sh",
   "name": "bash"
  },
  "name": "git.ipynb",
  "rise": {
   "autolaunch": true,
   "controls": false,
   "enable_chalkboard": true,
   "overlay": "<img src='wg_white_removed_medium.png' style='position:absolute;top:1%;left:0;width:15%;'>",
   "progress": true,
   "reveal_shortcuts": {
    "chalkboard": {
     "toggleChalkboard": "ctrl-o",
     "toggleNotesCanvas": "shift-o"
    }
   },
   "scroll": true,
   "transition": "none"
  },
  "toc": {
   "base_numbering": 1,
   "nav_menu": {
    "height": "141.987px",
    "width": "251.987px"
   },
   "number_sections": false,
   "sideBar": true,
   "skip_h1_title": true,
   "title_cell": "",
   "title_sidebar": "Contents",
   "toc_cell": false,
   "toc_position": {
    "height": "212.567px",
    "left": "788.846px",
    "top": "157.536px",
    "width": "262px"
   },
   "toc_section_display": false,
   "toc_window_display": false
  }
 },
 "nbformat": 4,
 "nbformat_minor": 4
}
