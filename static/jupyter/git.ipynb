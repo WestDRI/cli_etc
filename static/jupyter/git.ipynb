{
 "cells": [
  {
   "cell_type": "markdown",
   "metadata": {
    "slideshow": {
     "slide_type": "slide"
    }
   },
   "source": [
    "# Version control with Git"
   ]
  },
  {
   "cell_type": "markdown",
   "metadata": {
    "slideshow": {
     "slide_type": "subslide"
    },
    "toc": true
   },
   "source": [
    "<h1><span class=\"tocSkip\"></span></h1>\n",
    "<div class=\"toc\"><ul class=\"toc-item\"><li><span><a href=\"#Why-version-control?\" data-toc-modified-id=\"Why-version-control?-1\">Why version control?</a></span><ul class=\"toc-item\"><li><span><a href=\"#Git\" data-toc-modified-id=\"Git-1.1\">Git</a></span></li></ul></li><li><span><a href=\"#Documentation\" data-toc-modified-id=\"Documentation-2\">Documentation</a></span><ul class=\"toc-item\"><li><span><a href=\"#Man-pages\" data-toc-modified-id=\"Man-pages-2.1\">Man pages</a></span></li><li><span><a href=\"#Man-pages\" data-toc-modified-id=\"Man-pages-2.2\">Man pages</a></span></li></ul></li><li><span><a href=\"#Command-options\" data-toc-modified-id=\"Command-options-3\">Command options</a></span></li><li><span><a href=\"#Resources\" data-toc-modified-id=\"Resources-4\">Resources</a></span></li></ul></div>"
   ]
  },
  {
   "cell_type": "markdown",
   "metadata": {
    "slideshow": {
     "slide_type": "slide"
    }
   },
   "source": [
    "## Why version control?"
   ]
  },
  {
   "cell_type": "markdown",
   "metadata": {
    "slideshow": {
     "slide_type": "subslide"
    }
   },
   "source": [
    "<div align=\"right\"><font color=\"#e68a00\" size=\"5rem\"><b>Why version control?&emsp;&emsp;&emsp;</b></font></div><br><br>\n",
    "<center>\n",
    "  <img style=\"box-shadow: 0px 0px 6px rgba(0,0,0,0.3)\" src=\"https://phdcomics.com/comics/archive/phd101212s.gif\" title=\"\" width=\"500\">\n",
    "</center>"
   ]
  },
  {
   "cell_type": "markdown",
   "metadata": {
    "slideshow": {
     "slide_type": "subslide"
    }
   },
   "source": [
    "<div align=\"right\"><font color=\"#e68a00\" size=\"5rem\"><b>Why version control?&emsp;&emsp;&emsp;</b></font></div><br><br>\n",
    "\n",
    "We all know what life without Git looks like:\n",
    "\n",
    "- you work on a document\n",
    "- then you make changes, but you are not sure whether those changes really are an improvement. So you decide to keep the first version, in case\n",
    "- then you make new changes, so you save new files\n",
    "\n",
    "If you are extremely organized, you made sure to name them with the date. Most people aren't extremely organized...\n",
    "\n",
    "In no time, you have a folder full of versions of the same file and you may not even know which one is the current version. Some section may be better in one file (but you can't remember which), others in other files. It is a nightmare.\n",
    "\n",
    "What you are doing, without realizing it, is a form of version control. This home-made and chaotic approach however is not really efficient. There are power tools which allow to do this much better. Git is one such tools."
   ]
  },
  {
   "cell_type": "markdown",
   "metadata": {
    "slideshow": {
     "slide_type": "subslide"
    }
   },
   "source": [
    "### Git"
   ]
  },
  {
   "cell_type": "markdown",
   "metadata": {},
   "source": []
  },
  {
   "cell_type": "markdown",
   "metadata": {
    "slideshow": {
     "slide_type": "slide"
    }
   },
   "source": [
    "## Documentation"
   ]
  },
  {
   "cell_type": "markdown",
   "metadata": {
    "slideshow": {
     "slide_type": "subslide"
    }
   },
   "source": [
    "### Man pages"
   ]
  },
  {
   "cell_type": "markdown",
   "metadata": {
    "slideshow": {
     "slide_type": "-"
    }
   },
   "source": [
    "You can access the *man page* for a git command with either of:"
   ]
  },
  {
   "cell_type": "raw",
   "metadata": {},
   "source": [
    "git <command> --help"
   ]
  },
  {
   "cell_type": "raw",
   "metadata": {},
   "source": [
    "git help <command>"
   ]
  },
  {
   "cell_type": "raw",
   "metadata": {},
   "source": [
    "man git-<command>"
   ]
  },
  {
   "cell_type": "markdown",
   "metadata": {
    "slideshow": {
     "slide_type": "subslide"
    }
   },
   "source": [
    "### Man pages"
   ]
  },
  {
   "cell_type": "markdown",
   "metadata": {
    "slideshow": {
     "slide_type": "-"
    }
   },
   "source": [
    "*Example:*"
   ]
  },
  {
   "cell_type": "code",
   "execution_count": null,
   "metadata": {},
   "outputs": [],
   "source": [
    "git commit --help"
   ]
  },
  {
   "cell_type": "code",
   "execution_count": null,
   "metadata": {},
   "outputs": [],
   "source": [
    "git help commit"
   ]
  },
  {
   "cell_type": "code",
   "execution_count": null,
   "metadata": {},
   "outputs": [],
   "source": [
    "man git-commit"
   ]
  },
  {
   "cell_type": "markdown",
   "metadata": {
    "slideshow": {
     "slide_type": "subslide"
    }
   },
   "source": [
    "## Command options"
   ]
  },
  {
   "cell_type": "markdown",
   "metadata": {
    "slideshow": {
     "slide_type": "subslide"
    }
   },
   "source": [
    "## Resources"
   ]
  },
  {
   "cell_type": "markdown",
   "metadata": {
    "slideshow": {
     "slide_type": "slide"
    }
   },
   "source": [
    "# Git basic"
   ]
  }
 ],
 "metadata": {
  "celltoolbar": "Slideshow",
  "kernelspec": {
   "display_name": "Bash",
   "language": "bash",
   "name": "bash"
  },
  "language_info": {
   "codemirror_mode": "shell",
   "file_extension": ".sh",
   "mimetype": "text/x-sh",
   "name": "bash"
  },
  "name": "git.ipynb",
  "rise": {
   "controls": false,
   "enable_chalkboard": true,
   "overlay": "<img src='wg_white_removed_medium.png' style='position:absolute;top:1%;left:0;width:15%;'>",
   "progress": true,
   "reveal_shortcuts": {
    "chalkboard": {
     "toggleChalkboard": "ctrl-o",
     "toggleNotesCanvas": "shift-o"
    }
   },
   "scroll": true,
   "transition": "none"
  },
  "toc": {
   "base_numbering": 1,
   "nav_menu": {},
   "number_sections": false,
   "sideBar": true,
   "skip_h1_title": true,
   "title_cell": "",
   "title_sidebar": "Contents",
   "toc_cell": true,
   "toc_position": {
    "height": "212.567px",
    "left": "788.846px",
    "top": "157.536px",
    "width": "165px"
   },
   "toc_section_display": true,
   "toc_window_display": false
  }
 },
 "nbformat": 4,
 "nbformat_minor": 4
}
